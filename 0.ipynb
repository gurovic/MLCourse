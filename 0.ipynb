{
 "cells": [
  {
   "cell_type": "markdown",
   "metadata": {},
   "source": [
    "# **Exploratory Data Analysis (EDA): Исследовательский анализ данных**\n",
    "\n",
    "## **Введение в EDA**\n",
    "EDA — это искусство задавать правильные вопросы данным. Это первый и самый важный этап работы с данными, где мы:\n",
    "- 🕵️‍♂️ **Знакомимся** с данными\n",
    "- 🔍 **Выявляем** закономерности и аномалии\n",
    "- 📊 **Визуализируем** ключевые характеристики\n",
    "- 💡 **Формулируем** гипотезы для дальнейшего анализа\n",
    "\n",
    "**Цели EDA:**\n",
    "1. Понимание структуры данных\n",
    "2. Обнаружение выбросов и ошибок\n",
    "3. Выявление взаимосвязей между переменными\n",
    "4. Проверка предположений для моделей"
   ]
  },
  {
   "cell_type": "markdown",
   "metadata": {},
   "source": [
    "## **🟢 Базовый уровень: Статистический анализ данных**"
   ]
  },
  {
   "cell_type": "markdown",
   "metadata": {},
   "source": [
    "### **1.1 Первичное знакомство с данными**"
   ]
  },
  {
   "cell_type": "code",
   "execution_count": null,
   "metadata": {},
   "outputs": [],
   "source": [
    "import pandas as pd\n",
    "import seaborn as sns\n",
    "\n",
    "# Загрузка данных\n",
    "df = sns.load_dataset('titanic')\n",
    "\n",
    "# Основная информация\n",
    "print(\"Размер данных:\", df.shape)\n",
    "print(\"\\nПервые 5 строк:\")\n",
    "display(df.head())\n",
    "\n",
    "print(\"\\nТипы данных:\")\n",
    "display(df.dtypes)\n",
    "\n",
    "print(\"\\nПропуски:\")\n",
    "display(df.isnull().sum())"
   ]
  },
  {
   "cell_type": "markdown",
   "metadata": {},
   "source": [
    "### **1.2 Описательная статистика**"
   ]
  },
  {
   "cell_type": "code",
   "execution_count": null,
   "metadata": {},
   "outputs": [],
   "source": [
    "# Для числовых переменных\n",
    "print(\"Описательная статистика числовых колонок:\")\n",
    "display(df.describe())\n",
    "\n",
    "# Для категориальных переменных\n",
    "print(\"\\nОписательная статистика категориальных колонок:\")\n",
    "display(df.describe(include=['object']))"
   ]
  },
  {
   "cell_type": "markdown",
   "metadata": {},
   "source": [
    "### **1.3 Простые визуализации**"
   ]
  },
  {
   "cell_type": "code",
   "execution_count": null,
   "metadata": {},
   "outputs": [],
   "source": [
    "import matplotlib.pyplot as plt\n",
    "\n",
    "# Гистограмма распределения\n",
    "plt.figure(figsize=(10, 6))\n",
    "sns.histplot(df['age'].dropna(), kde=True, bins=20)\n",
    "plt.title('Распределение возраста пассажиров')\n",
    "plt.xlabel('Возраст')\n",
    "plt.ylabel('Частота')\n",
    "plt.show()\n",
    "\n",
    "# Boxplot для обнаружения выбросов\n",
    "plt.figure(figsize=(10, 6))\n",
    "sns.boxplot(x=df['fare'])\n",
    "plt.title('Распределение стоимости билетов')\n",
    "plt.xlabel('Стоимость билета')\n",
    "plt.ylabel('Частота')\n",
    "plt.show()"
   ]
  },
  {
   "cell_type": "markdown",
   "metadata": {},
   "source": [
    "### **1.4 Анализ категориальных переменных**"
   ]
  },
  {
   "cell_type": "code",
   "execution_count": null,
   "metadata": {},
   "outputs": [],
   "source": [
    "# Мозаичный график\n",
    "from statsmodels.graphics.mosaicplot import mosaic\n",
    "mosaic(df, ['gender', 'target'], title='Распределение таргета по полу') if 'target' in df.columns else print('Колонка target отсутствует')\n",
    "plt.show()\n",
    "\n",
    "# Тепловая карта частот\n",
    "cross_tab = pd.crosstab(df['city'], df['response']) if all(col in df.columns for col in ['city', 'response']) else None\n",
    "if cross_tab is not None:\n",
    "    sns.heatmap(cross_tab, annot=True, fmt='d', cmap='Blues')\n",
    "    plt.title('Тепловая карта частот')\n",
    "    plt.show()"
   ]
  },
  {
   "cell_type": "markdown",
   "metadata": {},
   "source": [
    "## **🟡 Продвинутый уровень: Анализ взаимосвязей**"
   ]
  },
  {
   "cell_type": "markdown",
   "metadata": {},
   "source": [
    "### **2.1 Корреляционный анализ**"
   ]
  },
  {
   "cell_type": "code",
   "execution_count": null,
   "metadata": {},
   "outputs": [],
   "source": [
    "# Матрица корреляций\n",
    "plt.figure(figsize=(12, 8))\n",
    "corr_matrix = df.corr(numeric_only=True)\n",
    "sns.heatmap(corr_matrix, annot=True, cmap='coolwarm', fmt=\".2f\")\n",
    "plt.title('Матрица корреляций')\n",
    "plt.show()\n",
    "\n",
    "# Парные взаимосвязи\n",
    "sns.pairplot(df[['age', 'fare', 'pclass']].dropna())\n",
    "plt.suptitle('Парные распределения', y=1.02)\n",
    "plt.show()"
   ]
  },
  {
   "cell_type": "markdown",
   "metadata": {},
   "source": [
    "### **2.2 Автоматизированный EDA**"
   ]
  },
  {
   "cell_type": "code",
   "execution_count": null,
   "metadata": {},
   "outputs": [],
   "source": [
    "# Установка библиотек (раскомментировать при первом запуске)\n",
    "# !pip install pandas-profiling sweetviz\n",
    "\n",
    "# Pandas Profiling\n",
    "from pandas_profiling import ProfileReport\n",
    "profile = ProfileReport(df, title='Автоматический EDA отчет Titanic')\n",
    "profile.to_file('titanic_report.html')\n",
    "\n",
    "# SweetViz\n",
    "import sweetviz as sv\n",
    "report = sv.analyze(df)\n",
    "report.show_html('sweetviz_report.html')"
   ]
  },
  {
   "cell_type": "markdown",
   "metadata": {},
   "source": [
    "### **2.3 Временные паттерны**"
   ]
  },
  {
   "cell_type": "code",
   "execution_count": null,
   "metadata": {},
   "outputs": [],
   "source": [
    "# Анализ трендов\n",
    "if 'date' in df.columns and 'sales' in df.columns:\n",
    "    df.resample('W')['sales'].mean().plot(\n",
    "        kind='area', \n",
    "        alpha=0.3, \n",
    "        title='Продажи по неделям'\n",
    "    )\n",
    "    plt.show()\n",
    "\n",
    "# Сезонная декомпозиция\n",
    "from statsmodels.tsa.seasonal import seasonal_decompose\n",
    "result = seasonal_decompose(df['fare'].dropna(), model='additive', period=365) if 'fare' in df.columns else None\n",
    "if result:\n",
    "    result.plot()\n",
    "    plt.show()"
   ]
  },
  {
   "cell_type": "markdown",
   "metadata": {},
   "source": [
    "## **🔴 Экспертный уровень: Продвинутые техники EDA**"
   ]
  },
  {
   "cell_type": "markdown",
   "metadata": {},
   "source": [
    "### **3.1 Анализ мультиколлинеарности**"
   ]
  },
  {
   "cell_type": "code",
   "execution_count": null,
   "metadata": {},
   "outputs": [],
   "source": [
    "from statsmodels.stats.outliers_influence import variance_inflation_factor\n",
    "import numpy as np\n",
    "\n",
    "# Расчет VIF\n",
    "X = df.select_dtypes(include=[np.number]).dropna()\n",
    "vif_data = pd.DataFrame()\n",
    "vif_data[\"feature\"] = X.columns\n",
    "vif_data[\"VIF\"] = [variance_inflation_factor(X.values, i) for i in range(X.shape[1])]\n",
    "print(vif_data.sort_values('VIF', ascending=False))\n",
    "\n",
    "# Визуализация зависимостей\n",
    "sns.pairplot(X[['age', 'fare', 'pclass']], kind='reg', plot_kws={'line_kws':{'color':'red'}})\n",
    "plt.show()"
   ]
  },
  {
   "cell_type": "markdown",
   "metadata": {},
   "source": [
    "### **3.2 Нелинейные зависимости**"
   ]
  },
  {
   "cell_type": "code",
   "execution_count": null,
   "metadata": {},
   "outputs": [],
   "source": [
    "# Mutual Information\n",
    "from sklearn.feature_selection import mutual_info_classif\n",
    "y = df['survived'] if 'survived' in df.columns else None\n",
    "if y is not None and not X.empty:\n",
    "    mi = mutual_info_classif(X, y)\n",
    "    mi_series = pd.Series(mi, index=X.columns)\n",
    "    mi_series.sort_values(ascending=False).plot(kind='barh')\n",
    "    plt.title('Mutual Information')\n",
    "    plt.show()\n",
    "\n",
    "# Частичные зависимости\n",
    "from sklearn.inspection import PartialDependenceDisplay\n",
    "if 'model' in locals():\n",
    "    PartialDependenceDisplay.from_estimator(model, X, features=[0, 1], grid_resolution=20)\n",
    "    plt.show()"
   ]
  },
  {
   "cell_type": "markdown",
   "metadata": {},
   "source": [
    "### **3.3 Большие данные**"
   ]
  },
  {
   "cell_type": "code",
   "execution_count": null,
   "metadata": {},
   "outputs": [],
   "source": [
    "# Dask для анализа\n",
    "from dask.dataframe import from_pandas\n",
    "ddf = from_pandas(df, npartitions=4)\n",
    "ddf_grouped = ddf.groupby('category')['value'].mean().compute() if 'category' in df.columns else None\n",
    "print(ddf_grouped)\n",
    "\n",
    "# Оптимизированная корреляция\n",
    "corr = ddf.corr().compute()\n",
    "print(corr)"
   ]
  },
  {
   "cell_type": "markdown",
   "metadata": {},
   "source": [
    "## **📊 Чеклист по уровням**\n",
    "| Уровень | Навыки |\n",
    "|---------|--------|\n",
    "| 🟢 | Гистограммы, boxplot, корреляционные матрицы |\n",
    "| 🟡 | 3D-визуализация, автоматизированные отчеты, временные паттерны |\n",
    "| 🔴 | VIF, частичные зависимости, анализ больших данных |"
   ]
  },
  {
   "cell_type": "markdown",
   "metadata": {},
   "source": [
    "## **⚠️ Антипаттерны**\n",
    "1. Игнорирование нормализации при сравнении переменных\n",
    "2. Неправильная интерпретация корреляции как причинно-следственной связи\n",
    "3. Анализ без domain knowledge (например, неучет бизнес-логики)\n",
    "4. Перегрузка визуализаций (более 5-7 переменных на графике)"
   ]
  },
  {
   "cell_type": "markdown",
   "metadata": {},
   "source": [
    "## **🚀 Продвинутые советы**"
   ]
  },
  {
   "cell_type": "code",
   "execution_count": null,
   "metadata": {},
   "outputs": [],
   "source": [
    "# Авто-VIZ для больших датасетов\n",
    "import dtale\n",
    "dtale.show(df).open_browser()\n",
    "\n",
    "# Кластеризация для EDA\n",
    "from sklearn.cluster import KMeans\n",
    "df['cluster'] = KMeans(n_clusters=5).fit_predict(X)\n",
    "sns.scatterplot(x='x', y='y', hue='cluster', data=df)\n",
    "plt.title('Кластеры')\n",
    "plt.show()\n",
    "\n",
    "# Проверка гипотез\n",
    "from scipy.stats import ttest_ind\n",
    "group1 = df[df['group'] == 'A']['value'] if 'group' in df.columns else None\n",
    "group2 = df[df['group'] == 'B']['value'] if group1 is not None else None\n",
    "if group1 is not None and group2 is not None:\n",
    "    print(ttest_ind(group1, group2))"
   ]
  },
  {
   "cell_type": "markdown",
   "metadata": {},
   "source": [
    "## **📈 Практический пример: Анализ Titanic**"
   ]
  },
  {
   "cell_type": "code",
   "execution_count": null,
   "metadata": {},
   "outputs": [],
   "source": [
    "# 🟢 Базовый EDA\n",
    "print(df[['Age', 'Fare']].describe())\n",
    "sns.heatmap(df[['Age', 'Fare', 'Survived']].corr(), annot=True)\n",
    "plt.title('Базовая корреляция')\n",
    "plt.show()\n",
    "\n",
    "# 🔴 Экспертный анализ\n",
    "from sklearn.decomposition import PCA\n",
    "pca = PCA(n_components=2)\n",
    "df[['pca1', 'pca2']] = pca.fit_transform(X)\n",
    "sns.scatterplot(x='pca1', y='pca2', hue='Survived', data=df)\n",
    "plt.title('PCA-анализ')\n",
    "plt.show()"
   ]
  }
 ],
 "metadata": {
  "kernelspec": {
   "display_name": "Python 3",
   "language": "python",
   "name": "python3"
  },
  "language_info": {
   "codemirror_mode": {
    "name": "ipython",
    "version": 3
   },
   "file_extension": ".py",
   "mimetype": "text/x-python",
   "name": "python",
   "nbconvert_exporter": "python",
   "pygments_lexer": "ipython3",
   "version": "3.9.12"
  }
 },
 "nbformat": 4,
 "nbformat_minor": 5
}