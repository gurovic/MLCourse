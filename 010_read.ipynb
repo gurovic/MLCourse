{
  "cells": [
    {
      "cell_type": "markdown",
      "metadata": {},
      "source": [
        "# Чтение данных в Pandas для ML"
      ]
    },
    {
      "cell_type": "code",
      "execution_count": null,
      "metadata": {
        "tags": []
      },
      "outputs": [],
      "source": [
        "!pip install pandas numpy matplotlib seaborn pyarrow fastparquet scipy cudf"
      ]
    },
    {
      "cell_type": "markdown",
      "metadata": {},
      "source": [
        "> ⚠️ How to install cudf for google colab"
      ]
    },
    {
      "cell_type": "code",
      "execution_count": null,
      "metadata": {
        "tags": []
      },
      "outputs": [],
      "source": [
        "!git clone https://github.com/rapidsai/rapidsai-csp-utils.git   \n!python rapidsai-csp-utils/colab/pip-install.py"
      ]
    },
    {
      "cell_type": "code",
      "execution_count": null,
      "metadata": {
        "tags": []
      },
      "outputs": [],
      "source": [
        "import pandas as pd\nimport numpy as np\n\n# Создание DataFrame с различными типами данных, пропусками и дубликатами для тестирования кода\ndata = {\n    'id': [1, 2, 3, 4, 5, 6, 7, 8, 9, 10, 2, 3], # Повторяющиеся id\n    'name': ['Иван', 'Петр', 'Анна', 'Мария', 'Сергей', 'Елена', 'Олег', 'Юлия', 'Дмитрий', 'Наталья', 'Петр', 'Анна'], # Повторяющиеся имена\n    'email': ['ivan@example.com', 'petr@example.com', np.nan, 'maria@example.com', 'sergey@example.com', 'elena@example.com', 'oleg@example.com', 'yulia@example.com', 'dmitry@example.com', 'natalya@example.com', 'petr@example.com', np.nan], # Повторяющиеся email и пропуски\n    'value': [100.5, 200.3, 150.0, np.nan, 300.1, 250.8, 180.0, 220.5, 280.9, 190.2, 200.3, 150.0], # Повторяющиеся значения и пропуски\n    'category': ['A', 'B', 'A', 'C', 'B', 'A', 'C', 'B', 'A', 'C', 'B', 'A'],\n    'date_col': pd.to_datetime(['2023-01-01', '2023-01-02', '2023-01-03', '2023-01-04', '2023-01-05', '2023-01-06', '2023-01-07', '2023-01-08', '2023-01-09', '2023-01-10', '2023-01-02', '2023-01-03']) # Повторяющиеся даты\n}\n\ndf_demo = pd.DataFrame(data)\n\n# Сохранение DataFrame в CSV файл с нестандартным разделителем и обозначениями пропусков\ndf_demo.to_csv('data.csv', sep=';', encoding='utf-8', index=False, na_rep='?')"
      ]
    },
    {
      "cell_type": "markdown",
      "metadata": {},
      "source": [
        "## 🟢 Базовый уровень (Must Know для начинающих)"
      ]
    },
    {
      "cell_type": "markdown",
      "metadata": {},
      "source": [
        "### 1.1 Чтение данных из CSV"
      ]
    },
    {
      "cell_type": "code",
      "execution_count": null,
      "metadata": {
        "tags": []
      },
      "outputs": [],
      "source": [
        "import pandas as pd\n\n# Простейший случай\ndf = pd.read_csv('data.csv')\n\n# Сложнее: работа с \"грязными\" файлами\ndf = pd.read_csv(\n    'data.csv',\n    sep=';',                 # нестандартный разделитель\n    encoding='utf-8',        # поддержка кириллицы или других кодировок\n    na_values=['NA', '?'],   # обозначения пропусков\n    parse_dates=['date_col'] # автоматический парсинг дат\n)"
      ]
    },
    {
      "cell_type": "markdown",
      "metadata": {},
      "source": [
        "> ⚠️ Если данные приходят без заголовков, используйте `header=None` и задайте названия колонок через `names`."
      ]
    },
    {
      "cell_type": "markdown",
      "metadata": {},
      "source": [
        "### 1.2 Просмотр данных"
      ]
    },
    {
      "cell_type": "code",
      "execution_count": null,
      "metadata": {
        "tags": []
      },
      "outputs": [],
      "source": [
        "print(\"Первые 5 строк:\")\ndisplay(df.head())\n\nprint(\"\\nОсновная статистика:\")\ndisplay(df.describe(include='all'))  # include='all' покажет все типы\n\nprint(\"\\nИнформация о типах:\")\ndisplay(df.info())"
      ]
    },
    {
      "cell_type": "markdown",
      "metadata": {},
      "source": [
        "> 💡 Для быстрого анализа можно использовать `pandas_profiling` или `sweetviz`."
      ]
    },
    {
      "cell_type": "markdown",
      "metadata": {},
      "source": [
        "### 1.3 Сохранение данных"
      ]
    },
    {
      "cell_type": "code",
      "execution_count": null,
      "metadata": {
        "tags": []
      },
      "outputs": [],
      "source": [
        "df.to_csv('processed_data.csv', index=False)  # без индексов\ndf.to_excel('report.xlsx', sheet_name='Data')  # сохранение в Excel"
      ]
    },
    {
      "cell_type": "markdown",
      "metadata": {},
      "source": [
        "> ✅ Всегда используйте `index=False`, если не нужно сохранять индекс."
      ]
    },
    {
      "cell_type": "markdown",
      "metadata": {},
      "source": [
        "### 1.4 Решение базовых проблем"
      ]
    },
    {
      "cell_type": "code",
      "execution_count": null,
      "metadata": {
        "tags": []
      },
      "outputs": [],
      "source": [
        "# Удаление пропусков\ndf.dropna(subset=['email'], inplace=True)\n\n# Заполнение пропусков медианой\ndf['value'] = pd.to_numeric(df['value'], errors='coerce') # некорректные значения превращаются в NaN\ndf.fillna({'age': df['value'].median()}, inplace=True)\n\n# Удаление дубликатов\ndf = df.drop_duplicates()"
      ]
    },
    {
      "cell_type": "markdown",
      "metadata": {},
      "source": [
        "> 💡 Можно заполнять пропуски и средним, и модой (`mode()`), в зависимости от типа данных."
      ]
    },
    {
      "cell_type": "markdown",
      "metadata": {},
      "source": [
        "## 🟡 Продвинутый уровень (Для опытных ML-инженеров)"
      ]
    },
    {
      "cell_type": "markdown",
      "metadata": {},
      "source": [
        "### 2.1 Оптимизация памяти"
      ]
    },
    {
      "cell_type": "code",
      "execution_count": null,
      "metadata": {
        "tags": []
      },
      "outputs": [],
      "source": [
        "def optimize_dtypes(df):\n    for col in df.select_dtypes(include=['int']).columns:\n        df[col] = pd.to_numeric(df[col], downcast='integer')\n    for col in df.select_dtypes(include=['float']).columns:\n        df[col] = pd.to_numeric(df[col], downcast='float')\n    return df\n\ndf = optimize_dtypes(df)\nprint(f\"Память: {df.memory_usage(deep=True).sum() / 1024**2:.2f} MB\")"
      ]
    },
    {
      "cell_type": "markdown",
      "metadata": {},
      "source": [
        "> 📈 Такая оптимизация особенно важна на этапе предобработки больших датасетов."
      ]
    },
    {
      "cell_type": "markdown",
      "metadata": {},
      "source": [
        "### 2.2 Работа с категориальными признаками"
      ]
    },
    {
      "cell_type": "code",
      "execution_count": null,
      "metadata": {
        "tags": []
      },
      "outputs": [],
      "source": [
        "# Преобразование в категориальный тип\ndf['category_col'] = df['category_col'].astype('category')\n\n# One-Hot Encoding\ndf = pd.get_dummies(df, columns=['category_col'], prefix='cat')"
      ]
    },
    {
      "cell_type": "markdown",
      "metadata": {},
      "source": [
        "> ⚠️ Для бустинговых моделей (CatBoost, LightGBM) лучше оставлять как `category`."
      ]
    },
    {
      "cell_type": "markdown",
      "metadata": {},
      "source": [
        "### 2.3 Эффективное чтение больших данных"
      ]
    },
    {
      "cell_type": "code",
      "execution_count": null,
      "metadata": {
        "tags": []
      },
      "outputs": [],
      "source": [
        "# Чтение только нужных столбцов\ncols = ['feature1', 'feature2', 'target']\ndf = pd.read_csv('big_data.csv', usecols=cols)\n\n# Сохранение в Parquet (быстрее CSV в 5–10 раз)\ndf.to_parquet('data.parquet', engine='pyarrow')"
      ]
    },
    {
      "cell_type": "markdown",
      "metadata": {},
      "source": [
        "> ✅ Используйте Parquet или Feather для хранения промежуточных результатов."
      ]
    },
    {
      "cell_type": "markdown",
      "metadata": {},
      "source": [
        "### 2.4 Интеграция с ML-библиотеками"
      ]
    },
    {
      "cell_type": "code",
      "execution_count": null,
      "metadata": {
        "tags": []
      },
      "outputs": [],
      "source": [
        "from sklearn.model_selection import train_test_split\n\nX = df.drop('target', axis=1).values\ny = df['target'].values\nX_train, X_test, y_train, y_test = train_test_split(X, y, test_size=0.2, random_state=42)"
      ]
    },
    {
      "cell_type": "markdown",
      "metadata": {},
      "source": [
        "> 💡 Для удобства работы можно оставить данные в виде `DataFrame` и использовать `.to_numpy()` при необходимости."
      ]
    },
    {
      "cell_type": "markdown",
      "metadata": {},
      "source": [
        "## 🔴 Экспертный уровень (Для хакатонов и Kaggle Grandmasters)"
      ]
    },
    {
      "cell_type": "markdown",
      "metadata": {},
      "source": [
        "### 3.1 Работа с гигабайтными данными"
      ]
    },
    {
      "cell_type": "code",
      "execution_count": null,
      "metadata": {
        "tags": []
      },
      "outputs": [],
      "source": [
        "chunk_size = 10**5  # 100k строк за раз\nfiltered_rows = []\n\nfor chunk in pd.read_csv('terabyte_data.csv', chunksize=chunk_size):\n    chunk = chunk[chunk['value'] > 0]  # фильтрация на лету\n    filtered_rows.append(chunk)\n\ndf = pd.concat(filtered_rows)"
      ]
    },
    {
      "cell_type": "markdown",
      "metadata": {},
      "source": [
        "> 📦 Это позволяет работать с файлами, которые больше доступной оперативной памяти."
      ]
    },
    {
      "cell_type": "markdown",
      "metadata": {},
      "source": [
        "### 3.2 Разреженные матрицы для текстов/NLP"
      ]
    },
    {
      "cell_type": "code",
      "execution_count": null,
      "metadata": {
        "tags": []
      },
      "outputs": [],
      "source": [
        "from sklearn.feature_extraction.text import TfidfVectorizer\nfrom scipy.sparse import save_npz\n\nvectorizer = TfidfVectorizer()\nsparse_matrix = vectorizer.fit_transform(df['text'])\n\n# Сохранение в формате, совместимом с LibSVM\nsave_npz('sparse_data.npz', sparse_matrix)"
      ]
    },
    {
      "cell_type": "markdown",
      "metadata": {},
      "source": [
        "> ✅ Разреженные матрицы экономят память и подходят для моделей вроде SVM, LogisticRegression."
      ]
    },
    {
      "cell_type": "markdown",
      "metadata": {},
      "source": [
        "### 3.3 GPU-ускорение с RAPIDS"
      ]
    },
    {
      "cell_type": "code",
      "execution_count": null,
      "metadata": {
        "tags": []
      },
      "outputs": [],
      "source": [
        "import cudf\n\n# Чтение данных на GPU\ngdf = cudf.read_csv('big_data.csv')\ngdf = gdf.query('value > 0')  # фильтрация в 10–50x быстрее, чем pandas\n\n# Конвертация в numpy для моделей\nX = gdf.to_pandas().values"
      ]
    },
    {
      "cell_type": "markdown",
      "metadata": {},
      "source": [
        "> 🚀 Требуется CUDA-совместимая видеокарта и установка библиотек RAPIDS."
      ]
    },
    {
      "cell_type": "markdown",
      "metadata": {},
      "source": [
        "### 3.4 Экстремальная оптимизация"
      ]
    },
    {
      "cell_type": "code",
      "execution_count": null,
      "metadata": {
        "tags": []
      },
      "outputs": [],
      "source": [
        "# Уменьшение точности float64 -> float16\ndf = df.astype({col: 'float16' for col in df.select_dtypes(include=['float']).columns})\n\n# Словарное сжатие для строк\ndf['text'] = df['text'].astype('category').cat.codes\n\n# Партицирование данных по ключу\ndf.groupby('month').apply(lambda x: x.to_parquet(f\"data_{x.name}.parquet\"))"
      ]
    },
    {
      "cell_type": "markdown",
      "metadata": {},
      "source": [
        "> 🧪 Полезно для очень больших датасетов, где каждый байт важен."
      ]
    },
    {
      "cell_type": "markdown",
      "metadata": {},
      "source": [
        "### 3.5 Инкрементальное обучение (Online Learning)"
      ]
    },
    {
      "cell_type": "code",
      "execution_count": null,
      "metadata": {
        "tags": []
      },
      "outputs": [],
      "source": [
        "from sklearn.linear_model import SGDClassifier\n\nmodel = SGDClassifier()\nfor chunk in pd.read_csv('stream.csv', chunksize=1000):\n    X = chunk.drop('target', axis=1)\n    y = chunk['target']\n    model.partial_fit(X, y, classes=np.unique(y))"
      ]
    },
    {
      "cell_type": "markdown",
      "metadata": {},
      "source": [
        "> 🔄 Подходит для потоковой обработки данных, например, в реальном времени."
      ]
    },
    {
      "cell_type": "markdown",
      "metadata": {},
      "source": [
        "## 📊 Чеклист по уровням\n\n| Уровень | Навыки |\n|--------|--------|\n| 🟢     | Чтение CSV/Excel, анализ данных, fillna/drop_duplicates |\n| 🟡     | Оптимизация типов, категориальные признаки, parquet, train_test_split |\n| 🔴     | Итеративная обработка, GPU-ускорение, разреженные матрицы, online learning |"
      ]
    },
    {
      "cell_type": "markdown",
      "metadata": {},
      "source": [
        "## ⚠️ Антипаттерны\n\n| Уровень | Что делать не стоит |\n|---------|---------------------|\n| 🟢      | Сохранять данные с индексом без необходимости |\n| 🟢      | Читать весь большой файл целиком ради просмотра |\n| 🟡      | Не использовать `usecols` при работе с большими файлами |\n| 🔴      | Игнорировать `dtype` при чтении больших данных |\n| 🔴      | Использовать медленные циклы вместо векторизованных операций |"
      ]
    },
    {
      "cell_type": "markdown",
      "metadata": {},
      "source": [
        "## 🚀 Полезные советы\n\n1. **Тестирование перед обработкой:**  \n   ```python\n   pd.read_csv('test_data.csv', nrows=10)  # проверка структуры\n   ```\n\n2. **Быстрая конвертация в NumPy:**  \n   ```python\n   X = df.values  # работает быстро\n   ```\n\n3. **Проверка памяти:**  \n   ```python\n   df.memory_usage(deep=True)\n   ```\n\n4. **Избежание копий:**  \n   Используйте `inplace=True` или переприсваивайте переменные явно."
      ]
    },
    {
      "cell_type": "markdown",
      "metadata": {},
      "source": [
        "## 📌 Итог\n\nPandas — основной инструмент для подготовки данных в ML. Он прост в освоении, но мощный в использовании. От базового анализа до экспертных техник вроде GPU-ускорения и онлайн-обучения — он покрывает полный цикл работы с данными.\n\n> 🎯 Главное правило: всегда помни, что ты готовишь данные **для модели**, поэтому делай это эффективно и аккуратно."
      ]
    }
  ],
  "metadata": {
    "kernelspec": {
      "display_name": "Python 3",
      "language": "python",
      "name": "python3"
    },
    "language_info": {
      "codemirror_mode": {
        "name": "ipython",
        "version": 3
      },
      "file_extension": ".py",
      "mimetype": "text/x-python",
      "name": "python",
      "nbconvert_exporter": "python",
      "pygments_lexer": "ipython3",
      "version": "3.10.13"
    }
  },
  "nbformat": 4,
  "nbformat_minor": 5
}
