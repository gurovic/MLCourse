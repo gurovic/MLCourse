{
  "cells": [
    {
      "cell_type": "markdown",
      "metadata": {
        "id": "view-in-github",
        "colab_type": "text"
      },
      "source": [
        "<a href=\"https://colab.research.google.com/github/gurovic/MLCourse/blob/main/010_read.ipynb\" target=\"_parent\"><img src=\"https://colab.research.google.com/assets/colab-badge.svg\" alt=\"Open In Colab\"/></a>"
      ]
    },
    {
      "cell_type": "markdown",
      "metadata": {
        "id": "6lPAJKBo4Uhk"
      },
      "source": [
        "# Чтение данных в Pandas для ML\n"
      ],
      "id": "6lPAJKBo4Uhk"
    },
    {
      "cell_type": "markdown",
      "source": [
        "## Подготовка среды и тестов"
      ],
      "metadata": {
        "id": "gTG73JrVGuQb"
      },
      "id": "gTG73JrVGuQb"
    },
    {
      "cell_type": "code",
      "execution_count": null,
      "metadata": {
        "tags": [],
        "id": "-6N6LLQM4Uhm"
      },
      "outputs": [],
      "source": [
        "!pip install pandas numpy matplotlib seaborn pyarrow fastparquet scipy cudf"
      ],
      "id": "-6N6LLQM4Uhm"
    },
    {
      "cell_type": "markdown",
      "metadata": {
        "id": "dWpqMo4E4Uhn"
      },
      "source": [
        "> ⚠️ How to install cudf for google colab:"
      ],
      "id": "dWpqMo4E4Uhn"
    },
    {
      "cell_type": "code",
      "execution_count": null,
      "metadata": {
        "tags": [],
        "id": "_aIlYMbU4Uho"
      },
      "outputs": [],
      "source": [
        "!git clone https://github.com/rapidsai/rapidsai-csp-utils.git\n",
        "!python rapidsai-csp-utils/colab/pip-install.py"
      ],
      "id": "_aIlYMbU4Uho"
    },
    {
      "cell_type": "code",
      "execution_count": 3,
      "metadata": {
        "tags": [],
        "id": "EQShXtcP4Uho"
      },
      "outputs": [],
      "source": [
        "import pandas as pd\n",
        "import numpy as np\n",
        "\n",
        "# Создание DataFrame с нуля с нужными столбцами\n",
        "data = {\n",
        "    'id': [1, 2, 3, 4, 5, 6, 7, 8, 9, 10, 2, 3],\n",
        "    'name': ['Иван', 'Петр', 'Анна', 'Мария', 'Сергей', 'Елена', 'Олег', 'Юлия', 'Дмитрий', 'Наталья', 'Петр', 'Анна'],\n",
        "    'email': ['ivan@example.com', 'petr@example.com', np.nan, 'maria@example.com', 'sergey@example.com', 'elena@example.com', 'oleg@example.com', 'yulia@example.com', 'dmitry@example.com', 'natalya@example.com', 'petr@example.com', np.nan],\n",
        "    'value': [100.5, 200.3, 150.0, np.nan, 300.1, 250.8, 180.0, 220.5, 280.9, 190.2, 200.3, 150.0],\n",
        "    'category_col1': ['A', 'B', 'A', 'C', 'B', 'A', 'C', 'B', 'A', 'C', 'B', 'A'],\n",
        "    'date_col': pd.to_datetime(['2023-01-01', '2023-01-02', '2023-01-03', '2023-01-04', '2023-01-05', '2023-01-06', '2023-01-07', '2023-01-08', '2023-01-09', '2023-01-10', '2023-01-02', '2023-01-03']),\n",
        "    'city': ['Москва', 'Санкт-Петербург', 'Москва', 'Казань', 'Санкт-Петербург', 'Москва', 'Казань', 'Москва', 'Санкт-Петербург', 'Казань', 'Санкт-Петербург', 'Москва'],\n",
        "    'target': [1, 0, 0, 1, 1, 1, 0, 1, 0, 1, 0, 0]\n",
        "}\n",
        "\n",
        "df_demo = pd.DataFrame(data)\n",
        "\n",
        "# Сохранение DataFrame в CSV файл\n",
        "df_demo.to_csv('data.csv', encoding='utf-8', index=False, na_rep='?')\n"
      ],
      "id": "EQShXtcP4Uho"
    },
    {
      "cell_type": "markdown",
      "metadata": {
        "id": "9nR8Y-ih4Uhp"
      },
      "source": [
        "## 🟢 Базовый уровень (Must Know для начинающих)"
      ],
      "id": "9nR8Y-ih4Uhp"
    },
    {
      "cell_type": "markdown",
      "metadata": {
        "id": "GTrQYCuf4Uhp"
      },
      "source": [
        "### 1.1 Чтение данных из CSV"
      ],
      "id": "GTrQYCuf4Uhp"
    },
    {
      "cell_type": "code",
      "execution_count": 4,
      "metadata": {
        "tags": [],
        "id": "WbBwbO1e4Uhp"
      },
      "outputs": [],
      "source": [
        "import pandas as pd\n",
        "\n",
        "# Простейший случай\n",
        "df = pd.read_csv('data.csv')\n",
        "\n",
        "# Сложнее: работа с \"грязными\" файлами\n",
        "df = pd.read_csv(\n",
        "    'data.csv',\n",
        "    sep=',',                 # нестандартный разделитель\n",
        "    encoding='utf-8',        # поддержка кириллицы или других кодировок\n",
        "    na_values=['NA', '?'],   # обозначения пропусков\n",
        "    parse_dates=['date_col'] # автоматический парсинг дат\n",
        ")"
      ],
      "id": "WbBwbO1e4Uhp"
    },
    {
      "cell_type": "markdown",
      "metadata": {
        "id": "p-VQVtmm4Uhq"
      },
      "source": [
        "> ⚠️ Если данные приходят без заголовков, используйте `header=None` и задайте названия колонок через `names`."
      ],
      "id": "p-VQVtmm4Uhq"
    },
    {
      "cell_type": "markdown",
      "metadata": {
        "id": "x4loE3te4Uhq"
      },
      "source": [
        "### 1.2 Просмотр данных"
      ],
      "id": "x4loE3te4Uhq"
    },
    {
      "cell_type": "code",
      "execution_count": 5,
      "metadata": {
        "tags": [],
        "colab": {
          "base_uri": "https://localhost:8080/",
          "height": 948
        },
        "id": "R8t7bQi24Uhq",
        "outputId": "838f18a7-60e3-418c-b07f-a6225cf5f4ed"
      },
      "outputs": [
        {
          "output_type": "stream",
          "name": "stdout",
          "text": [
            "Первые 5 строк:\n"
          ]
        },
        {
          "output_type": "display_data",
          "data": {
            "text/plain": [
              "   id    name               email  value category_col1   date_col  \\\n",
              "0   1    Иван    ivan@example.com  100.5             A 2023-01-01   \n",
              "1   2    Петр    petr@example.com  200.3             B 2023-01-02   \n",
              "2   3    Анна                 NaN  150.0             A 2023-01-03   \n",
              "3   4   Мария   maria@example.com    NaN             C 2023-01-04   \n",
              "4   5  Сергей  sergey@example.com  300.1             B 2023-01-05   \n",
              "\n",
              "              city  target  \n",
              "0           Москва       1  \n",
              "1  Санкт-Петербург       0  \n",
              "2           Москва       0  \n",
              "3           Казань       1  \n",
              "4  Санкт-Петербург       1  "
            ],
            "text/html": [
              "\n",
              "  <div id=\"df-67751bab-d189-4c42-aa64-0bb2b7820ae2\" class=\"colab-df-container\">\n",
              "    <div>\n",
              "<style scoped>\n",
              "    .dataframe tbody tr th:only-of-type {\n",
              "        vertical-align: middle;\n",
              "    }\n",
              "\n",
              "    .dataframe tbody tr th {\n",
              "        vertical-align: top;\n",
              "    }\n",
              "\n",
              "    .dataframe thead th {\n",
              "        text-align: right;\n",
              "    }\n",
              "</style>\n",
              "<table border=\"1\" class=\"dataframe\">\n",
              "  <thead>\n",
              "    <tr style=\"text-align: right;\">\n",
              "      <th></th>\n",
              "      <th>id</th>\n",
              "      <th>name</th>\n",
              "      <th>email</th>\n",
              "      <th>value</th>\n",
              "      <th>category_col1</th>\n",
              "      <th>date_col</th>\n",
              "      <th>city</th>\n",
              "      <th>target</th>\n",
              "    </tr>\n",
              "  </thead>\n",
              "  <tbody>\n",
              "    <tr>\n",
              "      <th>0</th>\n",
              "      <td>1</td>\n",
              "      <td>Иван</td>\n",
              "      <td>ivan@example.com</td>\n",
              "      <td>100.5</td>\n",
              "      <td>A</td>\n",
              "      <td>2023-01-01</td>\n",
              "      <td>Москва</td>\n",
              "      <td>1</td>\n",
              "    </tr>\n",
              "    <tr>\n",
              "      <th>1</th>\n",
              "      <td>2</td>\n",
              "      <td>Петр</td>\n",
              "      <td>petr@example.com</td>\n",
              "      <td>200.3</td>\n",
              "      <td>B</td>\n",
              "      <td>2023-01-02</td>\n",
              "      <td>Санкт-Петербург</td>\n",
              "      <td>0</td>\n",
              "    </tr>\n",
              "    <tr>\n",
              "      <th>2</th>\n",
              "      <td>3</td>\n",
              "      <td>Анна</td>\n",
              "      <td>NaN</td>\n",
              "      <td>150.0</td>\n",
              "      <td>A</td>\n",
              "      <td>2023-01-03</td>\n",
              "      <td>Москва</td>\n",
              "      <td>0</td>\n",
              "    </tr>\n",
              "    <tr>\n",
              "      <th>3</th>\n",
              "      <td>4</td>\n",
              "      <td>Мария</td>\n",
              "      <td>maria@example.com</td>\n",
              "      <td>NaN</td>\n",
              "      <td>C</td>\n",
              "      <td>2023-01-04</td>\n",
              "      <td>Казань</td>\n",
              "      <td>1</td>\n",
              "    </tr>\n",
              "    <tr>\n",
              "      <th>4</th>\n",
              "      <td>5</td>\n",
              "      <td>Сергей</td>\n",
              "      <td>sergey@example.com</td>\n",
              "      <td>300.1</td>\n",
              "      <td>B</td>\n",
              "      <td>2023-01-05</td>\n",
              "      <td>Санкт-Петербург</td>\n",
              "      <td>1</td>\n",
              "    </tr>\n",
              "  </tbody>\n",
              "</table>\n",
              "</div>\n",
              "    <div class=\"colab-df-buttons\">\n",
              "\n",
              "  <div class=\"colab-df-container\">\n",
              "    <button class=\"colab-df-convert\" onclick=\"convertToInteractive('df-67751bab-d189-4c42-aa64-0bb2b7820ae2')\"\n",
              "            title=\"Convert this dataframe to an interactive table.\"\n",
              "            style=\"display:none;\">\n",
              "\n",
              "  <svg xmlns=\"http://www.w3.org/2000/svg\" height=\"24px\" viewBox=\"0 -960 960 960\">\n",
              "    <path d=\"M120-120v-720h720v720H120Zm60-500h600v-160H180v160Zm220 220h160v-160H400v160Zm0 220h160v-160H400v160ZM180-400h160v-160H180v160Zm440 0h160v-160H620v160ZM180-180h160v-160H180v160Zm440 0h160v-160H620v160Z\"/>\n",
              "  </svg>\n",
              "    </button>\n",
              "\n",
              "  <style>\n",
              "    .colab-df-container {\n",
              "      display:flex;\n",
              "      gap: 12px;\n",
              "    }\n",
              "\n",
              "    .colab-df-convert {\n",
              "      background-color: #E8F0FE;\n",
              "      border: none;\n",
              "      border-radius: 50%;\n",
              "      cursor: pointer;\n",
              "      display: none;\n",
              "      fill: #1967D2;\n",
              "      height: 32px;\n",
              "      padding: 0 0 0 0;\n",
              "      width: 32px;\n",
              "    }\n",
              "\n",
              "    .colab-df-convert:hover {\n",
              "      background-color: #E2EBFA;\n",
              "      box-shadow: 0px 1px 2px rgba(60, 64, 67, 0.3), 0px 1px 3px 1px rgba(60, 64, 67, 0.15);\n",
              "      fill: #174EA6;\n",
              "    }\n",
              "\n",
              "    .colab-df-buttons div {\n",
              "      margin-bottom: 4px;\n",
              "    }\n",
              "\n",
              "    [theme=dark] .colab-df-convert {\n",
              "      background-color: #3B4455;\n",
              "      fill: #D2E3FC;\n",
              "    }\n",
              "\n",
              "    [theme=dark] .colab-df-convert:hover {\n",
              "      background-color: #434B5C;\n",
              "      box-shadow: 0px 1px 3px 1px rgba(0, 0, 0, 0.15);\n",
              "      filter: drop-shadow(0px 1px 2px rgba(0, 0, 0, 0.3));\n",
              "      fill: #FFFFFF;\n",
              "    }\n",
              "  </style>\n",
              "\n",
              "    <script>\n",
              "      const buttonEl =\n",
              "        document.querySelector('#df-67751bab-d189-4c42-aa64-0bb2b7820ae2 button.colab-df-convert');\n",
              "      buttonEl.style.display =\n",
              "        google.colab.kernel.accessAllowed ? 'block' : 'none';\n",
              "\n",
              "      async function convertToInteractive(key) {\n",
              "        const element = document.querySelector('#df-67751bab-d189-4c42-aa64-0bb2b7820ae2');\n",
              "        const dataTable =\n",
              "          await google.colab.kernel.invokeFunction('convertToInteractive',\n",
              "                                                    [key], {});\n",
              "        if (!dataTable) return;\n",
              "\n",
              "        const docLinkHtml = 'Like what you see? Visit the ' +\n",
              "          '<a target=\"_blank\" href=https://colab.research.google.com/notebooks/data_table.ipynb>data table notebook</a>'\n",
              "          + ' to learn more about interactive tables.';\n",
              "        element.innerHTML = '';\n",
              "        dataTable['output_type'] = 'display_data';\n",
              "        await google.colab.output.renderOutput(dataTable, element);\n",
              "        const docLink = document.createElement('div');\n",
              "        docLink.innerHTML = docLinkHtml;\n",
              "        element.appendChild(docLink);\n",
              "      }\n",
              "    </script>\n",
              "  </div>\n",
              "\n",
              "\n",
              "    <div id=\"df-08903775-6033-4234-b94c-de4d1ad04b8c\">\n",
              "      <button class=\"colab-df-quickchart\" onclick=\"quickchart('df-08903775-6033-4234-b94c-de4d1ad04b8c')\"\n",
              "                title=\"Suggest charts\"\n",
              "                style=\"display:none;\">\n",
              "\n",
              "<svg xmlns=\"http://www.w3.org/2000/svg\" height=\"24px\"viewBox=\"0 0 24 24\"\n",
              "     width=\"24px\">\n",
              "    <g>\n",
              "        <path d=\"M19 3H5c-1.1 0-2 .9-2 2v14c0 1.1.9 2 2 2h14c1.1 0 2-.9 2-2V5c0-1.1-.9-2-2-2zM9 17H7v-7h2v7zm4 0h-2V7h2v10zm4 0h-2v-4h2v4z\"/>\n",
              "    </g>\n",
              "</svg>\n",
              "      </button>\n",
              "\n",
              "<style>\n",
              "  .colab-df-quickchart {\n",
              "      --bg-color: #E8F0FE;\n",
              "      --fill-color: #1967D2;\n",
              "      --hover-bg-color: #E2EBFA;\n",
              "      --hover-fill-color: #174EA6;\n",
              "      --disabled-fill-color: #AAA;\n",
              "      --disabled-bg-color: #DDD;\n",
              "  }\n",
              "\n",
              "  [theme=dark] .colab-df-quickchart {\n",
              "      --bg-color: #3B4455;\n",
              "      --fill-color: #D2E3FC;\n",
              "      --hover-bg-color: #434B5C;\n",
              "      --hover-fill-color: #FFFFFF;\n",
              "      --disabled-bg-color: #3B4455;\n",
              "      --disabled-fill-color: #666;\n",
              "  }\n",
              "\n",
              "  .colab-df-quickchart {\n",
              "    background-color: var(--bg-color);\n",
              "    border: none;\n",
              "    border-radius: 50%;\n",
              "    cursor: pointer;\n",
              "    display: none;\n",
              "    fill: var(--fill-color);\n",
              "    height: 32px;\n",
              "    padding: 0;\n",
              "    width: 32px;\n",
              "  }\n",
              "\n",
              "  .colab-df-quickchart:hover {\n",
              "    background-color: var(--hover-bg-color);\n",
              "    box-shadow: 0 1px 2px rgba(60, 64, 67, 0.3), 0 1px 3px 1px rgba(60, 64, 67, 0.15);\n",
              "    fill: var(--button-hover-fill-color);\n",
              "  }\n",
              "\n",
              "  .colab-df-quickchart-complete:disabled,\n",
              "  .colab-df-quickchart-complete:disabled:hover {\n",
              "    background-color: var(--disabled-bg-color);\n",
              "    fill: var(--disabled-fill-color);\n",
              "    box-shadow: none;\n",
              "  }\n",
              "\n",
              "  .colab-df-spinner {\n",
              "    border: 2px solid var(--fill-color);\n",
              "    border-color: transparent;\n",
              "    border-bottom-color: var(--fill-color);\n",
              "    animation:\n",
              "      spin 1s steps(1) infinite;\n",
              "  }\n",
              "\n",
              "  @keyframes spin {\n",
              "    0% {\n",
              "      border-color: transparent;\n",
              "      border-bottom-color: var(--fill-color);\n",
              "      border-left-color: var(--fill-color);\n",
              "    }\n",
              "    20% {\n",
              "      border-color: transparent;\n",
              "      border-left-color: var(--fill-color);\n",
              "      border-top-color: var(--fill-color);\n",
              "    }\n",
              "    30% {\n",
              "      border-color: transparent;\n",
              "      border-left-color: var(--fill-color);\n",
              "      border-top-color: var(--fill-color);\n",
              "      border-right-color: var(--fill-color);\n",
              "    }\n",
              "    40% {\n",
              "      border-color: transparent;\n",
              "      border-right-color: var(--fill-color);\n",
              "      border-top-color: var(--fill-color);\n",
              "    }\n",
              "    60% {\n",
              "      border-color: transparent;\n",
              "      border-right-color: var(--fill-color);\n",
              "    }\n",
              "    80% {\n",
              "      border-color: transparent;\n",
              "      border-right-color: var(--fill-color);\n",
              "      border-bottom-color: var(--fill-color);\n",
              "    }\n",
              "    90% {\n",
              "      border-color: transparent;\n",
              "      border-bottom-color: var(--fill-color);\n",
              "    }\n",
              "  }\n",
              "</style>\n",
              "\n",
              "      <script>\n",
              "        async function quickchart(key) {\n",
              "          const quickchartButtonEl =\n",
              "            document.querySelector('#' + key + ' button');\n",
              "          quickchartButtonEl.disabled = true;  // To prevent multiple clicks.\n",
              "          quickchartButtonEl.classList.add('colab-df-spinner');\n",
              "          try {\n",
              "            const charts = await google.colab.kernel.invokeFunction(\n",
              "                'suggestCharts', [key], {});\n",
              "          } catch (error) {\n",
              "            console.error('Error during call to suggestCharts:', error);\n",
              "          }\n",
              "          quickchartButtonEl.classList.remove('colab-df-spinner');\n",
              "          quickchartButtonEl.classList.add('colab-df-quickchart-complete');\n",
              "        }\n",
              "        (() => {\n",
              "          let quickchartButtonEl =\n",
              "            document.querySelector('#df-08903775-6033-4234-b94c-de4d1ad04b8c button');\n",
              "          quickchartButtonEl.style.display =\n",
              "            google.colab.kernel.accessAllowed ? 'block' : 'none';\n",
              "        })();\n",
              "      </script>\n",
              "    </div>\n",
              "    </div>\n",
              "  </div>\n"
            ],
            "application/vnd.google.colaboratory.intrinsic+json": {
              "type": "dataframe",
              "summary": "{\n  \"name\": \"display(df\",\n  \"rows\": 5,\n  \"fields\": [\n    {\n      \"column\": \"id\",\n      \"properties\": {\n        \"dtype\": \"number\",\n        \"std\": 1,\n        \"min\": 1,\n        \"max\": 5,\n        \"num_unique_values\": 5,\n        \"samples\": [\n          2,\n          5,\n          3\n        ],\n        \"semantic_type\": \"\",\n        \"description\": \"\"\n      }\n    },\n    {\n      \"column\": \"name\",\n      \"properties\": {\n        \"dtype\": \"string\",\n        \"num_unique_values\": 5,\n        \"samples\": [\n          \"\\u041f\\u0435\\u0442\\u0440\",\n          \"\\u0421\\u0435\\u0440\\u0433\\u0435\\u0439\",\n          \"\\u0410\\u043d\\u043d\\u0430\"\n        ],\n        \"semantic_type\": \"\",\n        \"description\": \"\"\n      }\n    },\n    {\n      \"column\": \"email\",\n      \"properties\": {\n        \"dtype\": \"string\",\n        \"num_unique_values\": 4,\n        \"samples\": [\n          \"petr@example.com\",\n          \"sergey@example.com\",\n          \"ivan@example.com\"\n        ],\n        \"semantic_type\": \"\",\n        \"description\": \"\"\n      }\n    },\n    {\n      \"column\": \"value\",\n      \"properties\": {\n        \"dtype\": \"number\",\n        \"std\": 85.27924229650888,\n        \"min\": 100.5,\n        \"max\": 300.1,\n        \"num_unique_values\": 4,\n        \"samples\": [\n          200.3,\n          300.1,\n          100.5\n        ],\n        \"semantic_type\": \"\",\n        \"description\": \"\"\n      }\n    },\n    {\n      \"column\": \"category_col1\",\n      \"properties\": {\n        \"dtype\": \"string\",\n        \"num_unique_values\": 3,\n        \"samples\": [\n          \"A\",\n          \"B\",\n          \"C\"\n        ],\n        \"semantic_type\": \"\",\n        \"description\": \"\"\n      }\n    },\n    {\n      \"column\": \"date_col\",\n      \"properties\": {\n        \"dtype\": \"date\",\n        \"min\": \"2023-01-01 00:00:00\",\n        \"max\": \"2023-01-05 00:00:00\",\n        \"num_unique_values\": 5,\n        \"samples\": [\n          \"2023-01-02 00:00:00\",\n          \"2023-01-05 00:00:00\",\n          \"2023-01-03 00:00:00\"\n        ],\n        \"semantic_type\": \"\",\n        \"description\": \"\"\n      }\n    },\n    {\n      \"column\": \"city\",\n      \"properties\": {\n        \"dtype\": \"string\",\n        \"num_unique_values\": 3,\n        \"samples\": [\n          \"\\u041c\\u043e\\u0441\\u043a\\u0432\\u0430\",\n          \"\\u0421\\u0430\\u043d\\u043a\\u0442-\\u041f\\u0435\\u0442\\u0435\\u0440\\u0431\\u0443\\u0440\\u0433\",\n          \"\\u041a\\u0430\\u0437\\u0430\\u043d\\u044c\"\n        ],\n        \"semantic_type\": \"\",\n        \"description\": \"\"\n      }\n    },\n    {\n      \"column\": \"target\",\n      \"properties\": {\n        \"dtype\": \"number\",\n        \"std\": 0,\n        \"min\": 0,\n        \"max\": 1,\n        \"num_unique_values\": 2,\n        \"samples\": [\n          0,\n          1\n        ],\n        \"semantic_type\": \"\",\n        \"description\": \"\"\n      }\n    }\n  ]\n}"
            }
          },
          "metadata": {}
        },
        {
          "output_type": "stream",
          "name": "stdout",
          "text": [
            "\n",
            "Основная статистика:\n"
          ]
        },
        {
          "output_type": "display_data",
          "data": {
            "text/plain": [
              "              id  name             email       value category_col1  \\\n",
              "count   12.00000    12                10   11.000000            12   \n",
              "unique       NaN    10                 9         NaN             3   \n",
              "top          NaN  Петр  petr@example.com         NaN             A   \n",
              "freq         NaN     2                 2         NaN             5   \n",
              "mean     5.00000   NaN               NaN  202.145455           NaN   \n",
              "min      1.00000   NaN               NaN  100.500000           NaN   \n",
              "25%      2.75000   NaN               NaN  165.000000           NaN   \n",
              "50%      4.50000   NaN               NaN  200.300000           NaN   \n",
              "75%      7.25000   NaN               NaN  235.650000           NaN   \n",
              "max     10.00000   NaN               NaN  300.100000           NaN   \n",
              "std      2.98481   NaN               NaN   59.085994           NaN   \n",
              "\n",
              "                   date_col    city     target  \n",
              "count                    12      12  12.000000  \n",
              "unique                  NaN       3        NaN  \n",
              "top                     NaN  Москва        NaN  \n",
              "freq                    NaN       5        NaN  \n",
              "mean    2023-01-05 00:00:00     NaN   0.500000  \n",
              "min     2023-01-01 00:00:00     NaN   0.000000  \n",
              "25%     2023-01-02 18:00:00     NaN   0.000000  \n",
              "50%     2023-01-04 12:00:00     NaN   0.500000  \n",
              "75%     2023-01-07 06:00:00     NaN   1.000000  \n",
              "max     2023-01-10 00:00:00     NaN   1.000000  \n",
              "std                     NaN     NaN   0.522233  "
            ],
            "text/html": [
              "\n",
              "  <div id=\"df-280a60e4-32f8-48a9-9762-cd5775ce3505\" class=\"colab-df-container\">\n",
              "    <div>\n",
              "<style scoped>\n",
              "    .dataframe tbody tr th:only-of-type {\n",
              "        vertical-align: middle;\n",
              "    }\n",
              "\n",
              "    .dataframe tbody tr th {\n",
              "        vertical-align: top;\n",
              "    }\n",
              "\n",
              "    .dataframe thead th {\n",
              "        text-align: right;\n",
              "    }\n",
              "</style>\n",
              "<table border=\"1\" class=\"dataframe\">\n",
              "  <thead>\n",
              "    <tr style=\"text-align: right;\">\n",
              "      <th></th>\n",
              "      <th>id</th>\n",
              "      <th>name</th>\n",
              "      <th>email</th>\n",
              "      <th>value</th>\n",
              "      <th>category_col1</th>\n",
              "      <th>date_col</th>\n",
              "      <th>city</th>\n",
              "      <th>target</th>\n",
              "    </tr>\n",
              "  </thead>\n",
              "  <tbody>\n",
              "    <tr>\n",
              "      <th>count</th>\n",
              "      <td>12.00000</td>\n",
              "      <td>12</td>\n",
              "      <td>10</td>\n",
              "      <td>11.000000</td>\n",
              "      <td>12</td>\n",
              "      <td>12</td>\n",
              "      <td>12</td>\n",
              "      <td>12.000000</td>\n",
              "    </tr>\n",
              "    <tr>\n",
              "      <th>unique</th>\n",
              "      <td>NaN</td>\n",
              "      <td>10</td>\n",
              "      <td>9</td>\n",
              "      <td>NaN</td>\n",
              "      <td>3</td>\n",
              "      <td>NaN</td>\n",
              "      <td>3</td>\n",
              "      <td>NaN</td>\n",
              "    </tr>\n",
              "    <tr>\n",
              "      <th>top</th>\n",
              "      <td>NaN</td>\n",
              "      <td>Петр</td>\n",
              "      <td>petr@example.com</td>\n",
              "      <td>NaN</td>\n",
              "      <td>A</td>\n",
              "      <td>NaN</td>\n",
              "      <td>Москва</td>\n",
              "      <td>NaN</td>\n",
              "    </tr>\n",
              "    <tr>\n",
              "      <th>freq</th>\n",
              "      <td>NaN</td>\n",
              "      <td>2</td>\n",
              "      <td>2</td>\n",
              "      <td>NaN</td>\n",
              "      <td>5</td>\n",
              "      <td>NaN</td>\n",
              "      <td>5</td>\n",
              "      <td>NaN</td>\n",
              "    </tr>\n",
              "    <tr>\n",
              "      <th>mean</th>\n",
              "      <td>5.00000</td>\n",
              "      <td>NaN</td>\n",
              "      <td>NaN</td>\n",
              "      <td>202.145455</td>\n",
              "      <td>NaN</td>\n",
              "      <td>2023-01-05 00:00:00</td>\n",
              "      <td>NaN</td>\n",
              "      <td>0.500000</td>\n",
              "    </tr>\n",
              "    <tr>\n",
              "      <th>min</th>\n",
              "      <td>1.00000</td>\n",
              "      <td>NaN</td>\n",
              "      <td>NaN</td>\n",
              "      <td>100.500000</td>\n",
              "      <td>NaN</td>\n",
              "      <td>2023-01-01 00:00:00</td>\n",
              "      <td>NaN</td>\n",
              "      <td>0.000000</td>\n",
              "    </tr>\n",
              "    <tr>\n",
              "      <th>25%</th>\n",
              "      <td>2.75000</td>\n",
              "      <td>NaN</td>\n",
              "      <td>NaN</td>\n",
              "      <td>165.000000</td>\n",
              "      <td>NaN</td>\n",
              "      <td>2023-01-02 18:00:00</td>\n",
              "      <td>NaN</td>\n",
              "      <td>0.000000</td>\n",
              "    </tr>\n",
              "    <tr>\n",
              "      <th>50%</th>\n",
              "      <td>4.50000</td>\n",
              "      <td>NaN</td>\n",
              "      <td>NaN</td>\n",
              "      <td>200.300000</td>\n",
              "      <td>NaN</td>\n",
              "      <td>2023-01-04 12:00:00</td>\n",
              "      <td>NaN</td>\n",
              "      <td>0.500000</td>\n",
              "    </tr>\n",
              "    <tr>\n",
              "      <th>75%</th>\n",
              "      <td>7.25000</td>\n",
              "      <td>NaN</td>\n",
              "      <td>NaN</td>\n",
              "      <td>235.650000</td>\n",
              "      <td>NaN</td>\n",
              "      <td>2023-01-07 06:00:00</td>\n",
              "      <td>NaN</td>\n",
              "      <td>1.000000</td>\n",
              "    </tr>\n",
              "    <tr>\n",
              "      <th>max</th>\n",
              "      <td>10.00000</td>\n",
              "      <td>NaN</td>\n",
              "      <td>NaN</td>\n",
              "      <td>300.100000</td>\n",
              "      <td>NaN</td>\n",
              "      <td>2023-01-10 00:00:00</td>\n",
              "      <td>NaN</td>\n",
              "      <td>1.000000</td>\n",
              "    </tr>\n",
              "    <tr>\n",
              "      <th>std</th>\n",
              "      <td>2.98481</td>\n",
              "      <td>NaN</td>\n",
              "      <td>NaN</td>\n",
              "      <td>59.085994</td>\n",
              "      <td>NaN</td>\n",
              "      <td>NaN</td>\n",
              "      <td>NaN</td>\n",
              "      <td>0.522233</td>\n",
              "    </tr>\n",
              "  </tbody>\n",
              "</table>\n",
              "</div>\n",
              "    <div class=\"colab-df-buttons\">\n",
              "\n",
              "  <div class=\"colab-df-container\">\n",
              "    <button class=\"colab-df-convert\" onclick=\"convertToInteractive('df-280a60e4-32f8-48a9-9762-cd5775ce3505')\"\n",
              "            title=\"Convert this dataframe to an interactive table.\"\n",
              "            style=\"display:none;\">\n",
              "\n",
              "  <svg xmlns=\"http://www.w3.org/2000/svg\" height=\"24px\" viewBox=\"0 -960 960 960\">\n",
              "    <path d=\"M120-120v-720h720v720H120Zm60-500h600v-160H180v160Zm220 220h160v-160H400v160Zm0 220h160v-160H400v160ZM180-400h160v-160H180v160Zm440 0h160v-160H620v160ZM180-180h160v-160H180v160Zm440 0h160v-160H620v160Z\"/>\n",
              "  </svg>\n",
              "    </button>\n",
              "\n",
              "  <style>\n",
              "    .colab-df-container {\n",
              "      display:flex;\n",
              "      gap: 12px;\n",
              "    }\n",
              "\n",
              "    .colab-df-convert {\n",
              "      background-color: #E8F0FE;\n",
              "      border: none;\n",
              "      border-radius: 50%;\n",
              "      cursor: pointer;\n",
              "      display: none;\n",
              "      fill: #1967D2;\n",
              "      height: 32px;\n",
              "      padding: 0 0 0 0;\n",
              "      width: 32px;\n",
              "    }\n",
              "\n",
              "    .colab-df-convert:hover {\n",
              "      background-color: #E2EBFA;\n",
              "      box-shadow: 0px 1px 2px rgba(60, 64, 67, 0.3), 0px 1px 3px 1px rgba(60, 64, 67, 0.15);\n",
              "      fill: #174EA6;\n",
              "    }\n",
              "\n",
              "    .colab-df-buttons div {\n",
              "      margin-bottom: 4px;\n",
              "    }\n",
              "\n",
              "    [theme=dark] .colab-df-convert {\n",
              "      background-color: #3B4455;\n",
              "      fill: #D2E3FC;\n",
              "    }\n",
              "\n",
              "    [theme=dark] .colab-df-convert:hover {\n",
              "      background-color: #434B5C;\n",
              "      box-shadow: 0px 1px 3px 1px rgba(0, 0, 0, 0.15);\n",
              "      filter: drop-shadow(0px 1px 2px rgba(0, 0, 0, 0.3));\n",
              "      fill: #FFFFFF;\n",
              "    }\n",
              "  </style>\n",
              "\n",
              "    <script>\n",
              "      const buttonEl =\n",
              "        document.querySelector('#df-280a60e4-32f8-48a9-9762-cd5775ce3505 button.colab-df-convert');\n",
              "      buttonEl.style.display =\n",
              "        google.colab.kernel.accessAllowed ? 'block' : 'none';\n",
              "\n",
              "      async function convertToInteractive(key) {\n",
              "        const element = document.querySelector('#df-280a60e4-32f8-48a9-9762-cd5775ce3505');\n",
              "        const dataTable =\n",
              "          await google.colab.kernel.invokeFunction('convertToInteractive',\n",
              "                                                    [key], {});\n",
              "        if (!dataTable) return;\n",
              "\n",
              "        const docLinkHtml = 'Like what you see? Visit the ' +\n",
              "          '<a target=\"_blank\" href=https://colab.research.google.com/notebooks/data_table.ipynb>data table notebook</a>'\n",
              "          + ' to learn more about interactive tables.';\n",
              "        element.innerHTML = '';\n",
              "        dataTable['output_type'] = 'display_data';\n",
              "        await google.colab.output.renderOutput(dataTable, element);\n",
              "        const docLink = document.createElement('div');\n",
              "        docLink.innerHTML = docLinkHtml;\n",
              "        element.appendChild(docLink);\n",
              "      }\n",
              "    </script>\n",
              "  </div>\n",
              "\n",
              "\n",
              "    <div id=\"df-08d522f8-c4c1-41d6-83c7-d165dd587d1e\">\n",
              "      <button class=\"colab-df-quickchart\" onclick=\"quickchart('df-08d522f8-c4c1-41d6-83c7-d165dd587d1e')\"\n",
              "                title=\"Suggest charts\"\n",
              "                style=\"display:none;\">\n",
              "\n",
              "<svg xmlns=\"http://www.w3.org/2000/svg\" height=\"24px\"viewBox=\"0 0 24 24\"\n",
              "     width=\"24px\">\n",
              "    <g>\n",
              "        <path d=\"M19 3H5c-1.1 0-2 .9-2 2v14c0 1.1.9 2 2 2h14c1.1 0 2-.9 2-2V5c0-1.1-.9-2-2-2zM9 17H7v-7h2v7zm4 0h-2V7h2v10zm4 0h-2v-4h2v4z\"/>\n",
              "    </g>\n",
              "</svg>\n",
              "      </button>\n",
              "\n",
              "<style>\n",
              "  .colab-df-quickchart {\n",
              "      --bg-color: #E8F0FE;\n",
              "      --fill-color: #1967D2;\n",
              "      --hover-bg-color: #E2EBFA;\n",
              "      --hover-fill-color: #174EA6;\n",
              "      --disabled-fill-color: #AAA;\n",
              "      --disabled-bg-color: #DDD;\n",
              "  }\n",
              "\n",
              "  [theme=dark] .colab-df-quickchart {\n",
              "      --bg-color: #3B4455;\n",
              "      --fill-color: #D2E3FC;\n",
              "      --hover-bg-color: #434B5C;\n",
              "      --hover-fill-color: #FFFFFF;\n",
              "      --disabled-bg-color: #3B4455;\n",
              "      --disabled-fill-color: #666;\n",
              "  }\n",
              "\n",
              "  .colab-df-quickchart {\n",
              "    background-color: var(--bg-color);\n",
              "    border: none;\n",
              "    border-radius: 50%;\n",
              "    cursor: pointer;\n",
              "    display: none;\n",
              "    fill: var(--fill-color);\n",
              "    height: 32px;\n",
              "    padding: 0;\n",
              "    width: 32px;\n",
              "  }\n",
              "\n",
              "  .colab-df-quickchart:hover {\n",
              "    background-color: var(--hover-bg-color);\n",
              "    box-shadow: 0 1px 2px rgba(60, 64, 67, 0.3), 0 1px 3px 1px rgba(60, 64, 67, 0.15);\n",
              "    fill: var(--button-hover-fill-color);\n",
              "  }\n",
              "\n",
              "  .colab-df-quickchart-complete:disabled,\n",
              "  .colab-df-quickchart-complete:disabled:hover {\n",
              "    background-color: var(--disabled-bg-color);\n",
              "    fill: var(--disabled-fill-color);\n",
              "    box-shadow: none;\n",
              "  }\n",
              "\n",
              "  .colab-df-spinner {\n",
              "    border: 2px solid var(--fill-color);\n",
              "    border-color: transparent;\n",
              "    border-bottom-color: var(--fill-color);\n",
              "    animation:\n",
              "      spin 1s steps(1) infinite;\n",
              "  }\n",
              "\n",
              "  @keyframes spin {\n",
              "    0% {\n",
              "      border-color: transparent;\n",
              "      border-bottom-color: var(--fill-color);\n",
              "      border-left-color: var(--fill-color);\n",
              "    }\n",
              "    20% {\n",
              "      border-color: transparent;\n",
              "      border-left-color: var(--fill-color);\n",
              "      border-top-color: var(--fill-color);\n",
              "    }\n",
              "    30% {\n",
              "      border-color: transparent;\n",
              "      border-left-color: var(--fill-color);\n",
              "      border-top-color: var(--fill-color);\n",
              "      border-right-color: var(--fill-color);\n",
              "    }\n",
              "    40% {\n",
              "      border-color: transparent;\n",
              "      border-right-color: var(--fill-color);\n",
              "      border-top-color: var(--fill-color);\n",
              "    }\n",
              "    60% {\n",
              "      border-color: transparent;\n",
              "      border-right-color: var(--fill-color);\n",
              "    }\n",
              "    80% {\n",
              "      border-color: transparent;\n",
              "      border-right-color: var(--fill-color);\n",
              "      border-bottom-color: var(--fill-color);\n",
              "    }\n",
              "    90% {\n",
              "      border-color: transparent;\n",
              "      border-bottom-color: var(--fill-color);\n",
              "    }\n",
              "  }\n",
              "</style>\n",
              "\n",
              "      <script>\n",
              "        async function quickchart(key) {\n",
              "          const quickchartButtonEl =\n",
              "            document.querySelector('#' + key + ' button');\n",
              "          quickchartButtonEl.disabled = true;  // To prevent multiple clicks.\n",
              "          quickchartButtonEl.classList.add('colab-df-spinner');\n",
              "          try {\n",
              "            const charts = await google.colab.kernel.invokeFunction(\n",
              "                'suggestCharts', [key], {});\n",
              "          } catch (error) {\n",
              "            console.error('Error during call to suggestCharts:', error);\n",
              "          }\n",
              "          quickchartButtonEl.classList.remove('colab-df-spinner');\n",
              "          quickchartButtonEl.classList.add('colab-df-quickchart-complete');\n",
              "        }\n",
              "        (() => {\n",
              "          let quickchartButtonEl =\n",
              "            document.querySelector('#df-08d522f8-c4c1-41d6-83c7-d165dd587d1e button');\n",
              "          quickchartButtonEl.style.display =\n",
              "            google.colab.kernel.accessAllowed ? 'block' : 'none';\n",
              "        })();\n",
              "      </script>\n",
              "    </div>\n",
              "    </div>\n",
              "  </div>\n"
            ],
            "application/vnd.google.colaboratory.intrinsic+json": {
              "type": "dataframe",
              "summary": "{\n  \"name\": \"display(df\",\n  \"rows\": 11,\n  \"fields\": [\n    {\n      \"column\": \"id\",\n      \"properties\": {\n        \"dtype\": \"number\",\n        \"std\": 3.7923908400818584,\n        \"min\": 1.0,\n        \"max\": 12.0,\n        \"num_unique_values\": 8,\n        \"samples\": [\n          5.0,\n          7.25,\n          12.0\n        ],\n        \"semantic_type\": \"\",\n        \"description\": \"\"\n      }\n    },\n    {\n      \"column\": \"name\",\n      \"properties\": {\n        \"dtype\": \"category\",\n        \"num_unique_values\": 4,\n        \"samples\": [\n          10,\n          \"2\",\n          \"12\"\n        ],\n        \"semantic_type\": \"\",\n        \"description\": \"\"\n      }\n    },\n    {\n      \"column\": \"email\",\n      \"properties\": {\n        \"dtype\": \"category\",\n        \"num_unique_values\": 4,\n        \"samples\": [\n          9,\n          \"2\",\n          \"10\"\n        ],\n        \"semantic_type\": \"\",\n        \"description\": \"\"\n      }\n    },\n    {\n      \"column\": \"value\",\n      \"properties\": {\n        \"dtype\": \"number\",\n        \"std\": 96.13704101046147,\n        \"min\": 11.0,\n        \"max\": 300.1,\n        \"num_unique_values\": 8,\n        \"samples\": [\n          202.14545454545453,\n          235.65,\n          11.0\n        ],\n        \"semantic_type\": \"\",\n        \"description\": \"\"\n      }\n    },\n    {\n      \"column\": \"category_col1\",\n      \"properties\": {\n        \"dtype\": \"category\",\n        \"num_unique_values\": 4,\n        \"samples\": [\n          3,\n          \"5\",\n          \"12\"\n        ],\n        \"semantic_type\": \"\",\n        \"description\": \"\"\n      }\n    },\n    {\n      \"column\": \"date_col\",\n      \"properties\": {\n        \"dtype\": \"date\",\n        \"min\": \"1970-01-01 00:00:00.000000012\",\n        \"max\": \"2023-01-10 00:00:00\",\n        \"num_unique_values\": 7,\n        \"samples\": [\n          \"12\",\n          \"2023-01-05 00:00:00\",\n          \"2023-01-07 06:00:00\"\n        ],\n        \"semantic_type\": \"\",\n        \"description\": \"\"\n      }\n    },\n    {\n      \"column\": \"city\",\n      \"properties\": {\n        \"dtype\": \"category\",\n        \"num_unique_values\": 4,\n        \"samples\": [\n          3,\n          \"5\",\n          \"12\"\n        ],\n        \"semantic_type\": \"\",\n        \"description\": \"\"\n      }\n    },\n    {\n      \"column\": \"target\",\n      \"properties\": {\n        \"dtype\": \"number\",\n        \"std\": 4.082283372507085,\n        \"min\": 0.0,\n        \"max\": 12.0,\n        \"num_unique_values\": 5,\n        \"samples\": [\n          0.5,\n          0.5222329678670935,\n          0.0\n        ],\n        \"semantic_type\": \"\",\n        \"description\": \"\"\n      }\n    }\n  ]\n}"
            }
          },
          "metadata": {}
        },
        {
          "output_type": "stream",
          "name": "stdout",
          "text": [
            "\n",
            "Информация о типах:\n",
            "<class 'pandas.core.frame.DataFrame'>\n",
            "RangeIndex: 12 entries, 0 to 11\n",
            "Data columns (total 8 columns):\n",
            " #   Column         Non-Null Count  Dtype         \n",
            "---  ------         --------------  -----         \n",
            " 0   id             12 non-null     int64         \n",
            " 1   name           12 non-null     object        \n",
            " 2   email          10 non-null     object        \n",
            " 3   value          11 non-null     float64       \n",
            " 4   category_col1  12 non-null     object        \n",
            " 5   date_col       12 non-null     datetime64[ns]\n",
            " 6   city           12 non-null     object        \n",
            " 7   target         12 non-null     int64         \n",
            "dtypes: datetime64[ns](1), float64(1), int64(2), object(4)\n",
            "memory usage: 900.0+ bytes\n"
          ]
        },
        {
          "output_type": "display_data",
          "data": {
            "text/plain": [
              "None"
            ]
          },
          "metadata": {}
        }
      ],
      "source": [
        "print(\"Первые 5 строк:\")\n",
        "display(df.head())\n",
        "\n",
        "print(\"\\nОсновная статистика:\")\n",
        "display(df.describe(include='all'))  # include='all' покажет все типы\n",
        "\n",
        "print(\"\\nИнформация о типах:\")\n",
        "display(df.info())"
      ],
      "id": "R8t7bQi24Uhq"
    },
    {
      "cell_type": "markdown",
      "metadata": {
        "id": "b0pTrfEp4Uhr"
      },
      "source": [
        "> 💡 Для быстрого анализа можно использовать `pandas_profiling` или `sweetviz`."
      ],
      "id": "b0pTrfEp4Uhr"
    },
    {
      "cell_type": "markdown",
      "metadata": {
        "id": "j1_RKC864Uhr"
      },
      "source": [
        "### 1.3 Сохранение данных"
      ],
      "id": "j1_RKC864Uhr"
    },
    {
      "cell_type": "code",
      "execution_count": 6,
      "metadata": {
        "tags": [],
        "id": "D9xf-X6H4Uhr"
      },
      "outputs": [],
      "source": [
        "df.to_csv('processed_data.csv', index=False)  # без индексов\n",
        "df.to_excel('report.xlsx', sheet_name='Data')  # сохранение в Excel"
      ],
      "id": "D9xf-X6H4Uhr"
    },
    {
      "cell_type": "markdown",
      "metadata": {
        "id": "GCZ7F3BO4Uhs"
      },
      "source": [
        "> ✅ Всегда используйте `index=False`, если не нужно сохранять индекс."
      ],
      "id": "GCZ7F3BO4Uhs"
    },
    {
      "cell_type": "markdown",
      "metadata": {
        "id": "MXVwv0Y_4Uhs"
      },
      "source": [
        "### 1.4 Решение базовых проблем"
      ],
      "id": "MXVwv0Y_4Uhs"
    },
    {
      "cell_type": "code",
      "execution_count": 7,
      "metadata": {
        "tags": [],
        "id": "ZFbz3Kk14Uhs"
      },
      "outputs": [],
      "source": [
        "# Удаление пропусков\n",
        "df.dropna(subset=['email'], inplace=True)\n",
        "\n",
        "# Заполнение пропусков медианой\n",
        "df['value'] = pd.to_numeric(df['value'], errors='coerce') # некорректные значения превращаются в NaN\n",
        "df.fillna({'value': df['value'].median()}, inplace=True)\n",
        "\n",
        "# Удаление дубликатов\n",
        "df = df.drop_duplicates()"
      ],
      "id": "ZFbz3Kk14Uhs"
    },
    {
      "cell_type": "markdown",
      "metadata": {
        "id": "prMCmIYd4Uhs"
      },
      "source": [
        "> 💡 Можно заполнять пропуски и средним, и модой (`mode()`), в зависимости от типа данных."
      ],
      "id": "prMCmIYd4Uhs"
    },
    {
      "cell_type": "markdown",
      "metadata": {
        "id": "mBHxpIOL4Uht"
      },
      "source": [
        "## 🟡 Продвинутый уровень (Для опытных ML-инженеров)"
      ],
      "id": "mBHxpIOL4Uht"
    },
    {
      "cell_type": "markdown",
      "metadata": {
        "id": "dpKzCINM4Uht"
      },
      "source": [
        "### 2.1 Оптимизация памяти"
      ],
      "id": "dpKzCINM4Uht"
    },
    {
      "cell_type": "code",
      "execution_count": 8,
      "metadata": {
        "tags": [],
        "colab": {
          "base_uri": "https://localhost:8080/"
        },
        "id": "3cazZbUi4Uht",
        "outputId": "558d4812-7c5d-4432-9ca6-19a969cb980b"
      },
      "outputs": [
        {
          "output_type": "stream",
          "name": "stdout",
          "text": [
            "Память: 0.00 MB\n"
          ]
        },
        {
          "output_type": "stream",
          "name": "stderr",
          "text": [
            "<ipython-input-8-4fe7f3091276>:3: SettingWithCopyWarning: \n",
            "A value is trying to be set on a copy of a slice from a DataFrame.\n",
            "Try using .loc[row_indexer,col_indexer] = value instead\n",
            "\n",
            "See the caveats in the documentation: https://pandas.pydata.org/pandas-docs/stable/user_guide/indexing.html#returning-a-view-versus-a-copy\n",
            "  df[col] = pd.to_numeric(df[col], downcast='integer')\n",
            "<ipython-input-8-4fe7f3091276>:5: SettingWithCopyWarning: \n",
            "A value is trying to be set on a copy of a slice from a DataFrame.\n",
            "Try using .loc[row_indexer,col_indexer] = value instead\n",
            "\n",
            "See the caveats in the documentation: https://pandas.pydata.org/pandas-docs/stable/user_guide/indexing.html#returning-a-view-versus-a-copy\n",
            "  df[col] = pd.to_numeric(df[col], downcast='float')\n"
          ]
        }
      ],
      "source": [
        "def optimize_dtypes(df):\n",
        "    for col in df.select_dtypes(include=['int']).columns:\n",
        "        df[col] = pd.to_numeric(df[col], downcast='integer')\n",
        "    for col in df.select_dtypes(include=['float']).columns:\n",
        "        df[col] = pd.to_numeric(df[col], downcast='float')\n",
        "    return df\n",
        "\n",
        "df = optimize_dtypes(df)\n",
        "print(f\"Память: {df.memory_usage(deep=True).sum() / 1024**2:.2f} MB\")"
      ],
      "id": "3cazZbUi4Uht"
    },
    {
      "cell_type": "markdown",
      "metadata": {
        "id": "_geC56w14Uht"
      },
      "source": [
        "> 📈 Такая оптимизация особенно важна на этапе предобработки больших датасетов."
      ],
      "id": "_geC56w14Uht"
    },
    {
      "cell_type": "markdown",
      "metadata": {
        "id": "i02GnPrk4Uht"
      },
      "source": [
        "### 2.2 Работа с категориальными признаками"
      ],
      "id": "i02GnPrk4Uht"
    },
    {
      "cell_type": "code",
      "execution_count": null,
      "metadata": {
        "tags": [],
        "id": "kFnjhlB84Uhu",
        "collapsed": true
      },
      "outputs": [],
      "source": [
        "# Преобразование в категориальный тип\n",
        "df['category_col1'] = df['category_col1'].astype('category')\n",
        "\n",
        "# One-Hot Encoding\n",
        "df = pd.get_dummies(df, columns=['city'], prefix='cat')\n",
        "\n",
        "df.info()\n",
        "df.head()"
      ],
      "id": "kFnjhlB84Uhu"
    },
    {
      "cell_type": "markdown",
      "metadata": {
        "id": "KO9MmoYd4Uhu"
      },
      "source": [
        "> ⚠️ Для бустинговых моделей (CatBoost, LightGBM) лучше оставлять как `category`."
      ],
      "id": "KO9MmoYd4Uhu"
    },
    {
      "cell_type": "markdown",
      "metadata": {
        "id": "0K4tV8Re4Uhu"
      },
      "source": [
        "### 2.3 Эффективное чтение больших данных"
      ],
      "id": "0K4tV8Re4Uhu"
    },
    {
      "cell_type": "code",
      "execution_count": 10,
      "metadata": {
        "tags": [],
        "id": "ynS1MlBU4Uhu"
      },
      "outputs": [],
      "source": [
        "# Чтение только нужных столбцов\n",
        "cols = ['id', 'name', 'email']\n",
        "df_limited = pd.read_csv('data.csv', usecols=cols)\n",
        "\n",
        "# Сохранение в Parquet (быстрее CSV в 5–10 раз)\n",
        "df_limited.to_parquet('data.parquet', engine='pyarrow')"
      ],
      "id": "ynS1MlBU4Uhu"
    },
    {
      "cell_type": "markdown",
      "metadata": {
        "id": "kQzQGxo44Uhv"
      },
      "source": [
        "> ✅ Используйте Parquet или Feather для хранения промежуточных результатов."
      ],
      "id": "kQzQGxo44Uhv"
    },
    {
      "cell_type": "markdown",
      "metadata": {
        "id": "c9eruGAg4Uhv"
      },
      "source": [
        "### 2.4 Интеграция с ML-библиотеками"
      ],
      "id": "c9eruGAg4Uhv"
    },
    {
      "cell_type": "code",
      "execution_count": 11,
      "metadata": {
        "tags": [],
        "id": "s4Mej8VL4Uhv"
      },
      "outputs": [],
      "source": [
        "from sklearn.model_selection import train_test_split\n",
        "\n",
        "X = df.drop('target', axis=1).values # преобразуем в numpy array\n",
        "y = df['target'].values\n",
        "X_train, X_test, y_train, y_test = train_test_split(X, y, test_size=0.2, random_state=42)"
      ],
      "id": "s4Mej8VL4Uhv"
    },
    {
      "cell_type": "markdown",
      "metadata": {
        "id": "vA-cmOos4Uhv"
      },
      "source": [
        "> 💡 Для удобства работы можно оставить данные в виде `DataFrame` и использовать `.to_numpy()` при необходимости."
      ],
      "id": "vA-cmOos4Uhv"
    },
    {
      "cell_type": "markdown",
      "metadata": {
        "id": "7GRO5zXr4Uhv"
      },
      "source": [
        "## 🔴 Экспертный уровень (Для хакатонов и Kaggle Grandmasters)"
      ],
      "id": "7GRO5zXr4Uhv"
    },
    {
      "cell_type": "markdown",
      "metadata": {
        "id": "f2LTvdSu4Uhw"
      },
      "source": [
        "### 3.1 Работа с гигабайтными данными"
      ],
      "id": "f2LTvdSu4Uhw"
    },
    {
      "cell_type": "code",
      "execution_count": 12,
      "metadata": {
        "tags": [],
        "id": "POVM21Fu4Uhw"
      },
      "outputs": [],
      "source": [
        "chunk_size = 5  # 100k строк за раз\n",
        "filtered_rows = []\n",
        "\n",
        "for chunk in pd.read_csv('data.csv', chunksize=chunk_size):\n",
        "    chunk = chunk[(chunk['category_col1']) == 'A']  # фильтрация на лету\n",
        "    filtered_rows.append(chunk)\n",
        "\n",
        "df = pd.concat(filtered_rows)"
      ],
      "id": "POVM21Fu4Uhw"
    },
    {
      "cell_type": "markdown",
      "metadata": {
        "id": "6x_jrMB34Uhw"
      },
      "source": [
        "> 📦 Это позволяет работать с файлами, которые больше доступной оперативной памяти."
      ],
      "id": "6x_jrMB34Uhw"
    },
    {
      "cell_type": "markdown",
      "metadata": {
        "id": "zIcAUZpG4Uhw"
      },
      "source": [
        "### 3.2 Разреженные матрицы для текстов/NLP"
      ],
      "id": "zIcAUZpG4Uhw"
    },
    {
      "cell_type": "code",
      "execution_count": null,
      "metadata": {
        "tags": [],
        "id": "CqThiqlK4Uhw"
      },
      "outputs": [],
      "source": [
        "from sklearn.feature_extraction.text import TfidfVectorizer\n",
        "from scipy.sparse import save_npz\n",
        "\n",
        "vectorizer = TfidfVectorizer()\n",
        "sparse_matrix = vectorizer.fit_transform(df['city'])\n",
        "\n",
        "print(sparse_matrix)\n",
        "# Сохранение в формате, совместимом с LibSVM\n",
        "save_npz('sparse_data.npz', sparse_matrix)"
      ],
      "id": "CqThiqlK4Uhw"
    },
    {
      "cell_type": "markdown",
      "metadata": {
        "id": "Z1YW2FYA4Uhw"
      },
      "source": [
        "> ✅ Разреженные матрицы экономят память и подходят для моделей вроде SVM, LogisticRegression."
      ],
      "id": "Z1YW2FYA4Uhw"
    },
    {
      "cell_type": "markdown",
      "metadata": {
        "id": "tg0QYxrt4Uhx"
      },
      "source": [
        "### 3.3 GPU-ускорение с RAPIDS"
      ],
      "id": "tg0QYxrt4Uhx"
    },
    {
      "cell_type": "code",
      "execution_count": 14,
      "metadata": {
        "tags": [],
        "id": "Cf-iIB0Z4Uh3"
      },
      "outputs": [],
      "source": [
        "import cudf\n",
        "\n",
        "# Чтение данных на GPU\n",
        "gdf = cudf.read_csv('data.csv', na_values='?')\n",
        "gdf.dropna(inplace=True)\n",
        "gdf = gdf.query(\"value > 200\")  # фильтрация в 10–50x быстрее, чем pandas\n",
        "\n",
        "# Конвертация в numpy для моделей\n",
        "X = gdf.to_pandas().values\n"
      ],
      "id": "Cf-iIB0Z4Uh3"
    },
    {
      "cell_type": "markdown",
      "metadata": {
        "id": "j8wX7VLW4Uh3"
      },
      "source": [
        "> 🚀 Требуется CUDA-совместимая видеокарта и установка библиотек RAPIDS."
      ],
      "id": "j8wX7VLW4Uh3"
    },
    {
      "cell_type": "markdown",
      "metadata": {
        "id": "i26KJUXh4Uh3"
      },
      "source": [
        "### 3.4 Экстремальная оптимизация"
      ],
      "id": "i26KJUXh4Uh3"
    },
    {
      "cell_type": "code",
      "execution_count": 15,
      "metadata": {
        "tags": [],
        "id": "JgkNibnl4Uh3"
      },
      "outputs": [],
      "source": [
        "# Уменьшение точности float64 -> float16\n",
        "df = df.astype({col: 'float16' for col in df.select_dtypes(include=['float']).columns})\n",
        "\n",
        "# Словарное сжатие для строк\n",
        "df['city'] = df['city'].astype('category').cat.codes\n"
      ],
      "id": "JgkNibnl4Uh3"
    },
    {
      "cell_type": "markdown",
      "metadata": {
        "id": "PA70WaXz4Uh3"
      },
      "source": [
        "> 🧪 Полезно для очень больших датасетов, где каждый байт важен."
      ],
      "id": "PA70WaXz4Uh3"
    },
    {
      "cell_type": "markdown",
      "metadata": {
        "id": "1x_5KT9n4Uh4"
      },
      "source": [
        "### 3.5 Инкрементальное обучение (Online Learning)"
      ],
      "id": "1x_5KT9n4Uh4"
    },
    {
      "cell_type": "code",
      "execution_count": 16,
      "metadata": {
        "tags": [],
        "id": "KCMA2wHW4Uh4"
      },
      "outputs": [],
      "source": [
        "from sklearn.linear_model import SGDClassifier\n",
        "\n",
        "model = SGDClassifier()\n",
        "for chunk in pd.read_csv('data.csv', usecols=['id', 'target'], na_values=\"?\", chunksize=5):\n",
        "    X = chunk.drop('target', axis=1)\n",
        "    y = chunk['target']\n",
        "    model.partial_fit(X, y, classes=[0, 1])"
      ],
      "id": "KCMA2wHW4Uh4"
    },
    {
      "cell_type": "markdown",
      "metadata": {
        "id": "JjNYoR9y4Uh4"
      },
      "source": [
        "> 🔄 Подходит для потоковой обработки данных, например, в реальном времени."
      ],
      "id": "JjNYoR9y4Uh4"
    },
    {
      "cell_type": "markdown",
      "metadata": {
        "id": "xzAovPzN4Uh4"
      },
      "source": [
        "## 📊 Чеклист по уровням\n",
        "\n",
        "| Уровень | Навыки |\n",
        "|--------|--------|\n",
        "| 🟢     | Чтение CSV/Excel, анализ данных, fillna/drop_duplicates |\n",
        "| 🟡     | Оптимизация типов, категориальные признаки, parquet, train_test_split |\n",
        "| 🔴     | Итеративная обработка, GPU-ускорение, разреженные матрицы, online learning |"
      ],
      "id": "xzAovPzN4Uh4"
    },
    {
      "cell_type": "markdown",
      "metadata": {
        "id": "yaMNE1d14Uh4"
      },
      "source": [
        "## ⚠️ Антипаттерны\n",
        "\n",
        "| Уровень | Что делать не стоит |\n",
        "|---------|---------------------|\n",
        "| 🟢      | Сохранять данные с индексом без необходимости |\n",
        "| 🟢      | Читать весь большой файл целиком ради просмотра |\n",
        "| 🟡      | Не использовать `usecols` при работе с большими файлами |\n",
        "| 🔴      | Игнорировать `dtype` при чтении больших данных |\n",
        "| 🔴      | Использовать медленные циклы вместо векторизованных операций |"
      ],
      "id": "yaMNE1d14Uh4"
    },
    {
      "cell_type": "markdown",
      "metadata": {
        "id": "yXhLpiG64Uh4"
      },
      "source": [
        "## 🚀 Полезные советы\n",
        "\n",
        "1. **Тестирование перед обработкой:**  \n",
        "   ```python\n",
        "   pd.read_csv('test_data.csv', nrows=10)  # проверка структуры\n",
        "   ```\n",
        "\n",
        "2. **Быстрая конвертация в NumPy:**  \n",
        "   ```python\n",
        "   X = df.values  # работает быстро\n",
        "   ```\n",
        "\n",
        "3. **Проверка памяти:**  \n",
        "   ```python\n",
        "   df.memory_usage(deep=True)\n",
        "   ```\n",
        "\n",
        "4. **Избежание копий:**  \n",
        "   Используйте `inplace=True` или переприсваивайте переменные явно."
      ],
      "id": "yXhLpiG64Uh4"
    },
    {
      "cell_type": "markdown",
      "metadata": {
        "id": "w75au5_r4Uh5"
      },
      "source": [
        "## 📌 Итог\n",
        "\n",
        "Pandas — основной инструмент для подготовки данных в ML. Он прост в освоении, но мощный в использовании. От базового анализа до экспертных техник вроде GPU-ускорения и онлайн-обучения — он покрывает полный цикл работы с данными.\n",
        "\n",
        "> 🎯 Главное правило: всегда помни, что ты готовишь данные **для модели**, поэтому делай это эффективно и аккуратно."
      ],
      "id": "w75au5_r4Uh5"
    }
  ],
  "metadata": {
    "kernelspec": {
      "display_name": "Python 3",
      "name": "python3"
    },
    "language_info": {
      "codemirror_mode": {
        "name": "ipython",
        "version": 3
      },
      "file_extension": ".py",
      "mimetype": "text/x-python",
      "name": "python",
      "nbconvert_exporter": "python",
      "pygments_lexer": "ipython3",
      "version": "3.10.13"
    },
    "colab": {
      "provenance": [],
      "gpuType": "T4",
      "include_colab_link": true
    },
    "accelerator": "GPU"
  },
  "nbformat": 4,
  "nbformat_minor": 5
}