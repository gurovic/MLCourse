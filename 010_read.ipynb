{
  "cells": [
    {
      "cell_type": "markdown",
      "metadata": {
        "id": "view-in-github",
        "colab_type": "text"
      },
      "source": [
        "<a href=\"https://colab.research.google.com/github/gurovic/MLCourse/blob/main/010_read.ipynb\" target=\"_parent\"><img src=\"https://colab.research.google.com/assets/colab-badge.svg\" alt=\"Open In Colab\"/></a>"
      ]
    },
    {
      "cell_type": "markdown",
      "metadata": {
        "id": "6lPAJKBo4Uhk"
      },
      "source": [
        "# Чтение данных в Pandas для ML\n"
      ],
      "id": "6lPAJKBo4Uhk"
    },
    {
      "cell_type": "markdown",
      "source": [
        "## Подготовка среды и тестов"
      ],
      "metadata": {
        "id": "gTG73JrVGuQb"
      },
      "id": "gTG73JrVGuQb"
    },
    {
      "cell_type": "code",
      "execution_count": null,
      "metadata": {
        "tags": [],
        "id": "-6N6LLQM4Uhm"
      },
      "outputs": [],
      "source": [
        "!pip install pandas numpy matplotlib seaborn pyarrow fastparquet scipy cudf"
      ],
      "id": "-6N6LLQM4Uhm"
    },
    {
      "cell_type": "markdown",
      "metadata": {
        "id": "dWpqMo4E4Uhn"
      },
      "source": [
        "> ⚠️ How to install cudf for google colab:"
      ],
      "id": "dWpqMo4E4Uhn"
    },
    {
      "cell_type": "code",
      "execution_count": null,
      "metadata": {
        "tags": [],
        "id": "_aIlYMbU4Uho"
      },
      "outputs": [],
      "source": [
        "!git clone https://github.com/rapidsai/rapidsai-csp-utils.git\n",
        "!python rapidsai-csp-utils/colab/pip-install.py"
      ],
      "id": "_aIlYMbU4Uho"
    },
    {
      "cell_type": "code",
      "execution_count": 3,
      "metadata": {
        "tags": [],
        "id": "EQShXtcP4Uho"
      },
      "outputs": [],
      "source": [
        "import pandas as pd\n",
        "import numpy as np\n",
        "\n",
        "# Создание DataFrame с нуля с нужными столбцами\n",
        "data = {\n",
        "    'id': [1, 2, 3, 4, 5, 6, 7, 8, 9, 10, 2, 3],\n",
        "    'name': ['Иван', 'Петр', 'Анна', 'Мария', 'Сергей', 'Елена', 'Олег', 'Юлия', 'Дмитрий', 'Наталья', 'Петр', 'Анна'],\n",
        "    'email': ['ivan@example.com', 'petr@example.com', np.nan, 'maria@example.com', 'sergey@example.com', 'elena@example.com', 'oleg@example.com', 'yulia@example.com', 'dmitry@example.com', 'natalya@example.com', 'petr@example.com', np.nan],\n",
        "    'value': [100.5, 200.3, 150.0, np.nan, 300.1, 250.8, 180.0, 220.5, 280.9, 190.2, 200.3, 150.0],\n",
        "    'category_col1': ['A', 'B', 'A', 'C', 'B', 'A', 'C', 'B', 'A', 'C', 'B', 'A'],\n",
        "    'date_col': pd.to_datetime(['2023-01-01', '2023-01-02', '2023-01-03', '2023-01-04', '2023-01-05', '2023-01-06', '2023-01-07', '2023-01-08', '2023-01-09', '2023-01-10', '2023-01-02', '2023-01-03']),\n",
        "    'city': ['Москва', 'Санкт-Петербург', 'Москва', 'Казань', 'Санкт-Петербург', 'Москва', 'Казань', 'Москва', 'Санкт-Петербург', 'Казань', 'Санкт-Петербург', 'Москва'],\n",
        "    'target': [1, 0, 0, 1, 1, 1, 0, 1, 0, 1, 0, 0]\n",
        "}\n",
        "\n",
        "df_demo = pd.DataFrame(data)\n",
        "\n",
        "# Сохранение DataFrame в CSV файл\n",
        "df_demo.to_csv('data.csv', encoding='utf-8', index=False, na_rep='?')\n"
      ],
      "id": "EQShXtcP4Uho"
    },
    {
      "cell_type": "markdown",
      "metadata": {
        "id": "9nR8Y-ih4Uhp"
      },
      "source": [
        "## 🟢 Базовый уровень (Must Know для начинающих)"
      ],
      "id": "9nR8Y-ih4Uhp"
    },
    {
      "cell_type": "markdown",
      "metadata": {
        "id": "GTrQYCuf4Uhp"
      },
      "source": [
        "### 1.1 Чтение данных из CSV"
      ],
      "id": "GTrQYCuf4Uhp"
    },
    {
      "cell_type": "code",
      "execution_count": 4,
      "metadata": {
        "tags": [],
        "id": "WbBwbO1e4Uhp"
      },
      "outputs": [],
      "source": [
        "import pandas as pd\n",
        "\n",
        "# Простейший случай\n",
        "df = pd.read_csv('data.csv')\n",
        "\n",
        "# Сложнее: работа с \"грязными\" файлами\n",
        "df = pd.read_csv(\n",
        "    'data.csv',\n",
        "    sep=',',                 # нестандартный разделитель\n",
        "    encoding='utf-8',        # поддержка кириллицы или других кодировок\n",
        "    na_values=['NA', '?'],   # обозначения пропусков\n",
        "    parse_dates=['date_col'] # автоматический парсинг дат\n",
        ")"
      ],
      "id": "WbBwbO1e4Uhp"
    },
    {
      "cell_type": "markdown",
      "metadata": {
        "id": "p-VQVtmm4Uhq"
      },
      "source": [
        "> ⚠️ Если данные приходят без заголовков, используйте `header=None` и задайте названия колонок через `names`."
      ],
      "id": "p-VQVtmm4Uhq"
    },
    {
      "cell_type": "markdown",
      "metadata": {
        "id": "x4loE3te4Uhq"
      },
      "source": [
        "### 1.2 Просмотр данных"
      ],
      "id": "x4loE3te4Uhq"
    },
    {
      "cell_type": "code",
      "execution_count": null,
      "metadata": {
        "tags": [],
        "id": "R8t7bQi24Uhq"
      },
      "outputs": [],
      "source": [
        "print(\"Первые 5 строк:\")\n",
        "display(df.head())\n",
        "\n",
        "print(\"\\nОсновная статистика:\")\n",
        "display(df.describe(include='all'))  # include='all' покажет все типы\n",
        "\n",
        "print(\"\\nИнформация о типах:\")\n",
        "display(df.info())"
      ],
      "id": "R8t7bQi24Uhq"
    },
    {
      "cell_type": "markdown",
      "metadata": {
        "id": "b0pTrfEp4Uhr"
      },
      "source": [
        "> 💡 Для быстрого анализа можно использовать `pandas_profiling` или `sweetviz`."
      ],
      "id": "b0pTrfEp4Uhr"
    },
    {
      "cell_type": "markdown",
      "metadata": {
        "id": "j1_RKC864Uhr"
      },
      "source": [
        "### 1.3 Сохранение данных"
      ],
      "id": "j1_RKC864Uhr"
    },
    {
      "cell_type": "code",
      "execution_count": 6,
      "metadata": {
        "tags": [],
        "id": "D9xf-X6H4Uhr"
      },
      "outputs": [],
      "source": [
        "df.to_csv('processed_data.csv', index=False)  # без индексов\n",
        "df.to_excel('report.xlsx', sheet_name='Data')  # сохранение в Excel"
      ],
      "id": "D9xf-X6H4Uhr"
    },
    {
      "cell_type": "markdown",
      "metadata": {
        "id": "GCZ7F3BO4Uhs"
      },
      "source": [
        "> ✅ Всегда используйте `index=False`, если не нужно сохранять индекс."
      ],
      "id": "GCZ7F3BO4Uhs"
    },
    {
      "cell_type": "markdown",
      "metadata": {
        "id": "MXVwv0Y_4Uhs"
      },
      "source": [
        "### 1.4 Решение базовых проблем"
      ],
      "id": "MXVwv0Y_4Uhs"
    },
    {
      "cell_type": "code",
      "execution_count": 7,
      "metadata": {
        "tags": [],
        "id": "ZFbz3Kk14Uhs"
      },
      "outputs": [],
      "source": [
        "# Удаление пропусков\n",
        "df.dropna(subset=['email'], inplace=True)\n",
        "\n",
        "# Заполнение пропусков медианой\n",
        "df['value'] = pd.to_numeric(df['value'], errors='coerce') # некорректные значения превращаются в NaN\n",
        "df.fillna({'value': df['value'].median()}, inplace=True)\n",
        "\n",
        "# Удаление дубликатов\n",
        "df = df.drop_duplicates()"
      ],
      "id": "ZFbz3Kk14Uhs"
    },
    {
      "cell_type": "markdown",
      "metadata": {
        "id": "prMCmIYd4Uhs"
      },
      "source": [
        "> 💡 Можно заполнять пропуски и средним, и модой (`mode()`), в зависимости от типа данных."
      ],
      "id": "prMCmIYd4Uhs"
    },
    {
      "cell_type": "markdown",
      "metadata": {
        "id": "mBHxpIOL4Uht"
      },
      "source": [
        "## 🟡 Продвинутый уровень (Для опытных ML-инженеров)"
      ],
      "id": "mBHxpIOL4Uht"
    },
    {
      "cell_type": "markdown",
      "metadata": {
        "id": "dpKzCINM4Uht"
      },
      "source": [
        "### 2.1 Оптимизация памяти"
      ],
      "id": "dpKzCINM4Uht"
    },
    {
      "cell_type": "code",
      "execution_count": null,
      "metadata": {
        "tags": [],
        "id": "3cazZbUi4Uht"
      },
      "outputs": [],
      "source": [
        "def optimize_dtypes(df):\n",
        "    for col in df.select_dtypes(include=['int']).columns:\n",
        "        df[col] = pd.to_numeric(df[col], downcast='integer')\n",
        "    for col in df.select_dtypes(include=['float']).columns:\n",
        "        df[col] = pd.to_numeric(df[col], downcast='float')\n",
        "    return df\n",
        "\n",
        "df = optimize_dtypes(df)\n",
        "print(f\"Память: {df.memory_usage(deep=True).sum() / 1024**2:.2f} MB\")"
      ],
      "id": "3cazZbUi4Uht"
    },
    {
      "cell_type": "markdown",
      "metadata": {
        "id": "_geC56w14Uht"
      },
      "source": [
        "> 📈 Такая оптимизация особенно важна на этапе предобработки больших датасетов."
      ],
      "id": "_geC56w14Uht"
    },
    {
      "cell_type": "markdown",
      "metadata": {
        "id": "i02GnPrk4Uht"
      },
      "source": [
        "### 2.2 Работа с категориальными признаками"
      ],
      "id": "i02GnPrk4Uht"
    },
    {
      "cell_type": "code",
      "execution_count": null,
      "metadata": {
        "tags": [],
        "id": "kFnjhlB84Uhu",
        "collapsed": true
      },
      "outputs": [],
      "source": [
        "# Преобразование в категориальный тип\n",
        "df['category_col1'] = df['category_col1'].astype('category')\n",
        "\n",
        "# One-Hot Encoding\n",
        "df = pd.get_dummies(df, columns=['city'], prefix='cat')\n",
        "\n",
        "df.info()\n",
        "df.head()"
      ],
      "id": "kFnjhlB84Uhu"
    },
    {
      "cell_type": "markdown",
      "metadata": {
        "id": "KO9MmoYd4Uhu"
      },
      "source": [
        "> ⚠️ Для бустинговых моделей (CatBoost, LightGBM) лучше оставлять как `category`."
      ],
      "id": "KO9MmoYd4Uhu"
    },
    {
      "cell_type": "markdown",
      "metadata": {
        "id": "0K4tV8Re4Uhu"
      },
      "source": [
        "### 2.3 Эффективное чтение больших данных"
      ],
      "id": "0K4tV8Re4Uhu"
    },
    {
      "cell_type": "code",
      "execution_count": 10,
      "metadata": {
        "tags": [],
        "id": "ynS1MlBU4Uhu"
      },
      "outputs": [],
      "source": [
        "# Чтение только нужных столбцов\n",
        "cols = ['id', 'name', 'email']\n",
        "df_limited = pd.read_csv('data.csv', usecols=cols)\n",
        "\n",
        "# Сохранение в Parquet (быстрее CSV в 5–10 раз)\n",
        "df_limited.to_parquet('data.parquet', engine='pyarrow')"
      ],
      "id": "ynS1MlBU4Uhu"
    },
    {
      "cell_type": "markdown",
      "metadata": {
        "id": "kQzQGxo44Uhv"
      },
      "source": [
        "> ✅ Используйте Parquet или Feather для хранения промежуточных результатов."
      ],
      "id": "kQzQGxo44Uhv"
    },
    {
      "cell_type": "markdown",
      "metadata": {
        "id": "c9eruGAg4Uhv"
      },
      "source": [
        "### 2.4 Интеграция с ML-библиотеками"
      ],
      "id": "c9eruGAg4Uhv"
    },
    {
      "cell_type": "code",
      "execution_count": 11,
      "metadata": {
        "tags": [],
        "id": "s4Mej8VL4Uhv"
      },
      "outputs": [],
      "source": [
        "from sklearn.model_selection import train_test_split\n",
        "\n",
        "X = df.drop('target', axis=1).values # преобразуем в numpy array\n",
        "y = df['target'].values\n",
        "X_train, X_test, y_train, y_test = train_test_split(X, y, test_size=0.2, random_state=42)"
      ],
      "id": "s4Mej8VL4Uhv"
    },
    {
      "cell_type": "markdown",
      "metadata": {
        "id": "vA-cmOos4Uhv"
      },
      "source": [
        "> 💡 Для удобства работы можно оставить данные в виде `DataFrame` и использовать `.to_numpy()` при необходимости."
      ],
      "id": "vA-cmOos4Uhv"
    },
    {
      "cell_type": "markdown",
      "metadata": {
        "id": "7GRO5zXr4Uhv"
      },
      "source": [
        "## 🔴 Экспертный уровень (Для хакатонов и Kaggle Grandmasters)"
      ],
      "id": "7GRO5zXr4Uhv"
    },
    {
      "cell_type": "markdown",
      "metadata": {
        "id": "f2LTvdSu4Uhw"
      },
      "source": [
        "### 3.1 Работа с гигабайтными данными"
      ],
      "id": "f2LTvdSu4Uhw"
    },
    {
      "cell_type": "code",
      "execution_count": 12,
      "metadata": {
        "tags": [],
        "id": "POVM21Fu4Uhw"
      },
      "outputs": [],
      "source": [
        "chunk_size = 5  # 100k строк за раз\n",
        "filtered_rows = []\n",
        "\n",
        "for chunk in pd.read_csv('data.csv', chunksize=chunk_size):\n",
        "    chunk = chunk[(chunk['category_col1']) == 'A']  # фильтрация на лету\n",
        "    filtered_rows.append(chunk)\n",
        "\n",
        "df = pd.concat(filtered_rows)"
      ],
      "id": "POVM21Fu4Uhw"
    },
    {
      "cell_type": "markdown",
      "metadata": {
        "id": "6x_jrMB34Uhw"
      },
      "source": [
        "> 📦 Это позволяет работать с файлами, которые больше доступной оперативной памяти."
      ],
      "id": "6x_jrMB34Uhw"
    },
    {
      "cell_type": "markdown",
      "metadata": {
        "id": "zIcAUZpG4Uhw"
      },
      "source": [
        "### 3.2 Разреженные матрицы для текстов/NLP"
      ],
      "id": "zIcAUZpG4Uhw"
    },
    {
      "cell_type": "code",
      "execution_count": null,
      "metadata": {
        "tags": [],
        "id": "CqThiqlK4Uhw"
      },
      "outputs": [],
      "source": [
        "from sklearn.feature_extraction.text import TfidfVectorizer\n",
        "from scipy.sparse import save_npz\n",
        "\n",
        "vectorizer = TfidfVectorizer()\n",
        "sparse_matrix = vectorizer.fit_transform(df['city'])\n",
        "\n",
        "print(sparse_matrix)\n",
        "# Сохранение в формате, совместимом с LibSVM\n",
        "save_npz('sparse_data.npz', sparse_matrix)"
      ],
      "id": "CqThiqlK4Uhw"
    },
    {
      "cell_type": "markdown",
      "metadata": {
        "id": "Z1YW2FYA4Uhw"
      },
      "source": [
        "> ✅ Разреженные матрицы экономят память и подходят для моделей вроде SVM, LogisticRegression."
      ],
      "id": "Z1YW2FYA4Uhw"
    },
    {
      "cell_type": "markdown",
      "metadata": {
        "id": "tg0QYxrt4Uhx"
      },
      "source": [
        "### 3.3 GPU-ускорение с RAPIDS"
      ],
      "id": "tg0QYxrt4Uhx"
    },
    {
      "cell_type": "code",
      "execution_count": 14,
      "metadata": {
        "tags": [],
        "id": "Cf-iIB0Z4Uh3"
      },
      "outputs": [],
      "source": [
        "import cudf\n",
        "\n",
        "# Чтение данных на GPU\n",
        "gdf = cudf.read_csv('data.csv', na_values='?')\n",
        "gdf.dropna(inplace=True)\n",
        "gdf = gdf.query(\"value > 200\")  # фильтрация в 10–50x быстрее, чем pandas\n",
        "\n",
        "# Конвертация в numpy для моделей\n",
        "X = gdf.to_pandas().values\n"
      ],
      "id": "Cf-iIB0Z4Uh3"
    },
    {
      "cell_type": "markdown",
      "metadata": {
        "id": "j8wX7VLW4Uh3"
      },
      "source": [
        "> 🚀 Требуется CUDA-совместимая видеокарта и установка библиотек RAPIDS."
      ],
      "id": "j8wX7VLW4Uh3"
    },
    {
      "cell_type": "markdown",
      "metadata": {
        "id": "i26KJUXh4Uh3"
      },
      "source": [
        "### 3.4 Экстремальная оптимизация"
      ],
      "id": "i26KJUXh4Uh3"
    },
    {
      "cell_type": "code",
      "execution_count": 15,
      "metadata": {
        "tags": [],
        "id": "JgkNibnl4Uh3"
      },
      "outputs": [],
      "source": [
        "# Уменьшение точности float64 -> float16\n",
        "df = df.astype({col: 'float16' for col in df.select_dtypes(include=['float']).columns})\n",
        "\n",
        "# Словарное сжатие для строк\n",
        "df['city'] = df['city'].astype('category').cat.codes\n"
      ],
      "id": "JgkNibnl4Uh3"
    },
    {
      "cell_type": "markdown",
      "metadata": {
        "id": "PA70WaXz4Uh3"
      },
      "source": [
        "> 🧪 Полезно для очень больших датасетов, где каждый байт важен."
      ],
      "id": "PA70WaXz4Uh3"
    },
    {
      "cell_type": "markdown",
      "metadata": {
        "id": "1x_5KT9n4Uh4"
      },
      "source": [
        "### 3.5 Инкрементальное обучение (Online Learning)"
      ],
      "id": "1x_5KT9n4Uh4"
    },
    {
      "cell_type": "code",
      "execution_count": 16,
      "metadata": {
        "tags": [],
        "id": "KCMA2wHW4Uh4"
      },
      "outputs": [],
      "source": [
        "from sklearn.linear_model import SGDClassifier\n",
        "\n",
        "model = SGDClassifier()\n",
        "for chunk in pd.read_csv('data.csv', usecols=['id', 'target'], na_values=\"?\", chunksize=5):\n",
        "    X = chunk.drop('target', axis=1)\n",
        "    y = chunk['target']\n",
        "    model.partial_fit(X, y, classes=[0, 1])"
      ],
      "id": "KCMA2wHW4Uh4"
    },
    {
      "cell_type": "markdown",
      "metadata": {
        "id": "JjNYoR9y4Uh4"
      },
      "source": [
        "> 🔄 Подходит для потоковой обработки данных, например, в реальном времени."
      ],
      "id": "JjNYoR9y4Uh4"
    },
    {
      "cell_type": "markdown",
      "metadata": {
        "id": "xzAovPzN4Uh4"
      },
      "source": [
        "## 📊 Чеклист по уровням\n",
        "\n",
        "| Уровень | Навыки |\n",
        "|--------|--------|\n",
        "| 🟢     | Чтение CSV/Excel, анализ данных, fillna/drop_duplicates |\n",
        "| 🟡     | Оптимизация типов, категориальные признаки, parquet, train_test_split |\n",
        "| 🔴     | Итеративная обработка, GPU-ускорение, разреженные матрицы, online learning |"
      ],
      "id": "xzAovPzN4Uh4"
    },
    {
      "cell_type": "markdown",
      "metadata": {
        "id": "yaMNE1d14Uh4"
      },
      "source": [
        "## ⚠️ Антипаттерны\n",
        "\n",
        "| Уровень | Что делать не стоит |\n",
        "|---------|---------------------|\n",
        "| 🟢      | Сохранять данные с индексом без необходимости |\n",
        "| 🟢      | Читать весь большой файл целиком ради просмотра |\n",
        "| 🟡      | Не использовать `usecols` при работе с большими файлами |\n",
        "| 🔴      | Игнорировать `dtype` при чтении больших данных |\n",
        "| 🔴      | Использовать медленные циклы вместо векторизованных операций |"
      ],
      "id": "yaMNE1d14Uh4"
    },
    {
      "cell_type": "markdown",
      "metadata": {
        "id": "yXhLpiG64Uh4"
      },
      "source": [
        "## 🚀 Полезные советы\n",
        "\n",
        "1. **Тестирование перед обработкой:**  \n",
        "   ```python\n",
        "   pd.read_csv('test_data.csv', nrows=10)  # проверка структуры\n",
        "   ```\n",
        "\n",
        "2. **Быстрая конвертация в NumPy:**  \n",
        "   ```python\n",
        "   X = df.values  # работает быстро\n",
        "   ```\n",
        "\n",
        "3. **Проверка памяти:**  \n",
        "   ```python\n",
        "   df.memory_usage(deep=True)\n",
        "   ```\n",
        "\n",
        "4. **Избежание копий:**  \n",
        "   Используйте `inplace=True` или переприсваивайте переменные явно."
      ],
      "id": "yXhLpiG64Uh4"
    },
    {
      "cell_type": "markdown",
      "metadata": {
        "id": "w75au5_r4Uh5"
      },
      "source": [
        "## 📌 Итог\n",
        "\n",
        "Pandas — основной инструмент для подготовки данных в ML. Он прост в освоении, но мощный в использовании. От базового анализа до экспертных техник вроде GPU-ускорения и онлайн-обучения — он покрывает полный цикл работы с данными.\n",
        "\n",
        "> 🎯 Главное правило: всегда помни, что ты готовишь данные **для модели**, поэтому делай это эффективно и аккуратно."
      ],
      "id": "w75au5_r4Uh5"
    }
  ],
  "metadata": {
    "kernelspec": {
      "display_name": "Python 3",
      "name": "python3"
    },
    "language_info": {
      "codemirror_mode": {
        "name": "ipython",
        "version": 3
      },
      "file_extension": ".py",
      "mimetype": "text/x-python",
      "name": "python",
      "nbconvert_exporter": "python",
      "pygments_lexer": "ipython3",
      "version": "3.10.13"
    },
    "colab": {
      "provenance": [],
      "gpuType": "T4",
      "include_colab_link": true
    },
    "accelerator": "GPU"
  },
  "nbformat": 4,
  "nbformat_minor": 5
}