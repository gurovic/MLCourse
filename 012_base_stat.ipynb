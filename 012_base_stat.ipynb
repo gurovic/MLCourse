{
  "cells": [
    {
      "cell_type": "markdown",
      "metadata": {
        "id": "view-in-github",
        "colab_type": "text"
      },
      "source": [
        "<a href=\"https://colab.research.google.com/github/gurovic/MLCourse/blob/main/012_base_stat.ipynb\" target=\"_parent\"><img src=\"https://colab.research.google.com/assets/colab-badge.svg\" alt=\"Open In Colab\"/></a>"
      ]
    },
    {
      "cell_type": "markdown",
      "metadata": {
        "id": "EXBGUPaa5L-e"
      },
      "source": [
        "### Подготовка среды"
      ]
    },
    {
      "cell_type": "code",
      "execution_count": null,
      "metadata": {
        "id": "789I1bIM5L-e"
      },
      "outputs": [],
      "source": [
        "!pip install pandas numpy matplotlib\n",
        "import pandas as pd\n",
        "import numpy as np\n",
        "import matplotlib.pyplot as plt"
      ]
    },
    {
      "cell_type": "markdown",
      "metadata": {
        "id": "-tqu7hq55L-f"
      },
      "source": [
        "### Создание демо-данных"
      ]
    },
    {
      "cell_type": "code",
      "execution_count": null,
      "metadata": {
        "id": "3ic1oHyD5L-f"
      },
      "outputs": [],
      "source": [
        "data = {\n",
        "    'id': [1, 2, 3, 4, 5, 6, 7, 8, 9],\n",
        "    'temperature': [26.6, 27.2, 25.8, 18.1, 26.9, 12.4, 20.2, 30.0, 22.1],\n",
        "    'weather': ['солнечно', 'дождь', 'облачно', 'солнечно', 'дождь', 'солнечно', 'облачно', 'солнечно','облачно', ],\n",
        "    'timestamp': ['2023-01-01', '2023-01-02', '2023-01-03', '2023-01-04', '2023-01-05', '2023-10-04', '2024-01-04', '2023-02-04', '2023-01-05'],\n",
        "    'city': ['Москва', 'Екатеринбург', 'Екатеринбург', 'Санкт-Петербург', 'Казань', 'Санкт-Петербург', 'Сочи', 'Сочи', 'Екатеринбург'],\n",
        "    'feedback': ['Отличный сервис!', 'Плохая погода...', 'OK:)', 'Нормально', '', 'Все понравилось', 'Не впечатлило', 'Прекрасное место', 'Удовлетворительно']\n",
        "}\n",
        "\n",
        "df = pd.DataFrame(data)\n",
        "df.to_csv('multitype_data.csv', index=False)\n",
        "df.head()"
      ]
    },
    {
      "cell_type": "markdown",
      "metadata": {
        "id": "WTxyW6Mo5L-f"
      },
      "source": [
        "## 🟢 Базовый уровень"
      ]
    },
    {
      "cell_type": "markdown",
      "metadata": {
        "id": "UET-6Erv5L-g"
      },
      "source": [
        "### 1.1 Основные типы данных"
      ]
    },
    {
      "cell_type": "code",
      "execution_count": null,
      "metadata": {
        "id": "xo1C2DK15L-g"
      },
      "outputs": [],
      "source": [
        "print(\"Типы столбцов:\")\n",
        "print(df.dtypes)\n",
        "\n",
        "print(\"\\nЧисловые: int64, float64 (непрерывность, масштаб)\")\n",
        "print(\"Категориальные: object (дискретность, ограниченные значения)\")\n",
        "print(\"Временные: object (цикличность, порядок)\")\n",
        "print(\"Гео/текст: object (пространственные/семантические связи)\")"
      ]
    },
    {
      "cell_type": "markdown",
      "metadata": {
        "id": "AnWHVGk05L-g"
      },
      "source": [
        "### 1.2 Преобразование базовых типов"
      ]
    },
    {
      "cell_type": "code",
      "execution_count": null,
      "metadata": {
        "id": "48teDJ5s5L-g"
      },
      "outputs": [],
      "source": [
        "# Числовой -> float (проверка масштаба)\n",
        "df['temperature'] = pd.to_numeric(df['temperature'], errors='coerce')\n",
        "\n",
        "# Временной -> datetime (обязательная конвертация)\n",
        "df['timestamp'] = pd.to_datetime(df['timestamp'])\n",
        "\n",
        "# Категориальный -> category (анализ уникальных значений)\n",
        "df['weather'] = df['weather'].astype('category')\n",
        "print(f\"Уникальные значения погоды: {df['weather'].cat.categories.tolist()}\")"
      ]
    },
    {
      "cell_type": "markdown",
      "metadata": {
        "id": "vZ4KU9eP5L-g"
      },
      "source": [
        "### 1.3 Специфичные операции по типам"
      ]
    },
    {
      "cell_type": "code",
      "execution_count": null,
      "metadata": {
        "id": "bSutYibr5L-g"
      },
      "outputs": [],
      "source": [
        "# Числовые: анализ распределения\n",
        "print(f\"Распределение температуры:\\n{df['temperature'].describe()}\")\n",
        "df['temperature'].plot(kind='hist', title='Распределение температуры')\n",
        "plt.show()\n",
        "\n",
        "# Категориальные: анализ частот\n",
        "print(f\"Частоты погодных условий:\\n{df['weather'].value_counts()}\")\n",
        "df['weather'].value_counts().plot(kind='bar', color='skyblue')\n",
        "plt.show()\n",
        "\n",
        "# Временные: проверка хронологии\n",
        "print(f\"Диапазон дат: {df['timestamp'].min()} - {df['timestamp'].max()}\")"
      ]
    },
    {
      "cell_type": "markdown",
      "metadata": {
        "id": "tMuvLOee5L-h"
      },
      "source": [
        "## 🟡 Продвинутый уровень"
      ]
    },
    {
      "cell_type": "markdown",
      "metadata": {
        "id": "3MKMIDkN5L-h"
      },
      "source": [
        "### 2.1 Особенности работы с типами\n",
        "\n",
        "| Тип          | Ключевые характеристики              | Важные операции               |\n",
        "|--------------|--------------------------------------|--------------------------------|\n",
        "| **Числовой** | Масштаб, распределение, выбросы     | `describe()`, `skew()`, `kurtosis()` |\n",
        "| **Категориальный** | Дисбаланс классов, ограниченный набор | `nunique()`, `value_counts()` |\n",
        "| **Временной** | Частота, тренды, сезонность         | `dt` аксессор, `diff()`       |\n",
        "| **Гео**      | Пространственные кластеры           | Группировка (`groupby`)        |\n",
        "| **Текст**    | Длина, ключевые слова               | `str.len()`, `str.contains()`  |"
      ]
    },
    {
      "cell_type": "markdown",
      "metadata": {
        "id": "hEatWKjr5L-h"
      },
      "source": [
        "### 2.2 Глубокий анализ по типам"
      ]
    },
    {
      "cell_type": "code",
      "execution_count": null,
      "metadata": {
        "id": "YCM_fFzP5L-h"
      },
      "outputs": [],
      "source": [
        "# Числовые: проверка асимметрии\n",
        "print(f\"Асимметрия температуры: {df['temperature'].skew():.2f}\")\n",
        "\n",
        "# Категориальные: выявление дисбаланса\n",
        "weather_counts = df['weather'].value_counts(normalize=True)\n",
        "print(f\"Дисбаланс классов: {weather_counts.to_dict()}\")\n",
        "\n",
        "# Текстовые: базовая очистка\n",
        "df['feedback_clean'] = df['feedback'].str.replace(r'[^\\w\\s]', '', regex=True)\n",
        "print(\"\\nОчищенные отзывы:\")\n",
        "print(df['feedback_clean'])"
      ]
    },
    {
      "cell_type": "markdown",
      "metadata": {
        "id": "25Jrnndh5L-h"
      },
      "source": [
        "### 2.3 Группировка по типам"
      ]
    },
    {
      "cell_type": "code",
      "execution_count": null,
      "metadata": {
        "id": "3nbljyeU5L-h"
      },
      "outputs": [],
      "source": [
        "# Группировка по городу + температурные статистики\n",
        "city_stats = df.groupby('city')['temperature'].agg(['mean', 'std', 'count'])\n",
        "print(\"Статистики по городам:\")\n",
        "display(city_stats)\n",
        "\n",
        "# Анализ временных паттернов\n",
        "df['day_of_week'] = df['timestamp'].dt.day_name()\n",
        "print(\"Температура по дням недели:\")\n",
        "display(df.groupby('day_of_week')['temperature'].mean())"
      ]
    },
    {
      "source": [
        "from google.colab import sheets\n",
        "sheet = sheets.InteractiveSheet(df=city_stats)"
      ],
      "cell_type": "code",
      "execution_count": null,
      "outputs": [],
      "metadata": {
        "cellView": "form",
        "id": "z6DkotCN74Z6"
      }
    },
    {
      "cell_type": "markdown",
      "metadata": {
        "id": "Rw_7qmr85L-h"
      },
      "source": [
        "## 🔴 Экспертный уровень"
      ]
    },
    {
      "cell_type": "markdown",
      "metadata": {
        "id": "mMKJslqk5L-h"
      },
      "source": [
        "### 3.1 Автоматизация обработки типов"
      ]
    },
    {
      "cell_type": "code",
      "execution_count": null,
      "metadata": {
        "id": "iEceAYY-5L-h"
      },
      "outputs": [],
      "source": [
        "def auto_handle_dtypes(df: pd.DataFrame) -> pd.DataFrame:\n",
        "    \"\"\"Автоматическое преобразование типов с сохранением семантики\"\"\"\n",
        "    for col in df.columns:\n",
        "        # Числовые данные\n",
        "        if pd.api.types.is_numeric_dtype(df[col]):\n",
        "            # Проверка масштаба\n",
        "            if df[col].min() > 0 and df[col].max() / df[col].min() > 1000:\n",
        "                print(f\"⚠️ Большой масштаб в колонке {col}!\")\n",
        "\n",
        "        # Текстовые данные\n",
        "        elif pd.api.types.is_string_dtype(df[col]):\n",
        "            # Автоопределение категорий\n",
        "            if df[col].nunique() < 20:\n",
        "                df[col] = df[col].astype('category')\n",
        "\n",
        "        # Временные данные\n",
        "        elif pd.api.types.is_datetime64_any_dtype(df[col]):\n",
        "            # Проверка частоты\n",
        "            freq = df[col].diff().mode()[0]\n",
        "            print(f\"Частота данных в {col}: {freq}\")\n",
        "\n",
        "    return df\n",
        "\n",
        "df = auto_handle_dtypes(df.copy())\n",
        "print(\"\\nТипы данных после автоматической обработки:\")\n",
        "print(df.dtypes)"
      ]
    },
    {
      "cell_type": "markdown",
      "metadata": {
        "id": "UCnWVs5O5L-i"
      },
      "source": [
        "### 3.2 Семантический анализ типов"
      ]
    },
    {
      "cell_type": "code",
      "execution_count": null,
      "metadata": {
        "id": "qlnPtOXH5L-i"
      },
      "outputs": [],
      "source": [
        "from pandas.api.types import infer_dtype\n",
        "\n",
        "type_mapping = {\n",
        "    'integer': 'числовой',\n",
        "    'floating': 'числовой',\n",
        "    'categorical': 'категориальный',\n",
        "    'datetime': 'временной',\n",
        "    'string': 'текстовый'\n",
        "}\n",
        "\n",
        "print(\"Семантические типы данных:\")\n",
        "for col in df.columns:\n",
        "    semantic_type = infer_dtype(df[col])\n",
        "    print(f\"{col}: {type_mapping.get(semantic_type, 'специальный')}\")"
      ]
    },
    {
      "cell_type": "markdown",
      "metadata": {
        "id": "HFG4vvUq5L-i"
      },
      "source": [
        "## 📊 Чеклист\n",
        "\n",
        "| Уровень  | Навыки |\n",
        "|----------|--------|\n",
        "| 🟢       | Определение типов, базовое преобразование, анализ распределений |\n",
        "| 🟡       | Группировка по типам, выявление дисбаланса, временные паттерны |\n",
        "| 🔴       | Автоматическая обработка, семантический анализ, масштабирование |"
      ]
    },
    {
      "cell_type": "markdown",
      "metadata": {
        "id": "vessieSR5L-i"
      },
      "source": [
        "## ⚠️ Критические ошибки\n",
        "\n",
        "1. **Путаница типов**: обработка ID-номеров как числовых данных  \n",
        "2. **Игнорирование масштаба**: смешение признаков в разных диапазонах (возраст и доход)  \n",
        "3. **Некорректная группировка**: объединение редких категорий без анализа"
      ]
    },
    {
      "cell_type": "markdown",
      "metadata": {
        "id": "Gl1hxU-p5L-i"
      },
      "source": [
        "## 💡 Ключевые принципы обработки\n",
        "\n",
        "1. **Числовые данные**:  \n",
        "   - Всегда анализируйте распределение (`df.describe()`, `.skew()`)  \n",
        "   - Проверяйте масштаб: признаки в разных диапазонах требуют нормализации  \n",
        "   - Ищите выбросы: они искажают статистические показатели\n",
        "\n",
        "2. **Категориальные данные**:  \n",
        "   - Определяйте уникальные значения: `df[col].nunique()`  \n",
        "   - Анализируйте дисбаланс классов: `value_counts(normalize=True)`  \n",
        "   - Для высококардинальных признаков (>100 категорий) используйте частотные методы\n",
        "\n",
        "3. **Временные данные**:  \n",
        "   - Немедленная конвертация в `datetime` после загрузки  \n",
        "   - Проверяйте полноту временного ряда: `df['timestamp'].diff().mean()`  \n",
        "   - Извлекайте цикличные компоненты (день недели, месяц)\n",
        "\n",
        "4. **Геоданные**:  \n",
        "   - На начальном этапе обрабатывайте как категориальные  \n",
        "   - Группируйте по регионам для выявления пространственных паттернов  \n",
        "   - Анализируйте распределение объектов: `df['city'].value_counts()`\n",
        "\n",
        "5. **Текстовые данные**:  \n",
        "   - Начинайте с базовой очистки: удаление спецсимволов  \n",
        "   - Анализируйте длину текста: `df['text'].str.len().describe()`  \n",
        "   - Выявляйте ключевые слова: `df['text'].str.contains('проблема').sum()`"
      ]
    },
    {
      "cell_type": "markdown",
      "metadata": {
        "id": "g2KuaZFI5L-i"
      },
      "source": [
        "## 📌 Итог\n",
        "\n",
        "Тип данных определяет стратегию анализа:\n",
        "- **Числовые** → Распределение и масштаб\n",
        "- **Категориальные** → Частоты и дисбаланс\n",
        "- **Временные** → Хронология и цикличность\n",
        "- **Гео/текст** → Группировка и частотный анализ\n",
        "\n",
        "> 💡 Золотое правило: \"Правильная идентификация типа данных - фундамент для всех последующих аналитических и ML операций. Ошибка на этом этапе исказит все результаты.\""
      ]
    }
  ],
  "metadata": {
    "kernelspec": {
      "display_name": "Python 3",
      "language": "python",
      "name": "python3"
    },
    "language_info": {
      "codemirror_mode": {
        "name": "ipython",
        "version": 3
      },
      "file_extension": ".py",
      "mimetype": "text/x-python",
      "name": "python",
      "nbconvert_exporter": "python",
      "pygments_lexer": "ipython3",
      "version": "3.8.5"
    },
    "colab": {
      "provenance": [],
      "include_colab_link": true
    }
  },
  "nbformat": 4,
  "nbformat_minor": 0
}