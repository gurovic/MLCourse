{
  "cells": [
    {
      "cell_type": "markdown",
      "metadata": {
        "id": "view-in-github",
        "colab_type": "text"
      },
      "source": [
        "<a href=\"https://colab.research.google.com/github/gurovic/MLCourse/blob/main/013_create_data.ipynb\" target=\"_parent\"><img src=\"https://colab.research.google.com/assets/colab-badge.svg\" alt=\"Open In Colab\"/></a>"
      ]
    },
    {
      "cell_type": "markdown",
      "metadata": {
        "id": "9-KFVcCvyHLR"
      },
      "source": [
        "### Создание синтетических данных\n",
        "\n",
        "#### 🟢 Базовый уровень (Must Know)\n",
        "**Цель:** Научиться генерировать простые структуры данных"
      ]
    },
    {
      "cell_type": "code",
      "execution_count": null,
      "metadata": {
        "id": "ItaEt3Y1yHLT"
      },
      "outputs": [],
      "source": [
        "import numpy as np\n",
        "import pandas as pd\n",
        "\n",
        "# Равномерное распределение (цены товаров)\n",
        "prices = np.random.uniform(10, 100, 1000)\n",
        "\n",
        "# Нормальное распределение (рост пользователей)\n",
        "heights = np.random.normal(175, 10, 1000)\n",
        "\n",
        "# Биномиальное распределение (конверсии)\n",
        "conversions = np.random.binomial(1, 0.3, 1000)"
      ]
    },
    {
      "cell_type": "code",
      "execution_count": null,
      "metadata": {
        "id": "BJd7wqk9yHLT"
      },
      "outputs": [],
      "source": [
        "# Простые A/B-тесты\n",
        "def generate_ab_data(n=1000, effect=0):\n",
        "    return pd.DataFrame({\n",
        "        'group': np.random.choice(['A', 'B'], n),\n",
        "        'converted': np.random.binomial(1, 0.2 + effect, n)\n",
        "    })\n",
        "\n",
        "# Пример использования\n",
        "ab_data = generate_ab_data()\n",
        "ab_data.head()"
      ]
    },
    {
      "cell_type": "code",
      "execution_count": null,
      "metadata": {
        "id": "AKm4rj9ryHLU"
      },
      "outputs": [],
      "source": [
        "# Базовые временные ряды\n",
        "dates = pd.date_range('2023-01-01', periods=30)\n",
        "sales = 50 + np.random.normal(0, 5, 30)\n",
        "time_series = pd.DataFrame({'date': dates, 'sales': sales})\n",
        "time_series.plot(x='date', y='sales', title='Продажи')"
      ]
    },
    {
      "cell_type": "markdown",
      "metadata": {
        "id": "yqHzCmVdyHLU"
      },
      "source": [
        "#### 🟡 Продвинутый уровень (Good to Know)\n",
        "**Цель:** Генерация данных для ML моделей"
      ]
    },
    {
      "cell_type": "code",
      "execution_count": null,
      "metadata": {
        "id": "sRcNlOHYyHLU"
      },
      "outputs": [],
      "source": [
        "from sklearn.datasets import make_classification, make_regression\n",
        "\n",
        "# Классификация\n",
        "X_cls, y_cls = make_classification(\n",
        "    n_samples=1000,\n",
        "    n_features=10,\n",
        "    n_informative=5,\n",
        "    n_classes=3,\n",
        "    class_sep=1.5,\n",
        "    random_state=42\n",
        ")\n",
        "\n",
        "# Регрессия\n",
        "X_reg, y_reg = make_regression(\n",
        "    n_samples=500,\n",
        "    n_features=7,\n",
        "    noise=20,\n",
        "    bias=100,\n",
        "    random_state=42\n",
        ")"
      ]
    },
    {
      "cell_type": "code",
      "execution_count": null,
      "metadata": {
        "id": "UanT5hLWyHLU"
      },
      "outputs": [],
      "source": [
        "# Сложные A/B-тесты\n",
        "def generate_ab_data_advanced(n=2000):\n",
        "    groups = np.random.choice(['A', 'B'], n)\n",
        "    effect = np.where(groups == 'B', 0.08, 0)\n",
        "    return pd.DataFrame({\n",
        "        'group': groups,\n",
        "        'converted': np.random.binomial(1, 0.25 + effect),\n",
        "        'session_duration': np.random.exponential(300, n)\n",
        "    })\n",
        "\n",
        "# Пример использования\n",
        "ab_advanced = generate_ab_data_advanced()\n",
        "ab_advanced.groupby('group').mean()"
      ]
    },
    {
      "cell_type": "markdown",
      "metadata": {
        "id": "kGrrFPX4yHLU"
      },
      "source": [
        "#### 🔴 Экспертный уровень (Nice to Know)\n",
        "**Цель:** Моделирование сложных реалистичных сценариев"
      ]
    },
    {
      "cell_type": "code",
      "execution_count": null,
      "metadata": {
        "id": "VP1B_M2xyHLV"
      },
      "outputs": [],
      "source": [
        "# Несбалансированные данные\n",
        "X_imb, y_imb = make_classification(\n",
        "    n_samples=5000,\n",
        "    weights=[0.95, 0.05],  # 5% миноритарного класса\n",
        "    flip_y=0.02,\n",
        "    random_state=42\n",
        ")\n",
        "print(f\"Соотношение классов: {sum(y_imb==0)} vs {sum(y_imb==1)}\")"
      ]
    },
    {
      "cell_type": "code",
      "execution_count": null,
      "metadata": {
        "id": "PsNNK6KayHLV"
      },
      "outputs": [],
      "source": [
        "# Симулятор транзакций\n",
        "def generate_transactions(n=10000):\n",
        "    is_fraud = np.random.binomial(1, 0.01, n)\n",
        "    amounts = np.where(\n",
        "        is_fraud,\n",
        "        np.random.lognormal(6, 0.5, n),\n",
        "        np.random.normal(50, 15, n)\n",
        "    )\n",
        "    return pd.DataFrame({\n",
        "        'amount': amounts,\n",
        "        'hour': np.random.randint(0, 24, n),\n",
        "        'is_fraud': is_fraud\n",
        "    })\n",
        "\n",
        "# Пример использования\n",
        "transactions = generate_transactions()\n",
        "transactions.groupby('is_fraud').describe()"
      ]
    },
    {
      "cell_type": "code",
      "execution_count": null,
      "metadata": {
        "id": "ZCC9sCRZyHLV"
      },
      "outputs": [],
      "source": [
        "# Uplift-моделирование\n",
        "def generate_uplift_data(n=5000):\n",
        "    treatment = np.random.choice(['control', 'email', 'sms'], n)\n",
        "    uplift = np.random.normal(0.05, 0.02, n)\n",
        "    base_rate = 0.15\n",
        "    prob = base_rate + np.where(\n",
        "        treatment == 'control', 0,\n",
        "        uplift + np.random.normal(0, 0.01, n)\n",
        "    )\n",
        "    return pd.DataFrame({\n",
        "        'treatment': treatment,\n",
        "        'converted': np.random.binomial(1, prob)\n",
        "    })\n",
        "\n",
        "# Пример использования\n",
        "uplift_data = generate_uplift_data()\n",
        "uplift_data.groupby('treatment')['converted'].mean()"
      ]
    },
    {
      "cell_type": "markdown",
      "metadata": {
        "id": "gflvtAoPyHLV"
      },
      "source": [
        "### 📊 Чеклист по уровням\n",
        "| Уровень | Навыки | Инструменты |\n",
        "|---------|--------|-------------|\n",
        "| **🟢** | Базовые распределения, простые A/B-тесты | `numpy.random`, `pandas` |\n",
        "| **🟡** | Генерация данных для ML, многовариативные тесты | `make_classification`, `make_regression` |\n",
        "| **🔴** | Несбалансированные данные, uplift-моделирование, симуляция транзакций | Кастомные генераторы |"
      ]
    },
    {
      "cell_type": "markdown",
      "metadata": {
        "id": "I0jywTNuyHLV"
      },
      "source": [
        "### ⚠️ Антипаттерны\n",
        "1. **Игнорирование распределений**  \n",
        "   ```python\n",
        "   # Плохо: доходы с нормальным распределением\n",
        "   incomes = np.random.normal(50000, 15000, 1000)\n",
        "   \n",
        "   # Хорошо: логнормальное распределение\n",
        "   incomes = np.random.lognormal(10, 0.5, 1000)\n",
        "   ```\n",
        "\n",
        "2. **Нереалистичные A/B-тесты**  \n",
        "   ```python\n",
        "   # Плохо: одинаковое распределение в группах\n",
        "   group_a = np.random.normal(100, 10, 500)\n",
        "   group_b = np.random.normal(100, 10, 500)\n",
        "   ```\n",
        "\n",
        "3. **Пренебрежение временными паттернами**  \n",
        "   ```python\n",
        "   # Плохо: равномерная активность\n",
        "   hourly_activity = np.random.poisson(50, 24)\n",
        "   \n",
        "   # Хорошо: пики в определенные часы\n",
        "   peaks = [9, 12, 19]\n",
        "   hourly_activity = [100 if h in peaks else 30 for h in range(24)]\n",
        "   ```"
      ]
    },
    {
      "cell_type": "markdown",
      "metadata": {
        "id": "L-fh0cz2yHLW"
      },
      "source": [
        "### 💡 Полезные практики\n",
        "1. **Воспроизводимость**  \n",
        "   Всегда устанавливайте `random_state`:\n",
        "   ```python\n",
        "   np.random.seed(42)\n",
        "   ```\n",
        "\n",
        "2. **Валидация данных**  \n",
        "   Проверяйте статистики:\n",
        "   ```python\n",
        "   print(df.describe())\n",
        "   df['is_fraud'].value_counts(normalize=True)\n",
        "   ```\n",
        "\n",
        "3. **Визуализация**  \n",
        "   Строите графики для проверки:\n",
        "   ```python\n",
        "   import matplotlib.pyplot as plt\n",
        "   plt.hist(df['amount'], bins=50)\n",
        "   plt.show()\n",
        "   ```"
      ]
    },
    {
      "cell_type": "markdown",
      "metadata": {
        "id": "3UoZFrZYyHLW"
      },
      "source": [
        "### 📌 Итог\n",
        "1. **🟢 Базовый уровень**: Освойте генерацию случайных чисел и простых датасетов  \n",
        "2. **🟡 Продвинутый уровень**: Учитесь создавать данные для ML-моделей  \n",
        "3. **🔴 Экспертный уровень**: Моделируйте сложные доменные сценарии  \n",
        "\n",
        "> **Философия главы:**  \n",
        "> \"Синтетические данные — это песочница для аналитика. Стройте в ней любые эксперименты, но помните: реальный мир всегда сложнее вашей модели.\""
      ]
    }
  ],
  "metadata": {
    "kernelspec": {
      "display_name": "Python 3",
      "language": "python",
      "name": "python3"
    },
    "language_info": {
      "codemirror_mode": {
        "name": "ipython",
        "version": 3
      },
      "file_extension": ".py",
      "mimetype": "text/x-python",
      "name": "python",
      "nbconvert_exporter": "python",
      "pygments_lexer": "ipython3",
      "version": "3.10.6"
    },
    "colab": {
      "provenance": [],
      "include_colab_link": true
    }
  },
  "nbformat": 4,
  "nbformat_minor": 0
}