{
  "cells": [
    {
      "cell_type": "markdown",
      "metadata": {
        "id": "view-in-github",
        "colab_type": "text"
      },
      "source": [
        "<a href=\"https://colab.research.google.com/github/gurovic/MLCourse/blob/main/019_EDA.ipynb\" target=\"_parent\"><img src=\"https://colab.research.google.com/assets/colab-badge.svg\" alt=\"Open In Colab\"/></a>"
      ]
    },
    {
      "cell_type": "markdown",
      "metadata": {
        "id": "xmWMwcYb2ipa"
      },
      "source": [
        "<a href=\"https://kaggle.com/kernels/welcome?src=https://github.com/gurovic/MLCourse/blob/main/010_read.ipynb\" target=\"_parent\"><img src=\"https://kaggle.com/static/images/open-in-kaggle.svg\" alt=\"Open In Kaggle\"></a>\n",
        "\n",
        "# **Exploratory Data Analysis (EDA): Исследовательский анализ данных**\n",
        "\n",
        "## **Введение в EDA**\n",
        "EDA — это искусство задавать правильные вопросы данным. Это первый и самый важный этап работы с данными, где мы:\n",
        "- 🕵️‍♂️ **Знакомимся** с данными\n",
        "- 🔍 **Выявляем** закономерности и аномалии\n",
        "- 📊 **Визуализируем** ключевые характеристики\n",
        "- 💡 **Формулируем** гипотезы для дальнейшего анализа\n",
        "\n",
        "**Цели EDA:**\n",
        "1. Понимание структуры данных\n",
        "2. Обнаружение выбросов и ошибок\n",
        "3. Выявление взаимосвязей между переменными\n",
        "4. Проверка предположений для моделей"
      ],
      "id": "xmWMwcYb2ipa"
    },
    {
      "cell_type": "markdown",
      "metadata": {
        "id": "RdpJRAFr2ipd"
      },
      "source": [
        "## **🟢 Базовый уровень: Статистический анализ данных**"
      ],
      "id": "RdpJRAFr2ipd"
    },
    {
      "cell_type": "markdown",
      "metadata": {
        "id": "351o589a2ipe"
      },
      "source": [
        "### **1.1 Первичное знакомство с данными**"
      ],
      "id": "351o589a2ipe"
    },
    {
      "cell_type": "code",
      "execution_count": null,
      "metadata": {
        "id": "jRkG1hUs2ipe"
      },
      "outputs": [],
      "source": [
        "import pandas as pd\n",
        "import seaborn as sns\n",
        "\n",
        "# Загрузка данных\n",
        "df = sns.load_dataset('titanic')\n",
        "# iris = pd.read_csv('https://raw.githubusercontent.com/mwaskom/seaborn-data/master/iris.csv') # if you don't want to install seaborn\n",
        "\n",
        "\n",
        "# Основная информация\n",
        "print(\"Размер данных:\", df.shape)\n",
        "print(\"\\nПервые 5 строк:\")\n",
        "display(df.head())\n",
        "\n",
        "print(\"\\nТипы данных:\")\n",
        "display(df.dtypes)\n",
        "\n",
        "print(\"\\nПропуски:\")\n",
        "display(df.isnull().sum())"
      ],
      "id": "jRkG1hUs2ipe"
    },
    {
      "cell_type": "markdown",
      "metadata": {
        "id": "MgzyDaee2ipf"
      },
      "source": [
        "### **1.2 Описательная статистика**"
      ],
      "id": "MgzyDaee2ipf"
    },
    {
      "cell_type": "code",
      "execution_count": null,
      "metadata": {
        "id": "teBoYBCn2ipf"
      },
      "outputs": [],
      "source": [
        "# Для числовых переменных\n",
        "print(\"Описательная статистика числовых колонок:\")\n",
        "display(df.describe())\n",
        "\n",
        "# Для категориальных переменных\n",
        "print(\"\\nОписательная статистика категориальных колонок:\")\n",
        "display(df.describe(include=['object']))"
      ],
      "id": "teBoYBCn2ipf"
    },
    {
      "cell_type": "markdown",
      "metadata": {
        "id": "LALTTfMc2ipg"
      },
      "source": [
        "### **1.3 Простые визуализации**"
      ],
      "id": "LALTTfMc2ipg"
    },
    {
      "cell_type": "code",
      "execution_count": null,
      "metadata": {
        "id": "F7JnD3vy2ipg"
      },
      "outputs": [],
      "source": [
        "import matplotlib.pyplot as plt\n",
        "\n",
        "# Гистограмма распределения\n",
        "plt.figure(figsize=(10, 6))\n",
        "sns.histplot(df['age'].dropna(), kde=True, bins=20)\n",
        "plt.title('Распределение возраста пассажиров')\n",
        "plt.xlabel('Возраст')\n",
        "plt.ylabel('Частота')\n",
        "plt.show()\n",
        "\n",
        "# Boxplot для обнаружения выбросов\n",
        "plt.figure(figsize=(10, 6))\n",
        "sns.boxplot(x=df['fare'])\n",
        "plt.title('Распределение стоимости билетов')\n",
        "plt.xlabel('Стоимость билета')\n",
        "plt.ylabel('Частота')\n",
        "plt.show()"
      ],
      "id": "F7JnD3vy2ipg"
    },
    {
      "cell_type": "markdown",
      "metadata": {
        "id": "TTBUa8Lf2ipg"
      },
      "source": [
        "### **1.4 Анализ категориальных переменных**"
      ],
      "id": "TTBUa8Lf2ipg"
    },
    {
      "cell_type": "code",
      "execution_count": null,
      "metadata": {
        "id": "2B3ZGAse2ipg"
      },
      "outputs": [],
      "source": [
        "# Мозаичный график\n",
        "from statsmodels.graphics.mosaicplot import mosaic\n",
        "mosaic(df, ['class', 'alive'], title='Распределение таргета по классу')\n",
        "plt.show()\n",
        "\n",
        "# Тепловая карта частот\n",
        "cross_tab = pd.crosstab(df['class'], df['alive'])\n",
        "sns.heatmap(cross_tab, annot=True, fmt='d', cmap='Blues')\n",
        "plt.title('Тепловая карта частот')\n",
        "plt.show()"
      ],
      "id": "2B3ZGAse2ipg"
    },
    {
      "cell_type": "markdown",
      "metadata": {
        "id": "3ry70wTB2iph"
      },
      "source": [
        "## **🟡 Продвинутый уровень: Анализ взаимосвязей**"
      ],
      "id": "3ry70wTB2iph"
    },
    {
      "cell_type": "markdown",
      "metadata": {
        "id": "fEe-FAmS2iph"
      },
      "source": [
        "### **2.1 Корреляционный анализ**"
      ],
      "id": "fEe-FAmS2iph"
    },
    {
      "cell_type": "code",
      "execution_count": null,
      "metadata": {
        "id": "9EIwDQi02iph"
      },
      "outputs": [],
      "source": [
        "# Матрица корреляций\n",
        "plt.figure(figsize=(12, 8))\n",
        "corr_matrix = df.corr(numeric_only=True)\n",
        "sns.heatmap(corr_matrix, annot=True, cmap='coolwarm', fmt=\".2f\")\n",
        "plt.title('Матрица корреляций')\n",
        "plt.show()\n",
        "\n",
        "# Парные взаимосвязи\n",
        "sns.pairplot(df[['age', 'fare', 'pclass']].dropna())\n",
        "plt.suptitle('Парные распределения', y=1.02)\n",
        "plt.show()"
      ],
      "id": "9EIwDQi02iph"
    },
    {
      "cell_type": "markdown",
      "metadata": {
        "id": "VxrPMp1H2iph"
      },
      "source": [
        "### **2.2 Автоматизированный EDA: pandas profiling**"
      ],
      "id": "VxrPMp1H2iph"
    },
    {
      "cell_type": "code",
      "execution_count": null,
      "metadata": {
        "id": "6X3H0kxP2iph"
      },
      "outputs": [],
      "source": [
        "# Установка библиотек (раскомментировать при первом запуске)\n",
        "# библиотека pandas-profiling теперь называется ydata-profiling\n",
        "!pip install ydata-profiling\n",
        "\n",
        "from ydata_profiling import ProfileReport\n",
        "profile = ProfileReport(df, title='Автоматический EDA отчет Titanic')\n",
        "profile.to_file('titanic_report.html')\n",
        "\n"
      ],
      "id": "6X3H0kxP2iph"
    },
    {
      "cell_type": "markdown",
      "metadata": {
        "id": "WHDJMIaR2ipi"
      },
      "source": [
        "### **2.3 Автоматизированный EDA: sweetviz**"
      ],
      "id": "WHDJMIaR2ipi"
    },
    {
      "cell_type": "code",
      "source": [
        "# Установка библиотек (раскомментировать при первом запуске)\n",
        "!pip install numpy sweetviz --upgrade\n",
        "# После выполнения этого фрагмента кода версия numpy не будет подходить для ydata_profiling: если вы захотите запустить его, нужно удалить среду выполнения и запустить все заново\n",
        "\n",
        "import sweetviz as sv\n",
        "\n",
        "# удаляем колонки, чтобы работал пример, из-за бага в sweetviz при работе с новой версией numpy\n",
        "df = df.drop('age', axis=1)\n",
        "df = df.drop('fare', axis=1)\n",
        "\n",
        "report = sv.analyze(df)\n",
        "\n",
        "report.show_html('sweetviz_report.html')"
      ],
      "metadata": {
        "id": "gk88W46gMmSV"
      },
      "id": "gk88W46gMmSV",
      "execution_count": null,
      "outputs": []
    },
    {
      "cell_type": "markdown",
      "metadata": {
        "id": "8GyXw96Z2ipi"
      },
      "source": [
        "## **🔴 Экспертный уровень: Продвинутые техники EDA**"
      ],
      "id": "8GyXw96Z2ipi"
    },
    {
      "cell_type": "markdown",
      "metadata": {
        "id": "41S7LzXP2ipi"
      },
      "source": [
        "### **3.1 Анализ мультиколлинеарности**"
      ],
      "id": "41S7LzXP2ipi"
    },
    {
      "cell_type": "code",
      "execution_count": null,
      "metadata": {
        "id": "tOPDngNX2ipi"
      },
      "outputs": [],
      "source": [
        "from statsmodels.stats.outliers_influence import variance_inflation_factor\n",
        "import numpy as np\n",
        "\n",
        "# Расчет VIF\n",
        "X = df.select_dtypes(include=[np.number]).dropna()\n",
        "vif_data = pd.DataFrame()\n",
        "vif_data[\"feature\"] = X.columns\n",
        "vif_data[\"VIF\"] = [variance_inflation_factor(X.values, i) for i in range(X.shape[1])]\n",
        "print(vif_data.sort_values('VIF', ascending=False))\n",
        "\n",
        "# Визуализация зависимостей\n",
        "sns.pairplot(X[['survived', 'pclass', 'sibsp']], kind='reg', plot_kws={'line_kws':{'color':'red'}})\n",
        "plt.show()"
      ],
      "id": "tOPDngNX2ipi"
    },
    {
      "cell_type": "markdown",
      "metadata": {
        "id": "bid_g53v2ipi"
      },
      "source": [
        "### **3.2 Нелинейные зависимости**"
      ],
      "id": "bid_g53v2ipi"
    },
    {
      "cell_type": "code",
      "execution_count": null,
      "metadata": {
        "id": "EXUFyBXr2ipi"
      },
      "outputs": [],
      "source": [
        "from sklearn.feature_selection import mutual_info_classif\n",
        "y = df['survived']\n",
        "mi = mutual_info_classif(X, y)\n",
        "mi_series = pd.Series(mi, index=X.columns)\n",
        "mi_series.sort_values(ascending=False).plot(kind='barh')\n",
        "plt.title('Mutual Information')\n",
        "plt.show()\n",
        "\n"
      ],
      "id": "EXUFyBXr2ipi"
    },
    {
      "cell_type": "markdown",
      "metadata": {
        "id": "dzosH7-X2ipi"
      },
      "source": [
        "### **3.3 Большие данные**"
      ],
      "id": "dzosH7-X2ipi"
    },
    {
      "cell_type": "code",
      "execution_count": null,
      "metadata": {
        "id": "VZCVKprE2ipj"
      },
      "outputs": [],
      "source": [
        "# Dask для анализа\n",
        "!pip install dask\n",
        "from dask.dataframe import from_pandas\n",
        "ddf = from_pandas(df, npartitions=4)\n",
        "ddf_grouped = ddf.groupby('sex')['pclass'].mean().compute()\n",
        "print(ddf_grouped)\n"
      ],
      "id": "VZCVKprE2ipj"
    },
    {
      "cell_type": "markdown",
      "metadata": {
        "id": "yVGlVBap2ipj"
      },
      "source": [
        "## **📊 Чеклист по уровням**\n",
        "| Уровень | Навыки |\n",
        "|---------|--------|\n",
        "| 🟢 | Гистограммы, boxplot, корреляционные матрицы |\n",
        "| 🟡 | 3D-визуализация, автоматизированные отчеты, временные паттерны |\n",
        "| 🔴 | VIF, частичные зависимости, анализ больших данных |"
      ],
      "id": "yVGlVBap2ipj"
    },
    {
      "cell_type": "markdown",
      "metadata": {
        "id": "WD2-Lt5_2ipj"
      },
      "source": [
        "## **⚠️ Антипаттерны**\n",
        "1. Неправильная интерпретация корреляции как причинно-следственной связи\n",
        "2. Анализ без domain knowledge (например, неучет бизнес-логики)\n",
        "3. Перегрузка визуализаций (более 5-7 переменных на графике)"
      ],
      "id": "WD2-Lt5_2ipj"
    }
  ],
  "metadata": {
    "kernelspec": {
      "display_name": "Python 3",
      "language": "python",
      "name": "python3"
    },
    "language_info": {
      "codemirror_mode": {
        "name": "ipython",
        "version": 3
      },
      "file_extension": ".py",
      "mimetype": "text/x-python",
      "name": "python",
      "nbconvert_exporter": "python",
      "pygments_lexer": "ipython3",
      "version": "3.9.12"
    },
    "colab": {
      "provenance": [],
      "include_colab_link": true
    }
  },
  "nbformat": 4,
  "nbformat_minor": 5
}