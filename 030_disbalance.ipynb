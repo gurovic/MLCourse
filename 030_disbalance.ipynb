{
  "cells": [
    {
      "cell_type": "markdown",
      "metadata": {
        "id": "view-in-github",
        "colab_type": "text"
      },
      "source": [
        "<a href=\"https://colab.research.google.com/github/gurovic/MLCourse/blob/main/030_disbalance.ipynb\" target=\"_parent\"><img src=\"https://colab.research.google.com/assets/colab-badge.svg\" alt=\"Open In Colab\"/></a>"
      ]
    },
    {
      "cell_type": "markdown",
      "metadata": {
        "id": "SdmGeJOqidZS"
      },
      "source": [
        "<a href=\"https://kaggle.com/kernels/welcome?src=https://github.com/gurovic/MLCourse/blob/main/030_disbalance.ipynb\" target=\"_parent\"><img src=\"https://kaggle.com/static/images/open-in-kaggle.svg\" alt=\"Open In Kaggle\"></a>\n",
        "\n",
        "# Дисбаланс классов"
      ],
      "id": "SdmGeJOqidZS"
    },
    {
      "cell_type": "code",
      "execution_count": null,
      "metadata": {
        "id": "M-n3JWIIidZV"
      },
      "outputs": [],
      "source": [
        "!pip install pandas numpy scikit-learn imbalanced-learn tensorflow"
      ],
      "id": "M-n3JWIIidZV"
    },
    {
      "cell_type": "markdown",
      "metadata": {
        "id": "o_wzhUa3idZW"
      },
      "source": [
        "## 🟢 Базовый уровень (Основные подходы)"
      ],
      "id": "o_wzhUa3idZW"
    },
    {
      "cell_type": "markdown",
      "metadata": {
        "id": "VuQZs9HsidZX"
      },
      "source": [
        "### 1.1 Понимание дисбаланса"
      ],
      "id": "VuQZs9HsidZX"
    },
    {
      "cell_type": "code",
      "execution_count": null,
      "metadata": {
        "id": "y76an2FZidZX"
      },
      "outputs": [],
      "source": [
        "from sklearn.datasets import make_classification\n",
        "\n",
        "# Генерация несбалансированных данных\n",
        "X, y = make_classification(\n",
        "    n_samples=1000,\n",
        "    weights=[0.95, 0.05],  # 95% negative class\n",
        "    random_state=42\n",
        ")\n",
        "\n",
        "# Анализ\n",
        "print(\"Распределение классов:\", {0: (y == 0).sum(), 1: (y == 1).sum()})"
      ],
      "id": "y76an2FZidZX"
    },
    {
      "cell_type": "markdown",
      "metadata": {
        "id": "wq1xKrImidZY"
      },
      "source": [
        "### 1.2 Случайное передискретизирование"
      ],
      "id": "wq1xKrImidZY"
    },
    {
      "cell_type": "code",
      "execution_count": null,
      "metadata": {
        "id": "nQ8b8mvKidZY"
      },
      "outputs": [],
      "source": [
        "from imblearn.over_sampling import RandomOverSampler\n",
        "from imblearn.under_sampling import RandomUnderSampler\n",
        "\n",
        "# oversampling - увеличиваем количество объектов в маленьких классах\n",
        "oversampler = RandomOverSampler(sampling_strategy=0.5, random_state=42)\n",
        "X_over, y_over = oversampler.fit_resample(X, y)\n",
        "\n",
        "print(\"Распределение классов после oversampling:\", {0: (y_over == 0).sum(), 1: (y_over == 1).sum()})\n",
        "\n",
        "# undersampling - уменьшаем количество объектов в больших классах\n",
        "undersampler = RandomUnderSampler(sampling_strategy=0.5, random_state=42)\n",
        "X_under, y_under = undersampler.fit_resample(X, y)\n",
        "\n",
        "print(\"Распределение классов после undersampling:\", {0: (y_over == 0).sum(), 1: (y_over == 1).sum()})"
      ],
      "id": "nQ8b8mvKidZY"
    },
    {
      "cell_type": "markdown",
      "metadata": {
        "id": "hRXXmcvMidZZ"
      },
      "source": [
        "### 1.3 Взвешивание классов"
      ],
      "id": "hRXXmcvMidZZ"
    },
    {
      "cell_type": "code",
      "execution_count": null,
      "metadata": {
        "id": "u8nay24QidZZ"
      },
      "outputs": [],
      "source": [
        "from sklearn.linear_model import LogisticRegression\n",
        "\n",
        "# Автоматическое взвешивание\n",
        "model = LogisticRegression(class_weight='balanced')\n",
        "\n",
        "# Ручное задание весов\n",
        "weights = {0: 1, 1: 10}  # Увеличиваем вес миноритарного класса\n",
        "model = LogisticRegression(class_weight=weights)"
      ],
      "id": "u8nay24QidZZ"
    },
    {
      "cell_type": "markdown",
      "metadata": {
        "id": "Z_v7fMSfidZZ"
      },
      "source": [
        "## 🟡 Продвинутый уровень (SMOTE и ансамбли)"
      ],
      "id": "Z_v7fMSfidZZ"
    },
    {
      "cell_type": "markdown",
      "metadata": {
        "id": "FRrFbWwjidZa"
      },
      "source": [
        "### 2.1 SMOTE (Synthetic Minority Oversampling)"
      ],
      "id": "FRrFbWwjidZa"
    },
    {
      "cell_type": "code",
      "execution_count": null,
      "metadata": {
        "id": "sGPotEORidZa"
      },
      "outputs": [],
      "source": [
        "from imblearn.over_sampling import SMOTE\n",
        "\n",
        "# Создание синтетических примеров\n",
        "smote = SMOTE(\n",
        "    sampling_strategy=0.3,\n",
        "    k_neighbors=5,\n",
        "    random_state=42\n",
        ")\n",
        "X_smote, y_smote = smote.fit_resample(X, y)\n",
        "\n",
        "import matplotlib.pyplot as plt\n",
        "import numpy as np\n",
        "\n",
        "# Построение облака точек\n",
        "plt.figure(figsize=(10, 6))\n",
        "plt.scatter(X[:,0], y, color='blue', alpha=0.7, label='original')\n",
        "plt.scatter(X_smote[:,0], y_smote+0.01, color='red', alpha=0.7, label='smote, shifted up')\n",
        "plt.title('Облако точек (X[:,0], y)')\n",
        "plt.xlabel('X')\n",
        "plt.ylabel('y')\n",
        "plt.grid(True)\n",
        "plt.legend()\n",
        "plt.show()"
      ],
      "id": "sGPotEORidZa"
    },
    {
      "cell_type": "markdown",
      "metadata": {
        "id": "xueFXM3aidZa"
      },
      "source": [
        "### 2.2 Ансамблевые методы"
      ],
      "id": "xueFXM3aidZa"
    },
    {
      "cell_type": "code",
      "execution_count": null,
      "metadata": {
        "id": "kflGb-wyidZb"
      },
      "outputs": [],
      "source": [
        "from imblearn.ensemble import BalancedRandomForestClassifier\n",
        "\n",
        "# Модель с балансировкой\n",
        "brf = BalancedRandomForestClassifier(\n",
        "    n_estimators=100,\n",
        "    sampling_strategy=0.5,\n",
        "    replacement=True,\n",
        "    random_state=42\n",
        ")\n",
        "brf.fit(X, y)"
      ],
      "id": "kflGb-wyidZb"
    },
    {
      "cell_type": "markdown",
      "metadata": {
        "id": "z7pS3Aa3idZb"
      },
      "source": [
        "### 2.3 Метрики для оценки"
      ],
      "id": "z7pS3Aa3idZb"
    },
    {
      "cell_type": "code",
      "execution_count": null,
      "metadata": {
        "id": "6xgNgLGUidZb"
      },
      "outputs": [],
      "source": [
        "from sklearn.metrics import classification_report\n",
        "\n",
        "# Использование F1 вместо accuracy\n",
        "model.fit(X, y)\n",
        "y_pred = model.predict(X)\n",
        "print(classification_report(y, y_pred, target_names=['Class 0', 'Class 1']))"
      ],
      "id": "6xgNgLGUidZb"
    },
    {
      "cell_type": "markdown",
      "metadata": {
        "id": "JLP3nPxpidZb"
      },
      "source": [
        "## 🔴 Экспертный уровень (Продвинутые техники)"
      ],
      "id": "JLP3nPxpidZb"
    },
    {
      "cell_type": "markdown",
      "metadata": {
        "id": "YS8YkfdhidZc"
      },
      "source": [
        "### 3.1 Генеративные модели (GAN)"
      ],
      "id": "YS8YkfdhidZc"
    },
    {
      "cell_type": "code",
      "execution_count": null,
      "metadata": {
        "id": "ykd9lEXsidZc"
      },
      "outputs": [],
      "source": [
        "import torch\n",
        "import torch.nn as nn\n",
        "import torch.nn.functional as F\n",
        "import numpy as np\n",
        "\n",
        "# Генератор для создания синтетических данных\n",
        "class Generator(nn.Module):\n",
        "    def __init__(self, input_dim=10, output_dim=1):  # output_dim зависит от размерности X\n",
        "        super(Generator, self).__init__()\n",
        "        self.model = nn.Sequential(\n",
        "            nn.Linear(input_dim, 128),\n",
        "            nn.ReLU(),\n",
        "            nn.Linear(128, output_dim),\n",
        "            nn.Tanh()  # Для нормализации выхода в диапазон [-1, 1]\n",
        "        )\n",
        "\n",
        "    def forward(self, x):\n",
        "        return self.model(x)\n",
        "\n",
        "# Пример использования генератора\n",
        "def build_generator(input_dim=10, output_dim=1):\n",
        "    return Generator(input_dim, output_dim)\n",
        "\n",
        "# Предположим, у вас есть данные X\n",
        "# X = np.random.randn(1000, ...)  # Пример данных (замените на реальные)\n",
        "output_dim = 10  # Замените на размер признаков вашего датасета\n",
        "\n",
        "# Создаем генератор\n",
        "generator = build_generator(input_dim=10, output_dim=output_dim)\n",
        "\n",
        "# Пример генерации случайного батча из шума\n",
        "batch_size = 64\n",
        "noise = torch.randn(batch_size, 10)  # Случайный шум размером (64, 10)\n",
        "generated_data = generator(noise)\n",
        "\n",
        "print(\"Сгенерированные данные:\", generated_data.shape)\n",
        "# Вывод: torch.Size([64, output_dim])"
      ],
      "id": "ykd9lEXsidZc"
    },
    {
      "cell_type": "markdown",
      "metadata": {
        "id": "d1GFOO4qidZc"
      },
      "source": [
        "### 3.2 Динамическое взвешивание классов"
      ],
      "id": "d1GFOO4qidZc"
    },
    {
      "cell_type": "code",
      "execution_count": null,
      "metadata": {
        "id": "DEpTi1pLidZc"
      },
      "outputs": [],
      "source": [
        "import torch\n",
        "import torch.nn as nn\n",
        "import torch.nn.functional as F\n",
        "\n",
        "class DynamicWeightedLoss(nn.Module):\n",
        "    \"\"\"\n",
        "    Кастомная функция потерь с динамическими весами для балансировки классов.\n",
        "\n",
        "    Параметры:\n",
        "        alpha (float): Вес для отрицательного класса.\n",
        "                       Чем выше alpha, тем больше штраф за ошибки по негативному классу.\n",
        "    \"\"\"\n",
        "    def __init__(self, alpha=0.5):\n",
        "        super(DynamicWeightedLoss, self).__init__()\n",
        "        self.alpha = alpha  # Управление балансом между классами\n",
        "\n",
        "    def forward(self, y_pred, y_true):\n",
        "        # Преобразуем y_pred в вероятности через sigmoid\n",
        "        y_pred = torch.sigmoid(y_pred)\n",
        "\n",
        "        # Маска для положительных и отрицательных классов\n",
        "        pos_mask = (y_true == 1).float()\n",
        "        neg_mask = (y_true == 0).float()\n",
        "\n",
        "        # Подсчет количества примеров каждого класса\n",
        "        num_pos = torch.sum(pos_mask)\n",
        "        num_neg = torch.sum(neg_mask)\n",
        "\n",
        "        # Вычисление весов (избегаем деления на ноль)\n",
        "        pos_weight = (1 - self.alpha) / (num_pos + 1e-8)\n",
        "        neg_weight = self.alpha / (num_neg + 1e-8)\n",
        "\n",
        "        # Формируем веса для каждой точки\n",
        "        weights = pos_weight * pos_mask + neg_weight * neg_mask\n",
        "\n",
        "        # Бинарная кросс-энтропия\n",
        "        bce = F.binary_cross_entropy(y_pred, y_true, reduction='none')\n",
        "\n",
        "        # Взвешенная средняя потеря\n",
        "        weighted_loss = torch.mean(weights * bce)\n",
        "\n",
        "        return weighted_loss"
      ],
      "id": "DEpTi1pLidZc"
    },
    {
      "cell_type": "code",
      "source": [
        "#Пример использования\n",
        "\n",
        "# Пример данных\n",
        "y_true = torch.tensor([0, 1, 0, 1], dtype=torch.float32)   # Реальные метки\n",
        "y_pred = torch.tensor([0.2, 0.7, 0.4, 0.8], dtype=torch.float32)  # Предсказанные логиты или вероятности\n",
        "\n",
        "# Инициализация функции потерь\n",
        "loss_fn = DynamicWeightedLoss(alpha=0.7)  # Больше внимания негативному классу\n",
        "\n",
        "# Вычисление потерь\n",
        "loss = loss_fn(y_pred, y_true)\n",
        "print(\"Custom Loss:\", loss.item())"
      ],
      "metadata": {
        "id": "0KNkWUw1o3Rn"
      },
      "id": "0KNkWUw1o3Rn",
      "execution_count": null,
      "outputs": []
    },
    {
      "cell_type": "markdown",
      "metadata": {
        "id": "dNqeQdBYidZd"
      },
      "source": [
        "### 3.3 Оптимизация порога классификации"
      ],
      "id": "dNqeQdBYidZd"
    },
    {
      "cell_type": "code",
      "execution_count": null,
      "metadata": {
        "id": "qOzg8_OgidZd"
      },
      "outputs": [],
      "source": [
        "from sklearn.metrics import precision_recall_curve\n",
        "import numpy as np\n",
        "\n",
        "# Пример данных (замените на свои)\n",
        "y_pred = np.array([0, 1, 0, 1, 0, 1, 0, 1])  # Истинные метки\n",
        "y_probs = np.array([0.1, 0.8, 0.2, 0.95, 0.4, 0.7, 0.3, 0.9])  # Предсказанные вероятности\n",
        "\n",
        "# Поиск оптимального порога\n",
        "precisions, recalls, thresholds = precision_recall_curve(y_pred, y_probs)\n",
        "\n",
        "# Рассчитываем F1-меру для всех порогов\n",
        "f1_scores = 2 * (precisions * recalls) / (precisions + recalls + 1e-8)\n",
        "\n",
        "# Находим порог с максимальным F1\n",
        "best_threshold = thresholds[np.argmax(f1_scores)]\n",
        "\n",
        "# Применяем порог к вероятностям\n",
        "y_pred_custom = (y_probs >= best_threshold).astype(int)\n",
        "\n",
        "print(\"Истинные метки\", y_pred)\n",
        "print(\"Предсказанные вероятности\", y_probs)\n",
        "print(\"Предсказанные метки\", y_pred_custom)"
      ],
      "id": "qOzg8_OgidZd"
    },
    {
      "cell_type": "markdown",
      "metadata": {
        "id": "I-G6xGvQidZd"
      },
      "source": [
        "## 📊 Чеклист по уровням\n",
        "\n",
        "| Уровень | Навыки |\n",
        "|---------|--------|\n",
        "| 🟢 | RandomOverSampler, class_weight, анализ распределения |\n",
        "| 🟡 | SMOTE, BalancedRandomForest, метрики F1/ROC-AUC |\n",
        "| 🔴 | GAN-синтез, кастомные функции потерь, оптимизация порога |"
      ],
      "id": "I-G6xGvQidZd"
    },
    {
      "cell_type": "markdown",
      "metadata": {
        "id": "7bpsay_uidZe"
      },
      "source": [
        "## ⚠️ Антипаттерны\n",
        "### Для всех уровней:\n",
        "- **Использование accuracy как метрики** для несбалансированных данных\n",
        "- **Слепое применение SMOTE** без анализа природы данных\n",
        "- **Полное устранение дисбаланса** (может ухудшить качество)\n",
        "\n",
        "### 🔴 Эксперты:\n",
        "- **Переобучение на синтетических данных** (тестируйте на реальных данных)\n",
        "- **Игнорирование costs-sensitive анализа** (разная цена ошибок)"
      ],
      "id": "7bpsay_uidZe"
    },
    {
      "cell_type": "markdown",
      "metadata": {
        "id": "Nw7SVeiRidZe"
      },
      "source": [
        "## 🚀 Советы"
      ],
      "id": "Nw7SVeiRidZe"
    },
    {
      "cell_type": "code",
      "execution_count": null,
      "metadata": {
        "id": "mR3cfk0didZe"
      },
      "outputs": [],
      "source": [
        "# Установите библиотеку, если ещё не установлено\n",
        "# !pip install yellowbrick\n",
        "\n",
        "from yellowbrick.classifier import ClassBalance\n",
        "from sklearn.model_selection import train_test_split\n",
        "from sklearn.datasets import make_classification\n",
        "\n",
        "# Создаем синтетический несбалансированный датасет\n",
        "X, y = make_classification(n_samples=1000, n_features=20, n_classes=2,\n",
        "                           weights=[0.9, 0.1], random_state=42)\n",
        "\n",
        "# Разделяем на train и test\n",
        "y = y.astype(int)  # Убедиться, что метки целочисленные\n",
        "y_train, y_test = train_test_split(y, test_size=0.3, stratify=y, random_state=42)\n",
        "\n",
        "# Визуализация баланса классов\n",
        "visualizer = ClassBalance(labels=['Class 0', 'Class 1'])\n",
        "visualizer.fit(y_train, y_test)\n",
        "visualizer.show()"
      ],
      "id": "mR3cfk0didZe"
    },
    {
      "cell_type": "code",
      "execution_count": null,
      "metadata": {
        "id": "q3KfbaqOidZe"
      },
      "outputs": [],
      "source": [
        "# Комбинируйте методы\n",
        "from imblearn.pipeline import Pipeline\n",
        "\n",
        "pipeline = Pipeline([\n",
        "    ('smote', SMOTE(sampling_strategy=0.3)),\n",
        "    ('undersample', RandomUnderSampler(sampling_strategy=0.5)),\n",
        "    ('model', LogisticRegression())\n",
        "])"
      ],
      "id": "q3KfbaqOidZe"
    },
    {
      "cell_type": "code",
      "execution_count": null,
      "metadata": {
        "id": "JVFcIWMAidZf"
      },
      "outputs": [],
      "source": [
        "# Анализ ошибок через матрицу\n",
        "from sklearn.metrics import ConfusionMatrixDisplay\n",
        "\n",
        "ConfusionMatrixDisplay.from_predictions(y_pred, y_pred_custom, normalize='true')"
      ],
      "id": "JVFcIWMAidZf"
    },
    {
      "cell_type": "markdown",
      "metadata": {
        "id": "Ffgk_eizidZg"
      },
      "source": [
        "## 📌 Тренировочные задания"
      ],
      "id": "Ffgk_eizidZg"
    },
    {
      "cell_type": "markdown",
      "metadata": {
        "id": "zqCWqeYYidZh"
      },
      "source": [
        "### 🟢 Базовый уровень\n",
        "**Задача 1:** Примените RandomUnderSampler к датасету кредитного мошенничества (`fraud_detection.csv`). Сравните F1-score до/после."
      ],
      "id": "zqCWqeYYidZh"
    },
    {
      "cell_type": "markdown",
      "metadata": {
        "id": "UQPeuM1FidZh"
      },
      "source": [
        "### 🟡 Продвинутый уровень\n",
        "**Задача 2:** Используя SMOTE, сбалансируйте классы в датасете медицинских диагнозов. Постройте ROC-кривые для моделей `LogisticRegression` и `BalancedRandomForest`."
      ],
      "id": "UQPeuM1FidZh"
    },
    {
      "cell_type": "markdown",
      "metadata": {
        "id": "3RNcgHrhidZh"
      },
      "source": [
        "### 🔴 Экспертный уровень\n",
        "**Задача 3:** Продемонстрируйте полный цикл ML, включающий работу с дисбалансом классов, на примере задачи fraud detection."
      ],
      "id": "3RNcgHrhidZh"
    },
    {
      "cell_type": "code",
      "execution_count": null,
      "metadata": {
        "id": "EifVNCDjidZh"
      },
      "outputs": [],
      "source": [
        "import pandas as pd\n",
        "import numpy as np\n",
        "import matplotlib.pyplot as plt\n",
        "import seaborn as sns\n",
        "import shap\n",
        "\n",
        "from sklearn.model_selection import train_test_split\n",
        "from sklearn.linear_model import LogisticRegression\n",
        "from sklearn.ensemble import RandomForestClassifier\n",
        "from xgboost import XGBClassifier\n",
        "from sklearn.metrics import classification_report, confusion_matrix, roc_curve, roc_auc_score\n",
        "from imblearn.under_sampling import RandomUnderSampler\n",
        "\n",
        "# -----------------------------\n",
        "# 1. Создание синтетических данных\n",
        "# -----------------------------\n",
        "np.random.seed(42)\n",
        "\n",
        "n_samples = 10000\n",
        "data = {\n",
        "    'amount': np.random.lognormal(mean=3, sigma=1, size=n_samples),\n",
        "    'time_hours': np.random.randint(0, 24 * 7, size=n_samples),\n",
        "    'user_age': np.random.randint(18, 80, size=n_samples),\n",
        "    'location_mismatch': np.random.choice([0, 1], size=n_samples, p=[0.9, 0.1]),\n",
        "    'device_hash_known': np.random.choice([0, 1], size=n_samples, p=[0.7, 0.3]),\n",
        "    'ip_address_risky': np.random.choice([0, 1], size=n_samples, p=[0.95, 0.05]),\n",
        "    'is_fraud': np.random.choice([0, 1], size=n_samples, p=[0.99, 0.01])\n",
        "}\n",
        "\n",
        "df = pd.DataFrame(data)\n",
        "\n",
        "# -----------------------------\n",
        "# 2. Разделение на признаки и целевую переменную\n",
        "# -----------------------------\n",
        "X = df.drop('is_fraud', axis=1)\n",
        "y = df['is_fraud']\n",
        "\n",
        "# -----------------------------\n",
        "# 3. Разделение на обучающую и тестовую выборки\n",
        "# -----------------------------\n",
        "X_train, X_test, y_train, y_test = train_test_split(X, y, test_size=0.3, stratify=y, random_state=42)\n",
        "\n",
        "# -----------------------------\n",
        "# 4. Применение Undersampling\n",
        "# -----------------------------\n",
        "undersampler = RandomUnderSampler(sampling_strategy=0.5, random_state=42)\n",
        "X_resampled, y_resampled = undersampler.fit_resample(X_train, y_train)\n",
        "\n",
        "# -----------------------------\n",
        "# 5. Обучение модели\n",
        "# -----------------------------\n",
        "model = RandomForestClassifier(random_state=42)  # Можно попробовать: LogisticRegression(), XGBClassifier()\n",
        "model.fit(X_resampled, y_resampled)\n",
        "\n",
        "# -----------------------------\n",
        "# 6. Предсказания и оценка\n",
        "# -----------------------------\n",
        "y_pred = model.predict(X_test)\n",
        "y_proba = model.predict_proba(X_test)[:, 1]\n",
        "\n",
        "print(\"Classification Report:\\n\", classification_report(y_test, y_pred))\n",
        "\n",
        "# -----------------------------\n",
        "# 7. Confusion Matrix\n",
        "# -----------------------------\n",
        "cm = confusion_matrix(y_test, y_pred)\n",
        "plt.figure(figsize=(6, 5))\n",
        "sns.heatmap(cm, annot=True, fmt='d', cmap='Blues')\n",
        "plt.title('Confusion Matrix')\n",
        "plt.xlabel('Predicted')\n",
        "plt.ylabel('Actual')\n",
        "plt.show()\n",
        "\n",
        "# -----------------------------\n",
        "# 8. ROC Curve & AUC Score\n",
        "# -----------------------------\n",
        "fpr, tpr, _ = roc_curve(y_test, y_proba)\n",
        "roc_auc = roc_auc_score(y_test, y_proba)\n",
        "\n",
        "plt.figure(figsize=(8, 6))\n",
        "plt.plot(fpr, tpr, color='darkorange', lw=2, label=f'ROC curve (AUC = {roc_auc:.2f})')\n",
        "plt.plot([0, 1], [0, 1], color='navy', lw=2, linestyle='--')\n",
        "plt.xlim([0.0, 1.0])\n",
        "plt.ylim([0.0, 1.05])\n",
        "plt.xlabel('False Positive Rate')\n",
        "plt.ylabel('True Positive Rate')\n",
        "plt.title('Receiver Operating Characteristic (ROC)')\n",
        "plt.legend(loc='lower right')\n",
        "plt.show()\n",
        "\n",
        "# -----------------------------\n",
        "# 9. Визуализация баланса классов\n",
        "# -----------------------------\n",
        "fig, axes = plt.subplots(1, 2, figsize=(12, 5))\n",
        "\n",
        "sns.countplot(x=y_resampled, ax=axes[0])\n",
        "axes[0].set_title('После Undersampling')\n",
        "\n",
        "sns.countplot(x=y_train, ax=axes[1])\n",
        "axes[1].set_title('До Undersampling')\n",
        "\n",
        "plt.tight_layout()\n",
        "plt.show()\n",
        "\n",
        "# -----------------------------\n",
        "# 10. Feature Importance с SHAP\n",
        "# -----------------------------\n",
        "explainer = shap.TreeExplainer(model)\n",
        "shap_values = explainer.shap_values(X_test)\n",
        "\n",
        "shap.summary_plot(shap_values, X_test, plot_type=\"bar\", feature_names=X.columns)"
      ],
      "id": "EifVNCDjidZh"
    },
    {
      "cell_type": "markdown",
      "metadata": {
        "id": "b17rGgDSidZh"
      },
      "source": [
        "## 📌 Заключение\n",
        "Ключевые идеи:\n",
        "1. **Не всегда нужно балансировать классы** — зависит от задачи.\n",
        "2. **Сочетайте методы** (например, SMOTE + Undersampling).\n",
        "3. **Экспериментируйте с метриками** — Precision/Recall Tradeoff.\n",
        "4. **Учитывайте стоимость ошибок** (ложные положительные vs. отрицательные)."
      ],
      "id": "b17rGgDSidZh"
    }
  ],
  "metadata": {
    "kernelspec": {
      "display_name": "Python 3",
      "language": "python",
      "name": "python3"
    },
    "language_info": {
      "codemirror_mode": {
        "name": "ipython",
        "version": 3
      },
      "file_extension": ".py",
      "mimetype": "text/x-python",
      "name": "python",
      "nbconvert_exporter": "python",
      "pygments_lexer": "ipython3",
      "version": "3.9.12"
    },
    "colab": {
      "provenance": [],
      "include_colab_link": true
    }
  },
  "nbformat": 4,
  "nbformat_minor": 5
}