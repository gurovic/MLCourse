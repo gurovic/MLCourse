{
  "cells": [
    {
      "cell_type": "markdown",
      "metadata": {
        "id": "view-in-github",
        "colab_type": "text"
      },
      "source": [
        "<a href=\"https://colab.research.google.com/github/gurovic/MLCourse/blob/main/103_knn.ipynb\" target=\"_parent\"><img src=\"https://colab.research.google.com/assets/colab-badge.svg\" alt=\"Open In Colab\"/></a>"
      ]
    },
    {
      "cell_type": "markdown",
      "metadata": {
        "id": "UeFB9KxI6sn6"
      },
      "source": [
        "### Подготовка среды"
      ]
    },
    {
      "cell_type": "code",
      "execution_count": null,
      "metadata": {
        "id": "ijflP8ze6sn7"
      },
      "outputs": [],
      "source": [
        "!pip install scikit-learn matplotlib numpy pandas\n",
        "import numpy as np\n",
        "import pandas as pd\n",
        "import matplotlib.pyplot as plt\n",
        "from matplotlib.colors import ListedColormap\n",
        "from sklearn.neighbors import KNeighborsClassifier, KNeighborsRegressor\n",
        "from sklearn.datasets import load_iris, make_moons, make_regression\n",
        "from sklearn.model_selection import train_test_split, GridSearchCV\n",
        "from sklearn.metrics import accuracy_score, confusion_matrix, ConfusionMatrixDisplay, mean_squared_error\n",
        "from sklearn.preprocessing import StandardScaler, MinMaxScaler\n",
        "import time"
      ]
    },
    {
      "cell_type": "markdown",
      "metadata": {
        "id": "ih7DWrK86sn-"
      },
      "source": [
        "## Теоретическое введение\n",
        "\n",
        "kNN - один из простейших алгоритмов машинного обучения:\n",
        "- **Принцип работы**: классификация объектов по большинству голосов k ближайших соседей\n",
        "- **Гиперпараметры**:\n",
        "  - `n_neighbors` (k) - количество соседей\n",
        "  - `weights` - вес голосов (равные или по расстоянию)\n",
        "  - `metric` - метрика расстояния (евклидово, манхэттенское и др.)\n",
        "- **Преимущества**: простота, интерпретируемость, нет этапа обучения\n",
        "- **Недостатки**: медленный на больших данных, чувствителен к масштабу признаков\n",
        "\n",
        "**Алгоритм kNN**:\n",
        "1. Для нового объекта найти k ближайших соседей в обучающей выборке\n",
        "2. Определить класс по большинству голосов среди соседей\n",
        "3. Предсказать класс"
      ]
    },
    {
      "cell_type": "markdown",
      "metadata": {
        "id": "NNouLczW6sn_"
      },
      "source": [
        "### Создание демо-данных"
      ]
    },
    {
      "cell_type": "code",
      "execution_count": null,
      "metadata": {
        "id": "UAdhN2zg6sn_"
      },
      "outputs": [],
      "source": [
        "# Загрузка классического набора Iris\n",
        "iris = load_iris()\n",
        "X_iris = iris.data[:, :2]  # Берем только 2 признака для визуализации\n",
        "y_iris = iris.target\n",
        "\n",
        "# Генерация сложных данных \"Луны\"\n",
        "X_moons, y_moons = make_moons(n_samples=500, noise=0.3, random_state=42)\n",
        "\n",
        "# Создание DataFrame для Iris\n",
        "iris_df = pd.DataFrame(X_iris, columns=['sepal_length', 'sepal_width'])\n",
        "iris_df['species'] = y_iris\n",
        "iris_df['species'] = iris_df['species'].map({0: 'setosa', 1: 'versicolor', 2: 'virginica'})\n",
        "\n",
        "print(\"Первые 5 строк данных Iris:\")\n",
        "display(iris_df.head())\n",
        "\n",
        "# Визуализация данных Iris\n",
        "plt.figure(figsize=(8, 6))\n",
        "for species, color in zip(['setosa', 'versicolor', 'virginica'], ['red', 'green', 'blue']):\n",
        "    subset = iris_df[iris_df['species'] == species]\n",
        "    plt.scatter(subset['sepal_length'], subset['sepal_width'], c=color, label=species)\n",
        "plt.title('Данные Iris')\n",
        "plt.xlabel('Длина чашелистика (см)')\n",
        "plt.ylabel('Ширина чашелистика (см)')\n",
        "plt.legend()\n",
        "plt.grid(True)\n",
        "plt.show()"
      ]
    },
    {
      "cell_type": "markdown",
      "metadata": {
        "id": "Uu9Xh1KL6soA"
      },
      "source": [
        "## 🟢 Базовый уровень"
      ]
    },
    {
      "cell_type": "markdown",
      "metadata": {
        "id": "VI43-nlc6soA"
      },
      "source": [
        "### 1.1 Простая реализация kNN"
      ]
    },
    {
      "cell_type": "code",
      "execution_count": null,
      "metadata": {
        "id": "O0xrB9jY6soB"
      },
      "outputs": [],
      "source": [
        "# Разделение данных на обучающую и тестовую выборки\n",
        "X_train, X_test, y_train, y_test = train_test_split(\n",
        "    X_iris, y_iris, test_size=0.25, random_state=42\n",
        ")\n",
        "\n",
        "# Создание и обучение модели\n",
        "knn = KNeighborsClassifier(n_neighbors=5)\n",
        "knn.fit(X_train, y_train)\n",
        "\n",
        "# Предсказание и оценка\n",
        "y_pred = knn.predict(X_test)\n",
        "accuracy = accuracy_score(y_test, y_pred)\n",
        "print(f\"Точность модели: {accuracy:.2f}\")\n",
        "\n",
        "# Матрица ошибок\n",
        "cm = confusion_matrix(y_test, y_pred)\n",
        "disp = ConfusionMatrixDisplay(confusion_matrix=cm, display_labels=iris.target_names)\n",
        "disp.plot(cmap='Blues')\n",
        "plt.title('Матрица ошибок (Iris)')\n",
        "plt.show()"
      ]
    },
    {
      "cell_type": "markdown",
      "metadata": {
        "id": "GpoJPHla6soC"
      },
      "source": [
        "### 1.2 Визуализация решающих областей"
      ]
    },
    {
      "cell_type": "code",
      "execution_count": null,
      "metadata": {
        "id": "YgPjtAnP6soC"
      },
      "outputs": [],
      "source": [
        "def plot_decision_boundary(X, y, model, title):\n",
        "    h = .02  # Шаг сетки\n",
        "    cmap_light = ListedColormap(['#FFAAAA', '#AAFFAA', '#AAAAFF'])\n",
        "    cmap_bold = ListedColormap(['#FF0000', '#00FF00', '#0000FF'])\n",
        "\n",
        "    # Границы графика\n",
        "    x_min, x_max = X[:, 0].min() - 1, X[:, 0].max() + 1\n",
        "    y_min, y_max = X[:, 1].min() - 1, X[:, 1].max() + 1\n",
        "\n",
        "    # Создание сетки\n",
        "    xx, yy = np.meshgrid(np.arange(x_min, x_max, h),\n",
        "                         np.arange(y_min, y_max, h))\n",
        "\n",
        "    # Предсказание для каждой точки сетки\n",
        "    Z = model.predict(np.c_[xx.ravel(), yy.ravel()])\n",
        "    Z = Z.reshape(xx.shape)\n",
        "\n",
        "    # Визуализация\n",
        "    plt.figure(figsize=(10, 6))\n",
        "    plt.pcolormesh(xx, yy, Z, cmap=cmap_light, shading='auto')\n",
        "    plt.scatter(X[:, 0], X[:, 1], c=y, cmap=cmap_bold, edgecolor='k', s=20)\n",
        "    plt.xlim(xx.min(), xx.max())\n",
        "    plt.ylim(yy.min(), yy.max())\n",
        "    plt.title(title)\n",
        "    plt.xlabel('Длина чашелистика')\n",
        "    plt.ylabel('Ширина чашелистика')\n",
        "    plt.show()\n",
        "\n",
        "plot_decision_boundary(X_iris, y_iris, knn, \"kNN (k=5) для данных Iris\")"
      ]
    },
    {
      "cell_type": "markdown",
      "metadata": {
        "id": "os236iqx6soD"
      },
      "source": [
        "## 🟡 Продвинутый уровень"
      ]
    },
    {
      "cell_type": "markdown",
      "metadata": {
        "id": "1VeQkH0h6soD"
      },
      "source": [
        "### 2.1 Влияние количества соседей (k)"
      ]
    },
    {
      "cell_type": "code",
      "execution_count": null,
      "metadata": {
        "id": "_QXAXdJy6soE"
      },
      "outputs": [],
      "source": [
        "plt.figure(figsize=(12, 8))\n",
        "k_values = [1, 5, 15, 30]\n",
        "accuracies = []\n",
        "\n",
        "for i, k in enumerate(k_values):\n",
        "    knn = KNeighborsClassifier(n_neighbors=k)\n",
        "    knn.fit(X_train, y_train)\n",
        "    y_pred = knn.predict(X_test)\n",
        "    acc = accuracy_score(y_test, y_pred)\n",
        "    accuracies.append(acc)\n",
        "\n",
        "    plt.subplot(2, 2, i+1)\n",
        "\n",
        "    # Границы графика\n",
        "    x_min, x_max = X_iris[:, 0].min() - 1, X_iris[:, 0].max() + 1\n",
        "    y_min, y_max = X_iris[:, 1].min() - 1, X_iris[:, 1].max() + 1\n",
        "    xx, yy = np.meshgrid(np.arange(x_min, x_max, 0.02),\n",
        "                         np.arange(y_min, y_max, 0.02))\n",
        "\n",
        "    # Предсказание\n",
        "    Z = knn.predict(np.c_[xx.ravel(), yy.ravel()])\n",
        "    Z = Z.reshape(xx.shape)\n",
        "\n",
        "    # Визуализация\n",
        "    plt.pcolormesh(xx, yy, Z, cmap=plt.cm.Paired, shading='auto', alpha=0.3)\n",
        "    plt.scatter(X_iris[:, 0], X_iris[:, 1], c=y_iris, edgecolor='k', s=20)\n",
        "    plt.xlim(xx.min(), xx.max())\n",
        "    plt.ylim(yy.min(), yy.max())\n",
        "    plt.title(f\"k = {k} (Точность: {acc:.2f})\")\n",
        "    plt.xlabel('Длина чашелистика')\n",
        "    plt.ylabel('Ширина чашелистика')\n",
        "\n",
        "plt.tight_layout()\n",
        "plt.show()\n",
        "\n",
        "# График зависимости точности от k\n",
        "plt.figure(figsize=(10, 5))\n",
        "plt.plot(k_values, accuracies, 'bo-', linewidth=2)\n",
        "plt.xlabel('Количество соседей (k)')\n",
        "plt.ylabel('Точность')\n",
        "plt.title('Зависимость точности от количества соседей')\n",
        "plt.grid(True)\n",
        "plt.show()"
      ]
    },
    {
      "cell_type": "markdown",
      "metadata": {
        "id": "NSiAw0BD6soE"
      },
      "source": [
        "### 2.2 Важность масштабирования признаков"
      ]
    },
    {
      "cell_type": "code",
      "execution_count": null,
      "metadata": {
        "id": "9m-BXMPl6soF"
      },
      "outputs": [],
      "source": [
        "# Без масштабирования\n",
        "knn_raw = KNeighborsClassifier(n_neighbors=5)\n",
        "knn_raw.fit(X_train, y_train)\n",
        "y_pred_raw = knn_raw.predict(X_test)\n",
        "accuracy_raw = accuracy_score(y_test, y_pred_raw)\n",
        "\n",
        "# С масштабированием\n",
        "scaler = StandardScaler()\n",
        "X_train_scaled = scaler.fit_transform(X_train)\n",
        "X_test_scaled = scaler.transform(X_test)\n",
        "\n",
        "knn_scaled = KNeighborsClassifier(n_neighbors=3)\n",
        "knn_scaled.fit(X_train_scaled, y_train)\n",
        "y_pred_scaled = knn_scaled.predict(X_test_scaled)\n",
        "accuracy_scaled = accuracy_score(y_test, y_pred_scaled)\n",
        "\n",
        "print(f\"Точность без масштабирования: {accuracy_raw:.2f}\")\n",
        "print(f\"Точность с масштабированием: {accuracy_scaled:.2f}\")\n",
        "\n",
        "# Визуализация масштабированных данных\n",
        "plt.figure(figsize=(12, 5))\n",
        "plt.subplot(1, 2, 1)\n",
        "plt.scatter(X_train[:, 0], X_train[:, 1], c=y_train)\n",
        "plt.title(\"Исходные данные\")\n",
        "plt.xlabel(\"Признак 1\")\n",
        "plt.ylabel(\"Признак 2\")\n",
        "\n",
        "plt.subplot(1, 2, 2)\n",
        "plt.scatter(X_train_scaled[:, 0], X_train_scaled[:, 1], c=y_train)\n",
        "plt.title(\"Масштабированные данные\")\n",
        "plt.xlabel(\"Признак 1 (стандартизированный)\")\n",
        "plt.ylabel(\"Признак 2 (стандартизированный)\")\n",
        "plt.tight_layout()\n",
        "plt.show()"
      ]
    },
    {
      "cell_type": "markdown",
      "metadata": {
        "id": "aIvIwHwQ6soF"
      },
      "source": [
        "### 2.3 Подбор гиперпараметров с GridSearchCV"
      ]
    },
    {
      "cell_type": "code",
      "execution_count": null,
      "metadata": {
        "id": "Y8KKpj3r6soG"
      },
      "outputs": [],
      "source": [
        "# Создание параметров для перебора\n",
        "param_grid = {\n",
        "    'n_neighbors': list(range(1, 31)),\n",
        "    'weights': ['uniform', 'distance'],\n",
        "    'metric': ['euclidean', 'manhattan']\n",
        "}\n",
        "\n",
        "# Поиск по сетке\n",
        "grid = GridSearchCV(\n",
        "    KNeighborsClassifier(),\n",
        "    param_grid,\n",
        "    cv=5,\n",
        "    scoring='accuracy',\n",
        "    n_jobs=-1\n",
        ")\n",
        "grid.fit(X_train_scaled, y_train)\n",
        "\n",
        "# Лучшие параметры\n",
        "print(f\"Лучшие параметры: {grid.best_params_}\")\n",
        "print(f\"Лучшая точность: {grid.best_score_:.2f}\")\n",
        "\n",
        "# Визуализация результатов\n",
        "results = pd.DataFrame(grid.cv_results_)\n",
        "plt.figure(figsize=(12, 6))\n",
        "for metric in ['euclidean', 'manhattan']:\n",
        "    subset = results[results['param_metric'] == metric]\n",
        "    plt.plot(subset['param_n_neighbors'], subset['mean_test_score'],\n",
        "             label=f\"{metric} distance\")\n",
        "\n",
        "plt.xlabel('Количество соседей (k)')\n",
        "plt.ylabel('Точность')\n",
        "plt.title('Влияние параметров k и метрики на точность')\n",
        "plt.legend()\n",
        "plt.grid(True)\n",
        "plt.show()"
      ]
    },
    {
      "cell_type": "markdown",
      "metadata": {
        "id": "FwLttqwp6soG"
      },
      "source": [
        "## 🔴 Экспертный уровень"
      ]
    },
    {
      "cell_type": "markdown",
      "metadata": {
        "id": "XfN1U7aS6soG"
      },
      "source": [
        "### 3.1 Работа с нелинейными данными"
      ]
    },
    {
      "cell_type": "code",
      "execution_count": null,
      "metadata": {
        "id": "BwesjOFH6soH"
      },
      "outputs": [],
      "source": [
        "# Разделение данных \"Луны\"\n",
        "X_train_m, X_test_m, y_train_m, y_test_m = train_test_split(\n",
        "    X_moons, y_moons, test_size=0.3, random_state=42\n",
        ")\n",
        "\n",
        "# Обучение модели\n",
        "knn_moons = KNeighborsClassifier(n_neighbors=15, weights='distance')\n",
        "knn_moons.fit(X_train_m, y_train_m)\n",
        "\n",
        "# Визуализация\n",
        "plot_decision_boundary(X_moons, y_moons, knn_moons, \"kNN для данных 'Луны'\")\n",
        "\n",
        "# Точность\n",
        "accuracy_moons = knn_moons.score(X_test_m, y_test_m)\n",
        "print(f\"Точность на данных 'Луны': {accuracy_moons:.2f}\")"
      ]
    },
    {
      "cell_type": "markdown",
      "metadata": {
        "id": "YI5NmJla6soH"
      },
      "source": [
        "### 3.2 Оптимизация вычислений с KD-Tree"
      ]
    },
    {
      "cell_type": "code",
      "execution_count": null,
      "metadata": {
        "id": "Je5rBFhf6soH"
      },
      "outputs": [],
      "source": [
        "# Создание больших данных\n",
        "X_large, y_large = make_moons(n_samples=1000000, noise=0.2, random_state=42)\n",
        "\n",
        "# Сравнение алгоритмов\n",
        "algorithms = ['auto', 'ball_tree', 'kd_tree', 'brute']\n",
        "times = []\n",
        "\n",
        "for algo in algorithms:\n",
        "    start_time = time.time()\n",
        "    knn_large = KNeighborsClassifier(n_neighbors=5, algorithm=algo)\n",
        "    knn_large.fit(X_large, y_large)\n",
        "    y_pred_large = knn_large.predict(X_large[:1000])  # Предсказание для подмножества\n",
        "    elapsed = time.time() - start_time\n",
        "    times.append(elapsed)\n",
        "    print(f\"Алгоритм: {algo:<10} Время: {elapsed:.4f} сек\")\n",
        "\n",
        "# Визуализация\n",
        "plt.figure(figsize=(10, 5))\n",
        "plt.bar(algorithms, times, color=['blue', 'green', 'red', 'purple'])\n",
        "plt.title('Сравнение скорости алгоритмов kNN')\n",
        "plt.ylabel('Время выполнения (сек)')\n",
        "plt.xlabel('Тип алгоритма')\n",
        "plt.show()"
      ]
    },
    {
      "cell_type": "markdown",
      "metadata": {
        "id": "ugSGF1is6soI"
      },
      "source": [
        "### 3.3 Применение в задачах регрессии"
      ]
    },
    {
      "cell_type": "code",
      "execution_count": null,
      "metadata": {
        "id": "4LfCXJ9L6soI"
      },
      "outputs": [],
      "source": [
        "# Генерация данных\n",
        "np.random.seed(42)\n",
        "X_reg = np.sort(5 * np.random.rand(200, 1), axis=0)\n",
        "y_reg = np.sin(X_reg).ravel() + np.random.normal(0, 0.1, X_reg.shape[0])\n",
        "\n",
        "# Обучение моделей\n",
        "k_values = [1, 5, 15]\n",
        "plt.figure(figsize=(15, 5))\n",
        "mse_scores = []\n",
        "\n",
        "for i, k in enumerate(k_values):\n",
        "    # Обучение\n",
        "    knn_reg = KNeighborsRegressor(n_neighbors=k)\n",
        "    knn_reg.fit(X_reg, y_reg)\n",
        "\n",
        "    # Предсказание\n",
        "    X_test_reg = np.linspace(0, 5, 500)[:, np.newaxis]\n",
        "    y_pred_reg = knn_reg.predict(X_test_reg)\n",
        "\n",
        "    # Оценка\n",
        "    mse = mean_squared_error(y_reg, knn_reg.predict(X_reg))\n",
        "    mse_scores.append(mse)\n",
        "\n",
        "    # Визуализация\n",
        "    plt.subplot(1, 3, i+1)\n",
        "    plt.scatter(X_reg, y_reg, color='blue', alpha=0.5, label='Данные')\n",
        "    plt.plot(X_test_reg, y_pred_reg, color='red', linewidth=2, label='Предсказание')\n",
        "    plt.title(f'kNN Регрессия (k={k}, MSE={mse:.4f})')\n",
        "    plt.legend()\n",
        "    plt.grid(True)\n",
        "\n",
        "plt.tight_layout()\n",
        "plt.show()\n",
        "\n",
        "# График зависимости MSE от k\n",
        "plt.figure(figsize=(8, 4))\n",
        "plt.plot(k_values, mse_scores, 'ro-', linewidth=2)\n",
        "plt.xlabel('Количество соседей (k)')\n",
        "plt.ylabel('MSE')\n",
        "plt.title('Зависимость ошибки от количества соседей в регрессии')\n",
        "plt.grid(True)\n",
        "plt.show()"
      ]
    },
    {
      "cell_type": "markdown",
      "metadata": {
        "id": "VfHzbVLF6soJ"
      },
      "source": [
        "## 📊 Чеклист по уровням\n",
        "\n",
        "| Уровень  | Навыки |\n",
        "|----------|--------|\n",
        "| 🟢       | Базовое применение kNN, визуализация решающих областей |\n",
        "| 🟡       | Подбор гиперпараметров, важность масштабирования, GridSearchCV |\n",
        "| 🔴       | Работа с нелинейными данными, оптимизация алгоритмов, kNN регрессия |"
      ]
    },
    {
      "cell_type": "markdown",
      "metadata": {
        "id": "QC-sZjeh6soJ"
      },
      "source": [
        "## ⚠️ Критические ошибки\n",
        "\n",
        "1. **Неправильный выбор k**: слишком маленькое k → переобучение, слишком большое → недообучение  \n",
        "2. **Игнорирование масштабирования**: без него признаки с большим разбросом будут доминировать  \n",
        "3. **Использование на больших данных**: kNN неэффективен для больших датасетов (>50K объектов)  \n",
        "4. **Работа с категориальными признаками**: kNN требует преобразования в числовой формат"
      ]
    },
    {
      "cell_type": "markdown",
      "metadata": {
        "id": "dcK_iwFj6soJ"
      },
      "source": [
        "## 💡 Главные принципы\n",
        "\n",
        "1. **Всегда масштабируйте данные** перед использованием kNN\n",
        "2. **Оптимизируйте k** с помощью кросс-валидации (начните с k = √n)\n",
        "3. **Экспериментируйте с метриками расстояния**:\n",
        "   - Евклидово: √Σ(x_i - y_i)² (стандартное)\n",
        "   - Манхэттенское: Σ|x_i - y_i| (устойчивее к выбросам)\n",
        "4. **Используйте взвешенные голоса** (weights='distance') для уменьшения влияния далеких соседей\n",
        "5. **Рассмотрите уменьшение размерности** для наборов с большим количеством признаков"
      ]
    },
    {
      "cell_type": "markdown",
      "metadata": {
        "id": "pNUJ9wpu6soK"
      },
      "source": [
        "## 📌 Итог\n",
        "\n",
        "kNN - мощный и интуитивно понятный алгоритм:\n",
        "- **Простота**: легко понять и реализовать\n",
        "- **Универсальность**: работает для классификации и регрессии\n",
        "- **Интерпретируемость**: предсказания основаны на реальных объектах\n",
        "\n",
        "> 💡 Правило: \"kNN - отличный выбор для небольших датасетов и задач с явной геометрической интерпретацией, но требует тщательной подготовки данных и настройки гиперпараметров.\"\n",
        "\n",
        "**Этапы работы с kNN**:\n",
        "1. Масштабирование признаков\n",
        "2. Выбор k и метрики расстояния\n",
        "3. Обучение модели\n",
        "4. Оценка качества\n",
        "5. Прогнозирование"
      ]
    },
    {
      "cell_type": "markdown",
      "metadata": {
        "id": "cXx4f10H6soK"
      },
      "source": [
        "**Практическое задание**:\n",
        "1. Для данных Iris:\n",
        "   - Найдите оптимальное k с кросс-валидацией\n",
        "   - Сравните точность с масштабированием и без\n",
        "   - Визуализируйте решающие границы для лучшей модели\n",
        "\n",
        "2. Для данных \"Луны\":\n",
        "   - Подберите оптимальные параметры с GridSearchCV\n",
        "   - Сравните разные метрики расстояния\n",
        "   - Постройте кривую обучения для разного размера выборки\n",
        "\n",
        "3. Реализуйте kNN регрессию для предсказания цен на жилье:\n",
        "   - Используйте датасет Boston Housing\n",
        "   - Сравните разные значения k\n",
        "   - Оцените качество с помощью MSE и R²"
      ]
    }
  ],
  "metadata": {
    "kernelspec": {
      "display_name": "Python 3",
      "language": "python",
      "name": "python3"
    },
    "language_info": {
      "codemirror_mode": {
        "name": "ipython",
        "version": 3
      },
      "file_extension": ".py",
      "mimetype": "text/x-python",
      "name": "python",
      "nbconvert_exporter": "python",
      "pygments_lexer": "ipython3",
      "version": "3.8.5"
    },
    "colab": {
      "provenance": [],
      "include_colab_link": true
    }
  },
  "nbformat": 4,
  "nbformat_minor": 0
}