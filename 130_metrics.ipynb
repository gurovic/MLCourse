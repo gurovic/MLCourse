{
  "cells": [
    {
      "cell_type": "markdown",
      "metadata": {
        "id": "view-in-github",
        "colab_type": "text"
      },
      "source": [
        "<a href=\"https://colab.research.google.com/github/gurovic/MLCourse/blob/main/130_metrics.ipynb\" target=\"_parent\"><img src=\"https://colab.research.google.com/assets/colab-badge.svg\" alt=\"Open In Colab\"/></a>"
      ]
    },
    {
      "cell_type": "markdown",
      "metadata": {
        "id": "uZVXoq-KpDHN"
      },
      "source": [
        "<a href=\"https://kaggle.com/kernels/welcome?src=https://github.com/gurovic/MLCourse/blob/main/010_read.ipynb\" target=\"_parent\"><img src=\"https://kaggle.com/static/images/open-in-kaggle.svg\" alt=\"Open In Kaggle\"></a>\n",
        "\n",
        "# Основные метрики в машинном обучении\n",
        "\n",
        "[**Отличие метрики от функции потерь**](https://github.com/gurovic/MLCourse/blob/main/130_1_metrics_vs_loss_function.md)\n"
      ],
      "id": "uZVXoq-KpDHN"
    },
    {
      "cell_type": "markdown",
      "metadata": {
        "id": "ameWDpnjpDHP"
      },
      "source": [
        "## Введение: Значение метрик в ML\n",
        "\n",
        "Метрики — это количественные показатели, позволяющие объективно оценить качество моделей машинного обучения (ML). Они выполняют несколько ключевых функций:\n",
        "1. **Диагностика моделей** — выявление слабых мест и направлений для улучшения\n",
        "2. **Сравнение алгоритмов** — объективный выбор между разными подходами\n",
        "3. **Коммуникация результатов** — понятное представление эффективности модели для заинтересованных сторон\n",
        "4. **Мониторинг в продакшене** — обнаружение изменений в данных и деградации модели\n",
        "\n",
        "> \"Метрики должны быть тесно связаны с бизнес-целями. Хорошая метрика — это не просто число, а инструмент для принятия решений.\""
      ],
      "id": "ameWDpnjpDHP"
    },
    {
      "cell_type": "markdown",
      "metadata": {
        "id": "X5i55aK4pDHP"
      },
      "source": [
        "## 🟢 Базовый уровень: Основные метрики для стандартных задач"
      ],
      "id": "X5i55aK4pDHP"
    },
    {
      "cell_type": "markdown",
      "metadata": {
        "id": "YFAyORaVpDHQ"
      },
      "source": [
        "### 1. Классификация: Основные показатели\n",
        "\n",
        "**Матрица ошибок (Confusion Matrix)** — фундаментальный инструмент, показывающий распределение верных и ошибочных предсказаний:\n",
        "- **True Positive (TP)** — корректно идентифицированные положительные случаи\n",
        "- **False Positive (FP)** — ложные срабатывания (ошибка I рода)\n",
        "- **True Negative (TN)** — корректно идентифицированные отрицательные случаи\n",
        "- **False Negative (FN)** — пропущенные положительные случаи (ошибка II рода)"
      ],
      "id": "YFAyORaVpDHQ"
    },
    {
      "cell_type": "code",
      "execution_count": null,
      "metadata": {
        "id": "9HHGhXaLpDHQ"
      },
      "outputs": [],
      "source": [
        "from sklearn.metrics import confusion_matrix\n",
        "import seaborn as sns\n",
        "import matplotlib.pyplot as plt\n",
        "\n",
        "y_true = [1, 0, 1, 1, 0, 1, 0, 0, 1, 0]  # Реальные классы (1 - положительный, 0 - отрицательный)\n",
        "y_pred = [1, 0, 1, 1, 1, 1, 1, 0, 1, 0]  # Предсказания модели\n",
        "cm = confusion_matrix(y_true, y_pred)  # Подставьте свои данные\n",
        "\n",
        "sns.heatmap(cm, annot=True, fmt='d', cmap='Blues',\n",
        "            xticklabels=['Predicted Negative', 'Predicted Positive'],\n",
        "            yticklabels=['Actual Negative', 'Actual Positive'])\n",
        "plt.title('Confusion Matrix')\n",
        "plt.show()"
      ],
      "id": "9HHGhXaLpDHQ"
    },
    {
      "cell_type": "markdown",
      "metadata": {
        "id": "tQtWlv3rpDHR"
      },
      "source": [
        "**Ключевые метрики:**\n",
        "1. **Accuracy (Точность):** Общая доля правильных предсказаний.\n",
        "   * Формула: Accuracy = (TP + TN) / (TP + TN + FP + FN)\n",
        "   * *Применение:* Когда классы сбалансированы и все ошибки одинаково важны.\n",
        "2. **Precision (Точность положительных предсказаний):** Доля действительно положительных среди всех предсказанных положительных.\n",
        "   * Формула: Precision = TP / (TP + FP)\n",
        "   * *Критична:* В спам-фильтрах, медицинской диагностике.\n",
        "3. **Recall (Полнота):** Доля найденных положительных случаев среди всех реальных положительных.\n",
        "   * Формула: Recall = TP / (TP + FN)\n",
        "   * *Критичен:* При поиске заболеваний, мошенничества.\n",
        "4. **F1-Score (F-мера):** Гармоническое среднее между Precision и Recall.\n",
        "   * Формула: F1 = 2 * (Precision * Recall) / (Precision + Recall)\n",
        "   * *Идеально:* Когда нужно балансировать между ложными положительными и ложными отрицательными."
      ],
      "id": "tQtWlv3rpDHR"
    },
    {
      "cell_type": "code",
      "source": [
        "from sklearn.metrics import accuracy_score, precision_score, recall_score, f1_score, confusion_matrix\n",
        "\n",
        "\n",
        "# Пример реальных и предсказанных меток\n",
        "y_true = [1, 0, 1, 1, 0, 1, 0, 0, 1, 0]  # Реальные классы (1 - положительный, 0 - отрицательный)\n",
        "y_pred = [1, 0, 1, 1, 1, 1, 1, 0, 1, 0]  # Предсказания модели\n",
        "\n",
        "# Вычисление метрик\n",
        "accuracy = accuracy_score(y_true, y_pred)\n",
        "precision = precision_score(y_true, y_pred)\n",
        "recall = recall_score(y_true, y_pred)\n",
        "f1 = f1_score(y_true, y_pred)\n",
        "\n",
        "# Вывод значений метрик\n",
        "print(f\"Accuracy:  {accuracy:.4f}\")\n",
        "print(f\"Precision: {precision:.4f}\")\n",
        "print(f\"Recall:    {recall:.4f}\")\n",
        "print(f\"F1 Score:  {f1:.4f}\")"
      ],
      "metadata": {
        "id": "E-x_YgNbp9kL"
      },
      "id": "E-x_YgNbp9kL",
      "execution_count": null,
      "outputs": []
    },
    {
      "cell_type": "markdown",
      "metadata": {
        "id": "NL6qOXCxpDHS"
      },
      "source": [
        "### 2. Регрессия: Основные метрики\n",
        "1. **MAE (Mean Absolute Error - Средняя абсолютная ошибка):** Средняя абсолютная ошибка. Проста для интерпретации.\n",
        "   Формула: MAE = (1/n) * Σ|y_true - y_pred|\n",
        "2. **MSE (Mean Squared Error - Среднеквадратичная ошибка):** Среднеквадратичная ошибка. Штрафует за большие отклонения.\n",
        "   Формула: MSE = (1/n) * Σ(y_true - y_pred)^2\n",
        "3. **R² (Коэффициент детерминации):** Доля дисперсии, объясненная моделью.\n",
        "   Формула: R² = 1 - [Σ(y_true - y_pred)^2 / Σ(y_true - mean(y_true))^2]"
      ],
      "id": "NL6qOXCxpDHS"
    },
    {
      "cell_type": "code",
      "execution_count": null,
      "metadata": {
        "id": "I0i9Bm-WpDHS"
      },
      "outputs": [],
      "source": [
        "from sklearn.metrics import mean_absolute_error, mean_squared_error, r2_score\n",
        "\n",
        "# Пример значений\n",
        "y_true = [3, -0.5, 2, 7]\n",
        "y_pred = [2.5, 0.0, 2, 8]\n",
        "\n",
        "print(f\"MAE: {mean_absolute_error(y_true, y_pred):.2f}\")\n",
        "print(f\"MSE: {mean_squared_error(y_true, y_pred):.2f}\")\n",
        "print(f\"R²: {r2_score(y_true, y_pred):.2f}\")"
      ],
      "id": "I0i9Bm-WpDHS"
    },
    {
      "cell_type": "markdown",
      "metadata": {
        "id": "J98IWf3QpDHS"
      },
      "source": [
        "## 🟡 Продвинутый уровень: Специализированные метрики"
      ],
      "id": "J98IWf3QpDHS"
    },
    {
      "cell_type": "markdown",
      "metadata": {
        "id": "ulUqa3HQpDHS"
      },
      "source": [
        "### 1. Метрики для несбалансированных данных\n",
        "\n",
        "**ROC-AUC (Receiver Operating Characteristic - Area Under Curve):**\n",
        "- Оценивает качество разделения классов при всех возможных порогах\n",
        "- AUC = 0.5 (случайное угадывание), AUC = 1.0 (идеальное разделение)\n",
        "- Устойчив к дисбалансу классов"
      ],
      "id": "ulUqa3HQpDHS"
    },
    {
      "cell_type": "code",
      "execution_count": null,
      "metadata": {
        "id": "cnT-L1aTpDHT"
      },
      "outputs": [],
      "source": [
        "from sklearn.metrics import roc_auc_score, roc_curve\n",
        "\n",
        "# Пример данных\n",
        "y_true = [0, 0, 1, 1]\n",
        "y_proba = [0.1, 0.5, 0.35, 0.8]\n",
        "\n",
        "FPR, TPR, thresholds = roc_curve(y_true, y_proba)\n",
        "auc = roc_auc_score(y_true, y_proba)\n",
        "plt.plot(FPR, TPR, label=f'ROC Curve (AUC = {auc:.2f})')\n",
        "plt.plot([0, 1], [0, 1], 'k--')\n",
        "plt.xlabel('False Positive Rate (FPR)')\n",
        "plt.ylabel('True Positive Rate (TPR)')\n",
        "plt.legend()\n",
        "plt.show()"
      ],
      "id": "cnT-L1aTpDHT"
    },
    {
      "cell_type": "markdown",
      "source": [],
      "metadata": {
        "id": "I3zd9F5Qrng1"
      },
      "id": "I3zd9F5Qrng1"
    },
    {
      "cell_type": "markdown",
      "metadata": {
        "id": "JoxIleQBpDHT"
      },
      "source": [
        "### 2. Метрики для мультиклассовой классификации\n",
        "1. **Macro-F1 (Макро F-мера):** Среднее F1 по всем классам (равный вес)\n",
        "2. **Micro-F1 (Микро F-мера):** Глобальный F1 по всем предсказаниям\n",
        "3. **Weighted-F1 (Взвешенная F-мера):** Среднее F1, взвешенное по поддержке классов"
      ],
      "id": "JoxIleQBpDHT"
    },
    {
      "cell_type": "code",
      "execution_count": null,
      "metadata": {
        "id": "22krzCBcpDHT"
      },
      "outputs": [],
      "source": [
        "from sklearn.metrics import f1_score\n",
        "\n",
        "y_true = [0, 1, 0, 2, 2, 2]\n",
        "y_pred = [1, 1, 2, 2, 2, 2]\n",
        "\n",
        "print(f\"Macro-F1: {f1_score(y_true, y_pred, average='macro'):.2f}\")\n",
        "print(f\"Micro-F1: {f1_score(y_true, y_pred, average='micro'):.2f}\")\n",
        "print(f\"Weighted-F1: {f1_score(y_true, y_pred, average='weighted'):.2f}\")"
      ],
      "id": "22krzCBcpDHT"
    },
    {
      "cell_type": "markdown",
      "metadata": {
        "id": "aeFiX9uUpDHU"
      },
      "source": [
        "## 🔴 Экспертный уровень: Специальные случаи"
      ],
      "id": "aeFiX9uUpDHU"
    },
    {
      "cell_type": "markdown",
      "metadata": {
        "id": "Gpl7aRFXpDHU"
      },
      "source": [
        "### 1. Метрики для компьютерного зрения\n",
        "\n",
        "**IoU (Intersection over Union - Пересечение по объединению):** Основная метрика для задач сегментации\n",
        "\n",
        "**mAP (mean Average Precision - Средняя точность):** Стандарт для задач детекции объектов"
      ],
      "id": "Gpl7aRFXpDHU"
    },
    {
      "cell_type": "code",
      "execution_count": null,
      "metadata": {
        "id": "OF5N0taHpDHU"
      },
      "outputs": [],
      "source": [
        "import numpy as np\n",
        "\n",
        "def calculate_iou(mask_true, mask_pred):\n",
        "    intersection = np.logical_and(mask_true, mask_pred).sum()\n",
        "    union = np.logical_or(mask_true, mask_pred).sum()\n",
        "    return intersection / union"
      ],
      "id": "OF5N0taHpDHU"
    },
    {
      "cell_type": "markdown",
      "metadata": {
        "id": "ArGshgYVpDHV"
      },
      "source": [
        "### 2. Метрики для NLP (Natural Language Processing)\n",
        "- **BLEU (Bilingual Evaluation Understudy):** Для оценки машинного перевода\n",
        "- **Perplexity (Перплексия):** Для языковых моделей\n",
        "- **BERTScore:** Семантическое сходство с использованием BERT-эмбеддингов"
      ],
      "id": "ArGshgYVpDHV"
    },
    {
      "cell_type": "markdown",
      "metadata": {
        "id": "L6OpphyMpDHV"
      },
      "source": [
        "### 3. Кастомные бизнес-метрики\n",
        "Пример для кредитного скоринга:"
      ],
      "id": "L6OpphyMpDHV"
    },
    {
      "cell_type": "code",
      "execution_count": null,
      "metadata": {
        "id": "LxgT59yQpDHW"
      },
      "outputs": [],
      "source": [
        "from sklearn.metrics import confusion_matrix\n",
        "\n",
        "def profit_metric(y_true, y_pred, profit_matrix):\n",
        "    \"\"\"\n",
        "    profit_matrix: словарь с экономикой ошибок\n",
        "    Например: {'TP': 100, 'FP': -50, 'TN': 0, 'FN': -200}\n",
        "    \"\"\"\n",
        "    cm = confusion_matrix(y_true, y_pred)\n",
        "    profit = (profit_matrix['TP'] * cm[1,1] +\n",
        "              profit_matrix['FP'] * cm[0,1] +\n",
        "              profit_matrix['TN'] * cm[0,0] +\n",
        "              profit_matrix['FN'] * cm[1,0])\n",
        "    return profit / len(y_true)"
      ],
      "id": "LxgT59yQpDHW"
    },
    {
      "cell_type": "markdown",
      "metadata": {
        "id": "0r3yBHXPpDHW"
      },
      "source": [
        "## 📊 Практическое руководство по выбору метрик\n",
        "\n",
        "| **Тип задачи** | **Рекомендуемые метрики** |\n",
        "|----------------|---------------------------|\n",
        "| Бинарная классификация | Accuracy, Precision, Recall, F1 |\n",
        "| Регрессия | MAE, MSE, R² |\n",
        "| Несбалансированные данные | ROC-AUC, PR-AUC, F1 |\n",
        "| Мультикласс | Macro-F1, Micro-F1 |\n",
        "| Ранжирование | NDCG, MAP |\n",
        "| Компьютерное зрение | IoU, mAP |\n",
        "| NLP | BLEU, Perplexity |"
      ],
      "id": "0r3yBHXPpDHW"
    },
    {
      "cell_type": "markdown",
      "metadata": {
        "id": "qWpb75DDpDHX"
      },
      "source": [
        "## 💡 Экспертные рекомендации"
      ],
      "id": "qWpb75DDpDHX"
    },
    {
      "cell_type": "code",
      "execution_count": null,
      "metadata": {
        "id": "KWwFkpn2pDHX"
      },
      "outputs": [],
      "source": [
        "from sklearn.metrics import accuracy_score, precision_score, recall_score, f1_score, roc_auc_score\n",
        "\n",
        "metrics = {\n",
        "    'Accuracy': accuracy_score,\n",
        "    'Precision': lambda y_t, y_p: precision_score(y_t, y_p, average='macro'),\n",
        "    'Recall': lambda y_t, y_p: recall_score(y_t, y_p, average='macro'),\n",
        "    'F1': lambda y_t, y_p: f1_score(y_t, y_p, average='macro'),\n",
        "}\n",
        "for name, metric in metrics.items():\n",
        "    print(f\"{name}: {metric(y_true, y_pred):.3f}\")"
      ],
      "id": "KWwFkpn2pDHX"
    },
    {
      "cell_type": "markdown",
      "metadata": {
        "id": "JTel2VwgpDHX"
      },
      "source": [
        "## 📌 Заключение: Искусство выбора метрик\n",
        "1. **Контекст важнее чисел** — метрика должна отражать бизнес-цели\n",
        "2. **Комплексный подход** — используйте несколько взаимодополняющих метрик\n",
        "3. **Глубокая диагностика** — анализируйте ошибки, а не только итоговые значения\n",
        "4. **Динамический мониторинг** — отслеживайте метрики во времени\n",
        "\n",
        "> \"Лучшая метрика — это не та, которая делает вашу модель хорошей на бумаге, а та, которая помогает принимать правильные решения в реальном мире\""
      ],
      "id": "JTel2VwgpDHX"
    }
  ],
  "metadata": {
    "kernelspec": {
      "display_name": "Python 3",
      "language": "python",
      "name": "python3"
    },
    "language_info": {
      "codemirror_mode": {
        "name": "ipython",
        "version": 3
      },
      "file_extension": ".py",
      "mimetype": "text/x-python",
      "name": "python",
      "nbconvert_exporter": "python",
      "pygments_lexer": "ipython3",
      "version": "3.9.12"
    },
    "colab": {
      "provenance": [],
      "include_colab_link": true
    }
  },
  "nbformat": 4,
  "nbformat_minor": 5
}