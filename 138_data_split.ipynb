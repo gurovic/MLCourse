{
  "cells": [
    {
      "cell_type": "markdown",
      "metadata": {
        "id": "view-in-github",
        "colab_type": "text"
      },
      "source": [
        "<a href=\"https://colab.research.google.com/github/gurovic/MLCourse/blob/main/138_data_split.ipynb\" target=\"_parent\"><img src=\"https://colab.research.google.com/assets/colab-badge.svg\" alt=\"Open In Colab\"/></a>"
      ]
    },
    {
      "cell_type": "markdown",
      "metadata": {
        "id": "GsfZAKJfN3lt"
      },
      "source": [
        "# Разделение данных на тренировочные, валидационные и тестовые"
      ]
    },
    {
      "cell_type": "markdown",
      "metadata": {
        "id": "Ea4tImdiN3lx"
      },
      "source": [
        "## Почему нужно разделять данные?\n",
        "При создании моделей машинного обучения **критически важно** оценивать их работу на данных, которые не использовались при обучении. Это позволяет:\n",
        "1. Избежать **переобучения** (когда модель запоминает шум в данных)\n",
        "2. Оценить **реальную обобщающую способность** модели\n",
        "3. Правильно **сравнивать разные модели** между собой"
      ]
    },
    {
      "cell_type": "markdown",
      "metadata": {
        "id": "2g0ofb-CN3ly"
      },
      "source": [
        "## Стандартные подходы к разделению"
      ]
    },
    {
      "cell_type": "markdown",
      "metadata": {
        "id": "ptp69lXHN3lz"
      },
      "source": [
        "### 1. Традиционное разделение (70/15/15)"
      ]
    },
    {
      "cell_type": "code",
      "execution_count": 21,
      "metadata": {
        "colab": {
          "base_uri": "https://localhost:8080/"
        },
        "id": "TPVt1ky0N3lz",
        "outputId": "e1cd5bce-8da2-4bbe-bbfe-f21d447c5cb9"
      },
      "outputs": [
        {
          "output_type": "stream",
          "name": "stdout",
          "text": [
            "Тренировочные: 70 (70%)\n",
            "Валидационные: 15 (15%)\n",
            "Тестовые: 15 (15%)\n"
          ]
        }
      ],
      "source": [
        "import numpy as np\n",
        "from sklearn.model_selection import train_test_split\n",
        "from sklearn.datasets import make_classification\n",
        "\n",
        "# Генерируем случайные данные\n",
        "X, y = make_classification(n_samples=100, n_features=12, n_classes=2,\n",
        "                           n_clusters_per_class=1, random_state=42)\n",
        "\n",
        "# Первое разделение: тренировочная и временная выборки\n",
        "X_temp, X_test, y_temp, y_test = train_test_split(X, y, test_size=0.15, random_state=42)\n",
        "\n",
        "# Второе разделение: тренировочная и валидационная\n",
        "X_train, X_val, y_train, y_val = train_test_split(X_temp, y_temp, test_size=0.176, random_state=42)  # 0.176 ≈ 15%/85%\n",
        "\n",
        "print(f\"Тренировочные: {len(X_train)} ({len(X_train)/len(X):.0%})\")\n",
        "print(f\"Валидационные: {len(X_val)} ({len(X_val)/len(X):.0%})\")\n",
        "print(f\"Тестовые: {len(X_test)} ({len(X_test)/len(X):.0%})\")"
      ]
    },
    {
      "cell_type": "markdown",
      "metadata": {
        "id": "uUtt1o0pN3l1"
      },
      "source": [
        "### 2. Кросс-валидация (K-Fold)\n",
        "Идеально для небольших наборов данных:"
      ]
    },
    {
      "cell_type": "code",
      "execution_count": 22,
      "metadata": {
        "colab": {
          "base_uri": "https://localhost:8080/"
        },
        "id": "_Kwn2ijxN3l1",
        "outputId": "156fadcb-8472-4981-e4d5-1f8daf7b709b"
      },
      "outputs": [
        {
          "output_type": "stream",
          "name": "stdout",
          "text": [
            "Fold 1:\n",
            "  Тренировочные: индекс [1 2 3]...\n",
            "  Валидационные: индекс [ 0  4 10]...\n",
            "Fold 2:\n",
            "  Тренировочные: индекс [0 1 2]...\n",
            "  Валидационные: индекс [ 5  9 11]...\n",
            "Fold 3:\n",
            "  Тренировочные: индекс [0 1 2]...\n",
            "  Валидационные: индекс [3 6 7]...\n",
            "Fold 4:\n",
            "  Тренировочные: индекс [0 1 2]...\n",
            "  Валидационные: индекс [32 41 43]...\n",
            "Fold 5:\n",
            "  Тренировочные: индекс [0 3 4]...\n",
            "  Валидационные: индекс [ 1  2 14]...\n"
          ]
        }
      ],
      "source": [
        "from sklearn.model_selection import KFold\n",
        "\n",
        "kf = KFold(n_splits=5, shuffle=True, random_state=42)\n",
        "for fold, (train_index, val_index) in enumerate(kf.split(X)):\n",
        "    print(f\"Fold {fold+1}:\")\n",
        "    print(f\"  Тренировочные: индекс {train_index[:3]}...\")\n",
        "    print(f\"  Валидационные: индекс {val_index[:3]}...\")"
      ]
    },
    {
      "cell_type": "markdown",
      "metadata": {
        "id": "laO5Ja2MN3l2"
      },
      "source": [
        "## Практические рекомендации"
      ]
    },
    {
      "cell_type": "markdown",
      "metadata": {
        "id": "Zv2YimSFN3l2"
      },
      "source": [
        "### Для разных типов задач:\n",
        "| Тип задачи               | Рекомендуемое разделение          |\n",
        "|--------------------------|-----------------------------------|\n",
        "| Классификация изображений | Стратифицированное разделение    |\n",
        "| Временные ряды           | Хронологическое разделение       |\n",
        "| Несбалансированные данные| Стратифицированное разделение    |\n",
        "| Большие наборы данных    | 98%/1%/1% или 99%/0.5%/0.5%      |"
      ]
    },
    {
      "cell_type": "markdown",
      "metadata": {
        "id": "jUFRS8WuN3l2"
      },
      "source": [
        "### Важные нюансы:\n",
        "1. **Стратификация** (сохранение распределения классов):"
      ]
    },
    {
      "cell_type": "code",
      "execution_count": 23,
      "metadata": {
        "id": "MkDiqUGTN3l3"
      },
      "outputs": [],
      "source": [
        "# Добавляем stratify=y для сохранения пропорций\n",
        "X_train, X_test, y_train, y_test = train_test_split(\n",
        "    X, y, test_size=0.2, stratify=y, random_state=42\n",
        ")"
      ]
    },
    {
      "cell_type": "markdown",
      "metadata": {
        "id": "QIVAvtagN3l3"
      },
      "source": [
        "2. **Хронологическое разделение** для временных рядов:"
      ]
    },
    {
      "cell_type": "code",
      "execution_count": 24,
      "metadata": {
        "colab": {
          "base_uri": "https://localhost:8080/",
          "height": 564
        },
        "id": "peF9m2X4N3l4",
        "outputId": "2a035485-fd6c-4468-eb57-4da1ca4ec8dc"
      },
      "outputs": [
        {
          "output_type": "display_data",
          "data": {
            "text/plain": [
              "<Figure size 1000x600 with 1 Axes>"
            ],
            "image/png": "[encoded data removed]"
          },
          "metadata": {}
        }
      ],
      "source": [
        "import numpy as np\n",
        "import pandas as pd\n",
        "import matplotlib.pyplot as plt\n",
        "\n",
        "# Создаем пример временного ряда\n",
        "dates = pd.date_range(start='2020-01-01', periods=100, freq='D')\n",
        "values = np.random.randn(100).cumsum()\n",
        "\n",
        "# Преобразуем в массив признаков и целевую переменную\n",
        "X = np.arange(len(dates)).reshape(-1, 1)  # Номер дня как признак\n",
        "y = values  # Значения временного ряда\n",
        "timestamps = dates  # Сохраняем метки времени\n",
        "\n",
        "# Хронологическое разделение\n",
        "sorted_indices = np.argsort(timestamps)\n",
        "train_size = int(0.7 * len(X))\n",
        "val_size = int(0.15 * len(X))\n",
        "\n",
        "train_idx = sorted_indices[:train_size]\n",
        "val_idx = sorted_indices[train_size:train_size+val_size]\n",
        "test_idx = sorted_indices[train_size+val_size:]\n",
        "\n",
        "# Разделение данных\n",
        "X_train, X_val, X_test = X[train_idx], X[val_idx], X[test_idx]\n",
        "y_train, y_val, y_test = y[train_idx], y[val_idx], y[test_idx]\n",
        "\n",
        "# Визуализация\n",
        "plt.figure(figsize=(10, 6))\n",
        "plt.plot(timestamps[train_idx], y_train, 'b-', label='Train')\n",
        "plt.plot(timestamps[val_idx], y_val, 'g-', label='Validation')\n",
        "plt.plot(timestamps[test_idx], y_test, 'r-', label='Test')\n",
        "plt.title('Хронологическое разделение временного ряда')\n",
        "plt.xlabel('Дата')\n",
        "plt.ylabel('Значение')\n",
        "plt.legend()\n",
        "plt.grid(True)\n",
        "plt.show()"
      ]
    },
    {
      "cell_type": "markdown",
      "metadata": {
        "id": "fbEA6JnQN3l4"
      },
      "source": [
        "3. **Предобработка данных**:\n",
        "- Все преобразования (масштабирование, заполнение пропусков) должны **обучаться только на тренировочных данных**\n",
        "- Затем применять обученные преобразования к валидационным и тестовым данным"
      ]
    },
    {
      "cell_type": "code",
      "execution_count": 25,
      "metadata": {
        "id": "QOTdYeqwN3l4"
      },
      "outputs": [],
      "source": [
        "from sklearn.preprocessing import StandardScaler\n",
        "\n",
        "scaler = StandardScaler()\n",
        "X_train_scaled = scaler.fit_transform(X_train)\n",
        "X_val_scaled = scaler.transform(X_val)  # Только transform!\n",
        "X_test_scaled = scaler.transform(X_test)  # Только transform!"
      ]
    },
    {
      "cell_type": "markdown",
      "metadata": {
        "id": "tCdo14umN3l4"
      },
      "source": [
        "## Частые ошибки\n",
        "1. **Тестовая выборка используется для обучения**:\n",
        "   - Любая настройка гиперпараметров на тестовых данных приводит к оптимистичной оценке\n",
        "   \n",
        "2. **Утечка данных**:\n",
        "   - Когда информация из тестовых данных попадает в тренировочные\n",
        "   - Решение: разделять данные ДО любой обработки\n",
        "\n",
        "3. **Непредставительная выборка**:\n",
        "   - Когда распределение в тестовых данных не соответствует реальным данным\n",
        "   - Решение: стратификация и случайное перемешивание\n",
        "\n",
        "> \"Тестовая выборка должна оставаться в 'сейфе' до финальной оценки модели. Представьте, что это экзаменационный билет - вы же не даете студентам учить ответы на конкретные вопросы перед экзаменом!\""
      ]
    },
    {
      "cell_type": "markdown",
      "metadata": {
        "id": "rB_4gLznN3l5"
      },
      "source": [
        "## Пример полного пайплайна"
      ]
    },
    {
      "cell_type": "code",
      "execution_count": 26,
      "metadata": {
        "colab": {
          "base_uri": "https://localhost:8080/"
        },
        "id": "WRXtRlFWN3l5",
        "outputId": "96ba3d12-b61b-40d0-ece4-8ded27d5758e"
      },
      "outputs": [
        {
          "output_type": "stream",
          "name": "stdout",
          "text": [
            "Validation Accuracy: 0.4933\n",
            "Test Accuracy: 0.4800\n",
            "\n",
            "Размеры выборок:\n",
            "Train: 700 samples\n",
            "Val: 150 samples\n",
            "Test: 150 samples\n"
          ]
        }
      ],
      "source": [
        "import numpy as np\n",
        "import pandas as pd\n",
        "from sklearn.model_selection import train_test_split\n",
        "from sklearn.preprocessing import StandardScaler\n",
        "from sklearn.ensemble import RandomForestClassifier\n",
        "from sklearn.metrics import accuracy_score\n",
        "\n",
        "# 1. Создаем синтетические данные\n",
        "np.random.seed(42)\n",
        "X = np.random.rand(1000, 5)  # 1000 образцов, 5 признаков\n",
        "y = np.random.randint(0, 2, size=1000)  # Бинарная классификация\n",
        "\n",
        "# 2. Первичное разделение (тренировочная + тестовая)\n",
        "X_temp, X_test, y_temp, y_test = train_test_split(\n",
        "    X, y,\n",
        "    test_size=0.15,\n",
        "    stratify=y,\n",
        "    random_state=42\n",
        ")\n",
        "\n",
        "# 3. Вторичное разделение (тренировочная + валидационная)\n",
        "X_train, X_val, y_train, y_val = train_test_split(\n",
        "    X_temp, y_temp,\n",
        "    test_size=0.176,  # 0.176 ≈ 15%/85%\n",
        "    stratify=y_temp,\n",
        "    random_state=42\n",
        ")\n",
        "\n",
        "# 4. Предобработка (только на тренировочных данных)\n",
        "scaler = StandardScaler()\n",
        "X_train_scaled = scaler.fit_transform(X_train)\n",
        "X_val_scaled = scaler.transform(X_val)\n",
        "X_test_scaled = scaler.transform(X_test)\n",
        "\n",
        "# 5. Обучение модели\n",
        "model = RandomForestClassifier(n_estimators=100, random_state=42)\n",
        "model.fit(X_train_scaled, y_train)\n",
        "\n",
        "# 6. Оценка на валидационных данных\n",
        "val_pred = model.predict(X_val_scaled)\n",
        "val_acc = accuracy_score(y_val, val_pred)\n",
        "print(f\"Validation Accuracy: {val_acc:.4f}\")\n",
        "\n",
        "# 7. Финальная оценка на тестовых данных\n",
        "test_pred = model.predict(X_test_scaled)\n",
        "test_acc = accuracy_score(y_test, test_pred)\n",
        "print(f\"Test Accuracy: {test_acc:.4f}\")\n",
        "\n",
        "# 8. Проверка размеров выборок\n",
        "print(f\"\\nРазмеры выборок:\")\n",
        "print(f\"Train: {X_train.shape[0]} samples\")\n",
        "print(f\"Val: {X_val.shape[0]} samples\")\n",
        "print(f\"Test: {X_test.shape[0]} samples\")\n"
      ]
    }
  ],
  "metadata": {
    "kernelspec": {
      "display_name": "Python 3",
      "language": "python",
      "name": "python3"
    },
    "language_info": {
      "codemirror_mode": {
        "name": "ipython",
        "version": 3
      },
      "file_extension": ".py",
      "mimetype": "text/x-python",
      "name": "python",
      "nbconvert_exporter": "python",
      "pygments_lexer": "ipython3",
      "version": "3.8.5"
    },
    "colab": {
      "provenance": [],
      "include_colab_link": true
    }
  },
  "nbformat": 4,
  "nbformat_minor": 0
}