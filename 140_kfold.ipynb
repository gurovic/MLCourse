{
  "cells": [
    {
      "cell_type": "markdown",
      "metadata": {
        "id": "view-in-github",
        "colab_type": "text"
      },
      "source": [
        "<a href=\"https://colab.research.google.com/github/gurovic/MLCourse/blob/main/140_kfold.ipynb\" target=\"_parent\"><img src=\"https://colab.research.google.com/assets/colab-badge.svg\" alt=\"Open In Colab\"/></a>"
      ]
    },
    {
      "cell_type": "markdown",
      "metadata": {
        "id": "n4_ltKeJph3b"
      },
      "source": [
        "  <a href=\"https://kaggle.com/kernels/welcome?src=https://github.com/gurovic/MLCourse/blob/main/140_kfold.ipynb\" target=\"_parent\"><img src=\"https://kaggle.com/static/images/open-in-kaggle.svg\" alt=\"Open In Kaggle\"></a>\n",
        "\n",
        "# **Разделение данных и кросс-валидация**\n",
        "\n",
        "## **Введение: Почему нельзя обучать на всех данных?**\n",
        "При разработке ML-моделей критически важно правильно разделять данные, чтобы:\n",
        "- ✅ **Оценить** реальную обобщающую способность модели\n",
        "- 🚫 **Избежать** переобучения (overfitting)\n",
        "- 📊 **Сравнить** разные модели объективно\n",
        "- 🔧 **Настроить** гиперпараметры без утечки данных\n",
        "\n",
        "**Ключевой принцип:**  \n",
        "> \"Тестовые данные должны быть священными — их нельзя использовать ни для обучения, ни для настройки параметров\""
      ]
    },
    {
      "cell_type": "markdown",
      "metadata": {
        "id": "F9-6pwi0ph3d"
      },
      "source": [
        "## **🟢 Базовый уровень: Стандартное разделение**\n",
        "\n",
        "### **1. Простое разделение Train-Test**\n",
        "Самый базовый подход — разделение на две части:\n",
        "- **Train (70-80%)** — для обучения модели\n",
        "- **Test (20-30%)** — для финальной оценки"
      ]
    },
    {
      "cell_type": "code",
      "execution_count": null,
      "metadata": {
        "id": "hpVBp6QIph3d"
      },
      "outputs": [],
      "source": [
        "from sklearn.model_selection import train_test_split\n",
        "from sklearn.datasets import make_classification\n",
        "import numpy as np\n",
        "\n",
        "# Создаем синтетические данные\n",
        "X, y = make_classification(n_samples=1000, n_features=20, random_state=42)\n",
        "\n",
        "# Разделение данных\n",
        "X_train, X_test, y_train, y_test = train_test_split(\n",
        "    X,\n",
        "    y,\n",
        "    test_size=0.2,       # 20% для теста\n",
        "    random_state=42,     # для воспроизводимости\n",
        "    stratify=y           # сохранение распределения классов\n",
        ")\n",
        "\n",
        "print(f\"Общий размер данных: {X.shape[0]}\")\n",
        "print(f\"Train size: {X_train.shape[0]} ({X_train.shape[0]/X.shape[0]:.0%})\")\n",
        "print(f\"Test size: {X_test.shape[0]} ({X_test.shape[0]/X.shape[0]:.0%})\")"
      ]
    },
    {
      "cell_type": "markdown",
      "metadata": {
        "id": "QrLT7E85ph3e"
      },
      "source": [
        "### **2. Проблемы базового подхода**\n",
        "1. **Недооценка вариативности** — одно разделение может быть неудачным\n",
        "2. **Потеря данных для обучения** — 20-30% не используются для обучения\n",
        "3. **Смещение оценки** — особенно критично для маленьких датасетов"
      ]
    },
    {
      "cell_type": "markdown",
      "metadata": {
        "id": "c8ovwAW4ph3e"
      },
      "source": [
        "## **🟡 Продвинутый уровень: Валидация и кросс-валидация**\n",
        "\n",
        "### **1. Трехстороннее разделение (Train-Validation-Test)**\n",
        "Добавляем валидационный набор для настройки гиперпараметров:\n",
        "- **Train (60%)** — обучение модели\n",
        "- **Validation (20%)** — подбор гиперпараметров\n",
        "- **Test (20%)** — финальная оценка"
      ]
    },
    {
      "cell_type": "code",
      "execution_count": null,
      "metadata": {
        "id": "oEVAbhoRph3e"
      },
      "outputs": [],
      "source": [
        "# Первое разделение: выделяем тест\n",
        "X_temp, X_test, y_temp, y_test = train_test_split(\n",
        "    X, y, test_size=0.2, random_state=42, stratify=y\n",
        ")\n",
        "\n",
        "# Второе разделение: train/validation\n",
        "X_train, X_val, y_train, y_val = train_test_split(\n",
        "    X_temp, y_temp, test_size=0.25, random_state=42, stratify=y_temp  # 0.25 * 0.8 = 0.2\n",
        ")\n",
        "\n",
        "print(f\"Train size: {X_train.shape[0]} ({X_train.shape[0]/X.shape[0]:.0%})\")\n",
        "print(f\"Validation size: {X_val.shape[0]} ({X_val.shape[0]/X.shape[0]:.0%})\")\n",
        "print(f\"Test size: {X_test.shape[0]} ({X_test.shape[0]/X.shape[0]:.0%})\")"
      ]
    },
    {
      "cell_type": "markdown",
      "metadata": {
        "id": "GbNauTP2ph3f"
      },
      "source": [
        "### **2. Кросс-валидация (K-Fold)**\n",
        "Решает проблему потери данных и вариативности:\n",
        "1. Данные делятся на K равных частей\n",
        "2. Модель обучается на K-1 частях\n",
        "3. Оценивается на оставшейся части\n",
        "4. Процесс повторяется K раз"
      ]
    },
    {
      "cell_type": "code",
      "execution_count": null,
      "metadata": {
        "id": "5TU139TCph3f"
      },
      "outputs": [],
      "source": [
        "from sklearn.model_selection import KFold\n",
        "from sklearn.ensemble import RandomForestClassifier\n",
        "from sklearn.metrics import accuracy_score\n",
        "\n",
        "kf = KFold(n_splits=5, shuffle=True, random_state=42)\n",
        "scores = []\n",
        "\n",
        "print(\"Кросс-валидация (5-fold):\")\n",
        "for i, (train_index, val_index) in enumerate(kf.split(X)):\n",
        "    X_train, X_val = X[train_index], X[val_index]\n",
        "    y_train, y_val = y[train_index], y[val_index]\n",
        "\n",
        "    model = RandomForestClassifier(random_state=42)\n",
        "    model.fit(X_train, y_train)\n",
        "    preds = model.predict(X_val)\n",
        "    acc = accuracy_score(y_val, preds)\n",
        "    scores.append(acc)\n",
        "    print(f\"Fold {i+1} Accuracy: {acc:.4f}\")\n",
        "\n",
        "print(f\"\\nСредняя Accuracy: {np.mean(scores):.4f} ± {np.std(scores):.4f}\")"
      ]
    },
    {
      "cell_type": "markdown",
      "metadata": {
        "id": "q8hJ0jnoph3f"
      },
      "source": [
        "### **3. Стратифицированная кросс-валидация**\n",
        "Для сохранения распределения классов в каждом фолде:"
      ]
    },
    {
      "cell_type": "code",
      "execution_count": null,
      "metadata": {
        "id": "emBaYtSAph3f"
      },
      "outputs": [],
      "source": [
        "from sklearn.model_selection import StratifiedKFold\n",
        "\n",
        "skf = StratifiedKFold(n_splits=5, shuffle=True, random_state=42)\n",
        "scores = []\n",
        "\n",
        "print(\"Стратифицированная кросс-валидация (5-fold):\")\n",
        "for i, (train_index, val_index) in enumerate(skf.split(X, y)):\n",
        "    X_train, X_val = X[train_index], X[val_index]\n",
        "    y_train, y_val = y[train_index], y[val_index]\n",
        "\n",
        "    model = RandomForestClassifier(random_state=42)\n",
        "    model.fit(X_train, y_train)\n",
        "    preds = model.predict(X_val)\n",
        "    acc = accuracy_score(y_val, preds)\n",
        "    scores.append(acc)\n",
        "    print(f\"Fold {i+1} Accuracy: {acc:.4f}\")\n",
        "\n",
        "print(f\"\\nСредняя Accuracy: {np.mean(scores):.4f} ± {np.std(scores):.4f}\")"
      ]
    },
    {
      "cell_type": "markdown",
      "metadata": {
        "id": "ucyCvYCQph3f"
      },
      "source": [
        "### **Преимущества кросс-валидации**\n",
        "- **Полное использование данных** — все наблюдения участвуют в обучении и валидации\n",
        "- **Надежная оценка** — уменьшение зависимости от конкретного разделения\n",
        "- **Оценка стабильности** — можно измерить дисперсию качества модели"
      ]
    },
    {
      "cell_type": "markdown",
      "metadata": {
        "id": "nYnYNXRAph3g"
      },
      "source": [
        "## **🔴 Экспертный уровень: Специальные случаи**\n",
        "\n",
        "### **1. Временные ряды (Time Series Split)**\n",
        "Для данных с временной зависимостью:"
      ]
    },
    {
      "cell_type": "code",
      "execution_count": null,
      "metadata": {
        "id": "cm54WncPph3g"
      },
      "outputs": [],
      "source": [
        "from sklearn.model_selection import TimeSeriesSplit\n",
        "import pandas as pd\n",
        "\n",
        "# Создаем временной ряд\n",
        "dates = pd.date_range(start=\"2023-01-01\", periods=100, freq=\"D\")\n",
        "X = np.random.randn(100, 5)\n",
        "y = np.random.randint(0, 2, 100)\n",
        "\n",
        "tscv = TimeSeriesSplit(n_splits=5)\n",
        "print(\"Разбиение временных рядов:\")\n",
        "\n",
        "for i, (train_index, test_index) in enumerate(tscv.split(X)):\n",
        "    print(f\"Fold {i+1}: Train size: {len(train_index)}, Test size: {len(test_index)}\")\n",
        "    print(f\"Train dates: {dates[train_index[0]]} to {dates[train_index[-1]]}\")\n",
        "    print(f\"Test dates: {dates[test_index[0]]} to {dates[test_index[-1]]}\\n\")"
      ]
    },
    {
      "cell_type": "markdown",
      "metadata": {
        "id": "-baQ7Hmcph3g"
      },
      "source": [
        "### **2. Групповое разделение (Group K-Fold)**\n",
        "Когда данные имеют группы (пациенты, клиенты):"
      ]
    },
    {
      "cell_type": "code",
      "execution_count": null,
      "metadata": {
        "id": "KRETlDd8ph3g"
      },
      "outputs": [],
      "source": [
        "from sklearn.model_selection import GroupKFold\n",
        "\n",
        "# Создаем группы (например, 10 пациентов по 10 образцов)\n",
        "groups = np.repeat(np.arange(10), 10)\n",
        "\n",
        "gkf = GroupKFold(n_splits=3)\n",
        "print(\"Групповое разделение:\")\n",
        "\n",
        "for i, (train_index, test_index) in enumerate(gkf.split(X, y, groups=groups)):\n",
        "    train_groups = np.unique(groups[train_index])\n",
        "    test_groups = np.unique(groups[test_index])\n",
        "    print(f\"Fold {i+1}: Train groups: {train_groups}, Test groups: {test_groups}\")"
      ]
    },
    {
      "cell_type": "markdown",
      "metadata": {
        "id": "SMVV-5vxph3g"
      },
      "source": [
        "### **3. Оставьте-одного-вне (Leave-One-Out - LOO)**\n",
        "Экстремальный случай K-Fold, где K = N (число образцов):"
      ]
    },
    {
      "cell_type": "code",
      "execution_count": null,
      "metadata": {
        "id": "5u7o6-rpph3g"
      },
      "outputs": [],
      "source": [
        "from sklearn.model_selection import LeaveOneOut\n",
        "from sklearn.linear_model import LogisticRegression\n",
        "\n",
        "# Используем небольшой набор данных для демонстрации\n",
        "X_small, y_small = X[:20], y[:20]\n",
        "\n",
        "loo = LeaveOneOut()\n",
        "scores = []\n",
        "\n",
        "for train_index, test_index in loo.split(X_small):\n",
        "    X_train, X_test = X_small[train_index], X_small[test_index]\n",
        "    y_train, y_test = y_small[train_index], y_small[test_index]\n",
        "\n",
        "    model = LogisticRegression(max_iter=1000)\n",
        "    model.fit(X_train, y_train)\n",
        "    scores.append(model.score(X_test, y_test))\n",
        "\n",
        "print(f\"LOO Accuracy: {np.mean(scores):.4f}\")"
      ]
    },
    {
      "cell_type": "markdown",
      "metadata": {
        "id": "v7b4MDb3ph3g"
      },
      "source": [
        "### **4. Перекрестная валидация с подбором параметров**"
      ]
    },
    {
      "cell_type": "code",
      "execution_count": null,
      "metadata": {
        "id": "TWZsc-BCph3g"
      },
      "outputs": [],
      "source": [
        "from sklearn.model_selection import GridSearchCV\n",
        "from sklearn.svm import SVC\n",
        "\n",
        "param_grid = {\n",
        "    'C': [0.1, 1, 10],\n",
        "    'gamma': [0.01, 0.1, 1]\n",
        "}\n",
        "\n",
        "grid_search = GridSearchCV(\n",
        "    SVC(),\n",
        "    param_grid,\n",
        "    cv=5,                   # 5-fold CV\n",
        "    scoring='accuracy',\n",
        "    return_train_score=True\n",
        ")\n",
        "\n",
        "grid_search.fit(X_train, y_train)\n",
        "\n",
        "print(f\"Лучшие параметры: {grid_search.best_params_}\")\n",
        "print(f\"Лучшая точность: {grid_search.best_score_:.4f}\")"
      ]
    },
    {
      "cell_type": "markdown",
      "metadata": {
        "id": "jobIONKeph3h"
      },
      "source": [
        "## **📊 Сравнение методов валидации**\n",
        "\n",
        "| **Метод**               | **Когда использовать**                     | **Преимущества**                          | **Недостатки**               |\n",
        "|-------------------------|------------------------------------------|-------------------------------------------|-------------------------------|\n",
        "| **Train-Test Split**    | Большие датасеты, быстрые эксперименты   | Простота, скорость                        | Высокая дисперсия оценки     |\n",
        "| **K-Fold CV**           | Средние датасеты, стандартные задачи     | Стабильная оценка, полное использование   | Вычислительно дорогой       |\n",
        "| **Stratified K-Fold**   | Несбалансированные классы                | Сохраняет распределение классов           | Сложнее реализовать         |\n",
        "| **Time Series Split**   | Временные ряды                           | Учитывает временную зависимость           | Не подходит для независимых данных|\n",
        "| **Group K-Fold**        | Данные с групповой структурой            | Защищает от утечки между группами         | Требует информации о группах|"
      ]
    },
    {
      "cell_type": "markdown",
      "metadata": {
        "id": "dtv8PRPAph3h"
      },
      "source": [
        "## **💡 Практические рекомендации**\n",
        "\n",
        "### **1. Размеры выборок**\n",
        "- **Маленькие датасеты (<1000 образцов):**  \n",
        "  Используйте кросс-валидацию с K=5-10 или LOO\n",
        "  \n",
        "- **Средние датасеты (1k-100k образцов):**  \n",
        "  K-Fold с K=5-10\n",
        "  \n",
        "- **Большие датасеты (>100k образцов):**  \n",
        "  Train-Test Split (98%/1%/1% или 99%/0.5%/0.5%)\n",
        "\n",
        "### **2. Предотвращение утечки данных**\n",
        "- Всегда делайте предобработку **после** разделения"
      ]
    },
    {
      "cell_type": "code",
      "execution_count": null,
      "metadata": {
        "id": "dkgQd7gwph3h"
      },
      "outputs": [],
      "source": [
        "from sklearn.preprocessing import StandardScaler\n",
        "from sklearn.pipeline import make_pipeline\n",
        "\n",
        "# Неправильно: утечка данных!\n",
        "scaler = StandardScaler()\n",
        "X_scaled = scaler.fit_transform(X)\n",
        "X_train, X_test = train_test_split(X_scaled, test_size=0.2)\n",
        "\n",
        "# Правильно: использование в пайплайне\n",
        "pipeline = make_pipeline(\n",
        "    StandardScaler(),\n",
        "    RandomForestClassifier()\n",
        ")\n",
        "\n",
        "X_train, X_test, y_train, y_test = train_test_split(X, y, test_size=0.2)\n",
        "pipeline.fit(X_train, y_train)\n",
        "score = pipeline.score(X_test, y_test)\n",
        "print(f\"Точность с пайплайном: {score:.4f}\")"
      ]
    },
    {
      "cell_type": "markdown",
      "metadata": {
        "id": "YQSU189qph3h"
      },
      "source": [
        "### **3. Автоматизация в sklearn**\n",
        "Используйте Pipeline для предотвращения утечек:"
      ]
    },
    {
      "cell_type": "code",
      "execution_count": null,
      "metadata": {
        "id": "X7y_6x-0ph3h"
      },
      "outputs": [],
      "source": [
        "from sklearn.decomposition import PCA\n",
        "from sklearn.model_selection import cross_val_score\n",
        "\n",
        "pipeline = make_pipeline(\n",
        "    StandardScaler(),\n",
        "    PCA(n_components=0.95),\n",
        "    RandomForestClassifier(random_state=42)\n",
        ")\n",
        "\n",
        "scores = cross_val_score(pipeline, X, y, cv=5, scoring='accuracy')\n",
        "print(f\"CV Accuracy: {np.mean(scores):.4f} ± {np.std(scores):.4f}\")"
      ]
    },
    {
      "cell_type": "markdown",
      "metadata": {
        "id": "XQ06aWA7ph3h"
      },
      "source": [
        "## **📌 Заключение: Золотые правила валидации**\n",
        "\n",
        "1. **Тестовый набор — священный грааль**  \n",
        "   Никогда не используйте тестовые данные для обучения или настройки\n",
        "   \n",
        "2. **Кросс-валидация — ваш друг**  \n",
        "   Всегда используйте CV для небольших/средних датасетов\n",
        "   \n",
        "3. **Учитывайте структуру данных**  \n",
        "   Для временных рядов, групповых данных и несбалансированных классов используйте специализированные методы\n",
        "   \n",
        "4. **Автоматизируйте предобработку**  \n",
        "   Всегда используйте Pipeline для предотвращения утечек данных\n",
        "\n",
        "> \"Правильное разделение данных — это не техническая деталь, а фундаментальный аспект построения надежных ML-моделей\"\n"
      ]
    }
  ],
  "metadata": {
    "kernelspec": {
      "display_name": "Python 3",
      "language": "python",
      "name": "python3"
    },
    "language_info": {
      "codemirror_mode": {
        "name": "ipython",
        "version": 3
      },
      "file_extension": ".py",
      "mimetype": "text/x-python",
      "name": "python",
      "nbconvert_exporter": "python",
      "pygments_lexer": "ipython3",
      "version": "3.10.6"
    },
    "colab": {
      "provenance": [],
      "include_colab_link": true
    }
  },
  "nbformat": 4,
  "nbformat_minor": 0
}