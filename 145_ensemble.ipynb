{
  "cells": [
    {
      "cell_type": "markdown",
      "metadata": {
        "id": "view-in-github",
        "colab_type": "text"
      },
      "source": [
        "<a href=\"https://colab.research.google.com/github/gurovic/MLCourse/blob/main/145_ensemble.ipynb\" target=\"_parent\"><img src=\"https://colab.research.google.com/assets/colab-badge.svg\" alt=\"Open In Colab\"/></a>"
      ]
    },
    {
      "cell_type": "markdown",
      "metadata": {
        "id": "958Y2JRzZwuZ"
      },
      "source": [
        " <a href=\"https://kaggle.com/kernels/welcome?src=https://github.com/gurovic/MLCourse/blob/main/145_ensemble.ipynb\" target=\"_parent\"><img src=\"https://kaggle.com/static/images/open-in-kaggle.svg\" alt=\"Open In Kaggle\"></a>\n",
        "       \n",
        "\n",
        "# Ансамблевые методы в машинном обучении"
      ]
    },
    {
      "cell_type": "markdown",
      "source": [
        "## Подготовка данных для экспериментов\n",
        "\n",
        "Перед изучением ансамблевых методов создадим два типа датасетов для экспериментов:\n"
      ],
      "metadata": {
        "id": "sxezIE5qgKM8"
      }
    },
    {
      "cell_type": "code",
      "source": [
        "import numpy as np\n",
        "import matplotlib.pyplot as plt\n",
        "import seaborn as sns\n",
        "import pandas as pd\n",
        "from sklearn.datasets import make_moons\n",
        "from sklearn.model_selection import train_test_split\n",
        "\n",
        "# Нелинейный датасет (сложные границы решений)\n",
        "X_moons, y_moons = make_moons(\n",
        "    n_samples=500,\n",
        "    noise=0.3,\n",
        "    random_state=42\n",
        ")\n",
        "\n",
        "\n",
        "# Разделение на обучающую и тестовую выборки\n",
        "X_train_m, X_test_m, y_train_m, y_test_m = train_test_split(\n",
        "    X_moons, y_moons, test_size=0.2, random_state=42\n",
        ")"
      ],
      "metadata": {
        "id": "rPdv9Qs5gCs0"
      },
      "execution_count": null,
      "outputs": []
    },
    {
      "cell_type": "markdown",
      "metadata": {
        "id": "SYbyX_lmZwud"
      },
      "source": [
        "## Основные концепции\n",
        "\n",
        "**Ансамблевые методы** - подходы, которые комбинируют несколько базовых моделей для получения более точного и стабильного предсказания.\n",
        "\n",
        "### Зачем нужны ансамбли?\n",
        "1. Уменьшение дисперсии (variance reduction)\n",
        "2. Увеличение точности предсказаний\n",
        "3. Повышение устойчивости к шуму и выбросам\n",
        "4. Компенсация слабостей отдельных моделей\n",
        "\n",
        "### Основные типы ансамблей:\n",
        "| Тип | Принцип | Примеры |\n",
        "|------|---------|---------|\n",
        "| **Бэггинг** | Параллельное обучение на разных подвыборках | Random Forest |\n",
        "| **Бустинг** | Последовательное обучение с коррекцией ошибок | AdaBoost, XGBoost |\n",
        "| **Стекинг** | Комбинирование предсказаний мета-моделью | Blending |\n",
        "\n",
        "### Теорема Кондорсе (1785)\n",
        "Основная математическая база для ансамблей: коллективное решение группы часто лучше индивидуальных решений, если каждый участник имеет вероятность правильного решения >0.5."
      ]
    },
    {
      "cell_type": "markdown",
      "metadata": {
        "id": "ZMLtkcaIZwue"
      },
      "source": [
        "## 🟢 Базовый уровень"
      ]
    },
    {
      "cell_type": "markdown",
      "metadata": {
        "id": "vjIPuCYfZwuf"
      },
      "source": [
        "### 1.1 Принцип \"Мудрости толпы\""
      ]
    },
    {
      "cell_type": "code",
      "source": [
        "import numpy as np\n",
        "\n",
        "# Генерация предсказаний 100 слабых моделей (точность 51%)\n",
        "true_labels = np.random.randint(0, 2, 1000)\n",
        "weak_preds = [np.where(np.random.rand(1000) < 0.51, true_labels, 1-true_labels)\n",
        "              for _ in range(100)]\n",
        "\n",
        "# Агрегация предсказаний\n",
        "ensemble_pred = np.mean(weak_preds, axis=0) > 0.5\n",
        "ensemble_acc = np.mean(ensemble_pred == true_labels)\n",
        "print(f\"Точность ансамбля: {ensemble_acc:.2f}\")  # ~75%"
      ],
      "metadata": {
        "id": "ovyxucESbjuS"
      },
      "execution_count": null,
      "outputs": []
    },
    {
      "cell_type": "markdown",
      "metadata": {
        "id": "XqnimSRcZwug"
      },
      "source": [
        "### 1.2 Виды ансамблей\n",
        "- **Бэггинг (Bagging):** Bootstrap Aggregating\n",
        "- **Бустинг (Boosting):** Последовательное улучшение\n",
        "- **Стекинг (Stacking):** Мета-обучение"
      ]
    },
    {
      "cell_type": "markdown",
      "metadata": {
        "id": "fkcWA9K4Zwug"
      },
      "source": [
        "## 🟡 Продвинутый уровень"
      ]
    },
    {
      "cell_type": "markdown",
      "metadata": {
        "id": "8Rw3lnvuZwug"
      },
      "source": [
        "### 2.1 Реализация бэггинга\n"
      ]
    },
    {
      "cell_type": "code",
      "source": [
        "from sklearn.base import clone\n",
        "from sklearn.tree import DecisionTreeClassifier\n",
        "\n",
        "class BaggingClassifier:\n",
        "    def __init__(self, base_estimator, n_estimators=10):\n",
        "        self.estimators = [clone(base_estimator) for _ in range(n_estimators)]\n",
        "\n",
        "    def fit(self, X, y):\n",
        "        for estimator in self.estimators:\n",
        "            indices = np.random.choice(len(X), size=len(X), replace=True)\n",
        "            estimator.fit(X[indices], y[indices])\n",
        "\n",
        "    def predict(self, X):\n",
        "        preds = np.array([estimator.predict(X) for estimator in self.estimators])\n",
        "        return np.round(np.mean(preds, axis=0))\n",
        "\n",
        "# Использование\n",
        "bagging = BaggingClassifier(DecisionTreeClassifier(max_depth=3), n_estimators=50)\n",
        "bagging.fit(X_train_m, y_train_m)"
      ],
      "metadata": {
        "id": "JqUgR-i7btjj"
      },
      "execution_count": null,
      "outputs": []
    },
    {
      "cell_type": "markdown",
      "metadata": {
        "id": "ecRtLKmtZwuh"
      },
      "source": [
        "### 2.2 Сравнение типов ансамблей\n",
        "| Метод | Параллелизм | Устойчивость к шуму | Скорость |\n",
        "|-------|-------------|---------------------|----------|\n",
        "| Бэггинг | ✅ Высокий | ✅ Высокая | ⚡ Быстрая |\n",
        "| Бустинг | ❌ Последовательный | ❌ Чувствителен | 🐢 Медленная |\n",
        "| Стекинг | ✅/❌ | ➖ Средняя | ⏱️ Зависит |"
      ]
    },
    {
      "cell_type": "markdown",
      "metadata": {
        "id": "kv1G_moEZwuh"
      },
      "source": [
        "## 🔴 Экспертный уровень"
      ]
    },
    {
      "cell_type": "markdown",
      "metadata": {
        "id": "RNDKK6EdZwui"
      },
      "source": [
        "### 3.1 Каскадное обучение\n"
      ]
    },
    {
      "cell_type": "code",
      "source": [
        "from sklearn.ensemble import AdaBoostClassifier\n",
        "from sklearn.svm import SVC\n",
        "\n",
        "model = AdaBoostClassifier(\n",
        "    estimator=SVC(probability=True, kernel='rbf'),\n",
        "    n_estimators=100,\n",
        ")\n",
        "model.fit(X_train_m, y_train_m)"
      ],
      "metadata": {
        "id": "-HV_zEwab16d"
      },
      "execution_count": null,
      "outputs": []
    },
    {
      "cell_type": "markdown",
      "metadata": {
        "id": "JtqYPCAoZwuj"
      },
      "source": [
        "### 3.2 Оптимизация стекинга\n"
      ]
    },
    {
      "cell_type": "code",
      "source": [
        "from sklearn.ensemble import StackingClassifier\n",
        "from sklearn.linear_model import LogisticRegression\n",
        "from sklearn.neighbors import KNeighborsClassifier\n",
        "\n",
        "estimators = [\n",
        "    ('dt', DecisionTreeClassifier(max_depth=5)),\n",
        "    ('svm', SVC(probability=True)),\n",
        "    ('knn', KNeighborsClassifier(n_neighbors=7))\n",
        "]\n",
        "\n",
        "stack = StackingClassifier(\n",
        "    estimators=estimators,\n",
        "    final_estimator=LogisticRegression(),\n",
        "    cv=5,\n",
        "    stack_method='predict_proba'\n",
        ")"
      ],
      "metadata": {
        "id": "9v42AMVXb4gj"
      },
      "execution_count": null,
      "outputs": []
    },
    {
      "cell_type": "markdown",
      "metadata": {
        "id": "3LAeOZjWZwuj"
      },
      "source": [
        "## 📊 Сравнение методов"
      ]
    },
    {
      "cell_type": "code",
      "source": [
        "from sklearn.metrics import roc_auc_score\n",
        "\n",
        "methods = {\n",
        "    \"Bagging\": BaggingClassifier(\n",
        "        base_estimator=DecisionTreeClassifier(),\n",
        "        n_estimators=50\n",
        "    ),\n",
        "    \"AdaBoost\": AdaBoostClassifier(n_estimators=50),\n",
        "    \"Stacking\": stack\n",
        "}\n",
        "\n",
        "for name, model in methods.items():\n",
        "    model.fit(X_train_m, y_train_m)\n",
        "\n",
        "    try:\n",
        "        # Для моделей с вероятностями\n",
        "        y_proba = model.predict_proba(X_test_m)[:, 1]\n",
        "    except AttributeError:\n",
        "        try:\n",
        "            # Для моделей с decision_function\n",
        "            y_proba = model.decision_function(X_test_m)\n",
        "            # Линейное преобразование к [0, 1]\n",
        "            y_proba = (y_proba - y_proba.min()) / (y_proba.max() - y_proba.min())\n",
        "        except AttributeError:\n",
        "            # Для моделей без вероятностей (используем жесткие предсказания)\n",
        "            y_pred = model.predict(X_test_m)\n",
        "            # Преобразуем в псевдо-вероятности (0.1 и 0.9 вместо 0 и 1)\n",
        "            y_proba = np.where(y_pred == 0, 0.1, 0.9)\n",
        "\n",
        "    score = roc_auc_score(y_test_m, y_proba)\n",
        "    print(f\"{name}: {score:.4f}\")"
      ],
      "metadata": {
        "id": "mtmz5Xxdb9jv"
      },
      "execution_count": null,
      "outputs": []
    },
    {
      "cell_type": "markdown",
      "metadata": {
        "id": "CtAC77MVZwuk"
      },
      "source": [
        "## ⚠️ Распространённые ошибки\n",
        "1. Использование коррелированных моделей в ансамбле\n",
        "2. Отсутствие разнообразия в базовых моделях\n",
        "3. Неправильный выбор мета-модели для стекинга\n",
        "4. Игнорирование переобучения при бустинге"
      ]
    },
    {
      "cell_type": "markdown",
      "metadata": {
        "id": "_64WXNH8Zwuk"
      },
      "source": [
        "## 📌 Заключение\n",
        "- **Бэггинг:** Лучше для уменьшения дисперсии, параллельные вычисления\n",
        "- **Бустинг:** Лучше для уменьшения смещения, последовательное улучшение\n",
        "- **Стекинг:** Максимальная гибкость, требует тщательной настройки"
      ]
    }
  ],
  "metadata": {
    "kernelspec": {
      "display_name": "Python 3",
      "language": "python",
      "name": "python3"
    },
    "language_info": {
      "codemirror_mode": {
        "name": "ipython",
        "version": 3
      },
      "file_extension": ".py",
      "mimetype": "text/x-python",
      "name": "python",
      "nbconvert_exporter": "python",
      "pygments_lexer": "ipython3",
      "version": "3.8.5"
    },
    "colab": {
      "provenance": [],
      "include_colab_link": true
    }
  },
  "nbformat": 4,
  "nbformat_minor": 0
}