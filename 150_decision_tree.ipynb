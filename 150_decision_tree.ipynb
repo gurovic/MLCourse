{
  "cells": [
    {
      "cell_type": "markdown",
      "metadata": {
        "id": "view-in-github",
        "colab_type": "text"
      },
      "source": [
        "<a href=\"https://colab.research.google.com/github/gurovic/MLCourse/blob/main/150_decision_tree.ipynb\" target=\"_parent\"><img src=\"https://colab.research.google.com/assets/colab-badge.svg\" alt=\"Open In Colab\"/></a>"
      ]
    },
    {
      "cell_type": "markdown",
      "metadata": {
        "id": "cyStugwar4Uf"
      },
      "source": [
        "<a href=\"https://kaggle.com/kernels/welcome?src=https://github.com/gurovic/MLCourse/blob/main/010_read.ipynb\" target=\"_parent\"><img src=\"https://kaggle.com/static/images/open-in-kaggle.svg\" alt=\"Open In Kaggle\"></a>\n",
        "        \n",
        "\n",
        "# Деревья решений - критерии Gini/энтропия"
      ],
      "id": "cyStugwar4Uf"
    },
    {
      "cell_type": "code",
      "execution_count": null,
      "metadata": {
        "id": "VJ_YE4pAr4Uh"
      },
      "outputs": [],
      "source": [
        "import numpy as np\n",
        "import matplotlib.pyplot as plt\n",
        "from sklearn.tree import DecisionTreeClassifier, plot_tree\n",
        "from sklearn.datasets import load_iris\n",
        "from sklearn.model_selection import train_test_split\n",
        "\n",
        "# !pip install scikit-learn"
      ],
      "id": "VJ_YE4pAr4Uh"
    },
    {
      "cell_type": "markdown",
      "metadata": {
        "id": "NdFGQzcvr4Ui"
      },
      "source": [
        "---\n",
        "\n",
        "## 🟢 Базовый уровень (Основные концепции)"
      ],
      "id": "NdFGQzcvr4Ui"
    },
    {
      "cell_type": "markdown",
      "metadata": {
        "id": "NYREJjetr4Ui"
      },
      "source": [
        "### 1.1 Что такое дерево решений?\n",
        "**Алгоритм:** Иерархическая структура условий \"если-то\", разделяющая данные на классы  \n",
        "**Преимущества:**  \n",
        "- Интерпретируемость  \n",
        "- Работает с категориальными и числовыми признаками  \n",
        "- Не требует масштабирования данных"
      ],
      "id": "NYREJjetr4Ui"
    },
    {
      "cell_type": "markdown",
      "metadata": {
        "id": "yGN63E7jr4Ui"
      },
      "source": [
        "### 1.2 Критерии разделения\n",
        "**Энтропия:**  \n",
        "$Entropy = -\\sum(p_i \\log_2 p_i)$  \n",
        "Мера неопределенности (0 для чистых узлов)\n",
        "\n",
        "**Индекс Джини:**  \n",
        "$Gini = 1 - \\sum(p_i^2)$  \n",
        "Мера нечистоты (0 для чистых узлов)"
      ],
      "id": "yGN63E7jr4Ui"
    },
    {
      "cell_type": "code",
      "execution_count": null,
      "metadata": {
        "id": "g6CE9KP8r4Ui"
      },
      "outputs": [],
      "source": [
        "# Расчет вручную\n",
        "import numpy as np\n",
        "\n",
        "def gini(p):\n",
        "    return 1 - sum(p**2)\n",
        "\n",
        "def entropy(p):\n",
        "    return -sum(p * np.log2(p))\n",
        "\n",
        "# Пример для узла с распределением [0.9, 0.1]\n",
        "print(f\"Gini: {gini(np.array([0.9, 0.1])):.3f}\")  # 0.18\n",
        "print(f\"Entropy: {entropy(np.array([0.9, 0.1])):.3f}\")  # 0.469"
      ],
      "id": "g6CE9KP8r4Ui"
    },
    {
      "cell_type": "markdown",
      "metadata": {
        "id": "WYT5PnVOr4Ui"
      },
      "source": [
        "### 1.3 Построение дерева в sklearn"
      ],
      "id": "WYT5PnVOr4Ui"
    },
    {
      "cell_type": "code",
      "execution_count": null,
      "metadata": {
        "id": "3vewE9Eir4Uj"
      },
      "outputs": [],
      "source": [
        "# Загрузка данных\n",
        "iris = load_iris()\n",
        "X_train, X_test, y_train, y_test = train_test_split(iris.data, iris.target, test_size=0.2)\n",
        "\n",
        "# Обучение с критерием Джини\n",
        "clf = DecisionTreeClassifier(criterion='gini', max_depth=2)\n",
        "clf.fit(X_train, y_train)\n",
        "\n",
        "# Визуализация\n",
        "plt.figure(figsize=(12,8))\n",
        "plot_tree(clf, feature_names=iris.feature_names, class_names=iris.target_names, filled=True)\n",
        "plt.show()"
      ],
      "id": "3vewE9Eir4Uj"
    },
    {
      "cell_type": "markdown",
      "metadata": {
        "id": "41hNooZAr4Uj"
      },
      "source": [
        "---\n",
        "\n",
        "## 🟡 Продвинутый уровень (Реализация)"
      ],
      "id": "41hNooZAr4Uj"
    },
    {
      "cell_type": "markdown",
      "metadata": {
        "id": "UqXXANfbr4Uj"
      },
      "source": [
        "### 2.1 Расчет прироста информации\n",
        "**Информационный выигрыш:**  \n",
        "$IG = I_{parent} - \\sum\\frac{N_{child}}{N_{parent}}I_{child}$  \n",
        "где $I$ - энтропия или Gini"
      ],
      "id": "UqXXANfbr4Uj"
    },
    {
      "cell_type": "code",
      "execution_count": null,
      "metadata": {
        "id": "91beUB-tr4Uj"
      },
      "outputs": [],
      "source": [
        "def information_gain(parent, children, criterion='gini'):\n",
        "    if criterion == 'gini':\n",
        "        parent_impurity = gini(parent)\n",
        "        child_impurity = sum(gini(child) * len(child) for child in children) / sum(len(c) for c in children)\n",
        "    else:\n",
        "        parent_impurity = entropy(parent)\n",
        "        child_impurity = sum(entropy(child) * len(child) for child in children) / sum(len(c) for c in children)\n",
        "\n",
        "    return parent_impurity - child_impurity\n",
        "\n",
        "# Пример использования\n",
        "parent = np.array([0.5, 0.5])\n",
        "children = [np.array([0.9, 0.1]), np.array([0.2, 0.8])]\n",
        "print(f\"Information Gain: {information_gain(parent, children, 'entropy'):.3f}\")"
      ],
      "id": "91beUB-tr4Uj"
    },
    {
      "cell_type": "markdown",
      "metadata": {
        "id": "BX_M1X24r4Uj"
      },
      "source": [
        "### 2.2 Поиск лучшего разделения"
      ],
      "id": "BX_M1X24r4Uj"
    },
    {
      "cell_type": "code",
      "execution_count": null,
      "metadata": {
        "id": "EnF16MPhr4Uk"
      },
      "outputs": [],
      "source": [
        "def find_best_split(X, y):\n",
        "    best_ig = -1\n",
        "    best_feature = None\n",
        "    best_threshold = None\n",
        "\n",
        "    for feature_idx in range(X.shape[1]):\n",
        "        thresholds = np.unique(X[:, feature_idx])\n",
        "        for threshold in thresholds:\n",
        "            left_mask = X[:, feature_idx] <= threshold\n",
        "            right_mask = ~left_mask\n",
        "\n",
        "            left_probs = np.bincount(y[left_mask]) / len(y[left_mask])\n",
        "            right_probs = np.bincount(y[right_mask]) / len(y[right_mask])\n",
        "\n",
        "            ig = information_gain(\n",
        "                np.bincount(y) / len(y),\n",
        "                [left_probs, right_probs],\n",
        "                'gini'\n",
        "            )\n",
        "\n",
        "            if ig > best_ig:\n",
        "                best_ig = ig\n",
        "                best_feature = feature_idx\n",
        "                best_threshold = threshold\n",
        "\n",
        "    return best_feature, best_threshold, best_ig"
      ],
      "id": "EnF16MPhr4Uk"
    },
    {
      "cell_type": "markdown",
      "metadata": {
        "id": "T6odFqt2r4Uk"
      },
      "source": [
        "### 2.3 Визуализация границ решений"
      ],
      "id": "T6odFqt2r4Uk"
    },
    {
      "cell_type": "code",
      "execution_count": null,
      "metadata": {
        "id": "npgRdG0tr4Uk"
      },
      "outputs": [],
      "source": [
        "# Для 2D случая\n",
        "X = iris.data[:, [0, 2]]  # sepal length и petal length\n",
        "y = iris.target\n",
        "\n",
        "clf_2d = DecisionTreeClassifier(max_depth=3)\n",
        "clf_2d.fit(X, y)\n",
        "\n",
        "# Построение границ\n",
        "x_min, x_max = X[:, 0].min()-1, X[:, 0].max()+1\n",
        "y_min, y_max = X[:, 1].min()-1, X[:, 1].max()+1\n",
        "xx, yy = np.meshgrid(np.arange(x_min, x_max, 0.02),\n",
        "                     np.arange(y_min, y_max, 0.02))\n",
        "\n",
        "Z = clf_2d.predict(np.c_[xx.ravel(), yy.ravel()])\n",
        "Z = Z.reshape(xx.shape)\n",
        "\n",
        "plt.contourf(xx, yy, Z, alpha=0.3)\n",
        "plt.scatter(X[:, 0], X[:, 1], c=y, edgecolor='k')\n",
        "plt.title(\"Границы решений дерева\")\n",
        "plt.xlabel(iris.feature_names[0])\n",
        "plt.ylabel(iris.feature_names[2])\n",
        "plt.show()"
      ],
      "id": "npgRdG0tr4Uk"
    },
    {
      "cell_type": "markdown",
      "metadata": {
        "id": "zycVpSzHr4Ul"
      },
      "source": [
        "---\n",
        "\n",
        "## 🔴 Экспертный уровень (Продвинутые техники)"
      ],
      "id": "zycVpSzHr4Ul"
    },
    {
      "cell_type": "markdown",
      "metadata": {
        "id": "YiBYgtzgr4Ul"
      },
      "source": [
        "### 3.2 Анализ важности признаков"
      ],
      "id": "YiBYgtzgr4Ul"
    },
    {
      "cell_type": "code",
      "execution_count": null,
      "metadata": {
        "id": "Bd1X6pL_r4Um"
      },
      "outputs": [],
      "source": [
        "# Важность на основе снижения нечистоты\n",
        "importances = clf.feature_importances_\n",
        "\n",
        "# Перестановочная важность\n",
        "from sklearn.inspection import permutation_importance\n",
        "\n",
        "result = permutation_importance(clf, X_test, y_test, n_repeats=10)\n",
        "perm_importances = result.importances_mean\n",
        "\n",
        "# Визуализация\n",
        "fig, ax = plt.subplots(1, 2, figsize=(14, 5))\n",
        "ax[0].barh(iris.feature_names, importances)\n",
        "ax[0].set_title('Важность по Gini')\n",
        "ax[1].barh(iris.feature_names, perm_importances)\n",
        "ax[1].set_title('Перестановочная важность')\n",
        "plt.show()"
      ],
      "id": "Bd1X6pL_r4Um"
    },
    {
      "cell_type": "markdown",
      "metadata": {
        "id": "KrrBi8oYr4Um"
      },
      "source": [
        "### 3.3 Оптимизация гиперпараметров"
      ],
      "id": "KrrBi8oYr4Um"
    },
    {
      "cell_type": "code",
      "execution_count": null,
      "metadata": {
        "id": "tKjMLxA3r4Um"
      },
      "outputs": [],
      "source": [
        "from sklearn.model_selection import GridSearchCV\n",
        "\n",
        "param_grid = {\n",
        "    'max_depth': [3, 5, 7, None],\n",
        "    'min_samples_split': [2, 5, 10],\n",
        "    'criterion': ['gini', 'entropy']\n",
        "}\n",
        "\n",
        "grid_search = GridSearchCV(DecisionTreeClassifier(), param_grid, cv=5)\n",
        "gs = grid_search.fit(X_train, y_train)\n",
        "\n",
        "print(f\"Лучшие параметры: {grid_search.best_params_}\")\n",
        "print(f\"Точность: {grid_search.best_score_:.3f}\")"
      ],
      "id": "tKjMLxA3r4Um"
    },
    {
      "cell_type": "markdown",
      "metadata": {
        "id": "1A97DYAIr4Um"
      },
      "source": [
        "### 3.4 Построение деревьев с GPU"
      ],
      "id": "1A97DYAIr4Um"
    },
    {
      "cell_type": "code",
      "execution_count": null,
      "metadata": {
        "id": "VzTtPGoFr4Un"
      },
      "outputs": [],
      "source": [
        "# Использование cuML для GPU-ускорения\n",
        "# !pip install cuml\n",
        "\n",
        "# from cuml import DecisionTreeClassifier as cuDecisionTreeClassifier\n",
        "\n",
        "# gpu_tree = cuDecisionTreeClassifier(max_depth=5)\n",
        "# gpu_tree.fit(X_train, y_train)\n",
        "# print(f\"GPU Accuracy: {gpu_tree.score(X_test, y_test):.3f}\")"
      ],
      "id": "VzTtPGoFr4Un"
    },
    {
      "cell_type": "markdown",
      "metadata": {
        "id": "c9aqPZi2r4Un"
      },
      "source": [
        "---\n",
        "\n",
        "## 📊 Чеклист по уровням\n",
        "\n",
        "| Уровень | Навыки |\n",
        "|---------|--------|\n",
        "| 🟢 | Понимание Gini/энтропии, построение деревьев в sklearn |\n",
        "| 🟡 | Ручная реализация IG, визуализация границ |\n",
        "| 🔴 | Кастомные критерии, анализ важности, GPU-ускорение |"
      ],
      "id": "c9aqPZi2r4Un"
    },
    {
      "cell_type": "markdown",
      "metadata": {
        "id": "_xxLtDa_r4Un"
      },
      "source": [
        "---\n",
        "\n",
        "## ⚠️ Антипаттерны\n",
        "1. **Переобучение** без ограничения глубины\n",
        "2. **Игнорирование несбалансированных классов**\n",
        "3. **Использование деревьев без пост-обрейки**\n",
        "4. **Интерпретация важности как причинности**"
      ],
      "id": "_xxLtDa_r4Un"
    },
    {
      "cell_type": "markdown",
      "metadata": {
        "id": "e87kDSZXr4Un"
      },
      "source": [
        "---\n",
        "\n",
        "## 🚀 Продвинутые советы"
      ],
      "id": "e87kDSZXr4Un"
    },
    {
      "cell_type": "code",
      "execution_count": null,
      "metadata": {
        "id": "44t0q1bur4Un"
      },
      "outputs": [],
      "source": [
        "# Контроль переобучения:\n",
        "clf = DecisionTreeClassifier(\n",
        "    ccp_alpha=0.02,  # Параметр обрезки\n",
        "    min_samples_leaf=5,  # Минимум объектов в листе\n",
        "    max_leaf_nodes=20  # Максимум листьев\n",
        ")\n",
        "\n",
        "from sklearn.datasets import load_iris\n",
        "\n",
        "# Загружаем данные\n",
        "iris = load_iris()\n",
        "X, y = iris.data, iris.target\n",
        "\n",
        "# Разделяем на train/test\n",
        "from sklearn.model_selection import train_test_split\n",
        "X_train, X_test, y_train, y_test = train_test_split(X, y, test_size=0.2)\n",
        "\n",
        "# Создаем и обучаем модель\n",
        "clf = DecisionTreeClassifier()\n",
        "clf.fit(X_train, y_train)  # ✅ Обучение\n"
      ],
      "id": "44t0q1bur4Un"
    },
    {
      "cell_type": "code",
      "execution_count": null,
      "metadata": {
        "id": "rNOpBUO8r4Uo"
      },
      "outputs": [],
      "source": [
        "# Визуализация через Graphviz:\n",
        "from sklearn.tree import export_graphviz\n",
        "import graphviz\n",
        "\n",
        "dot_data = export_graphviz(clf, out_file=None,\n",
        "                          feature_names=iris.feature_names,\n",
        "                          class_names=iris.target_names,\n",
        "                          filled=True)\n",
        "graph = graphviz.Source(dot_data)\n",
        "graph.render(\"iris_tree\")\n",
        "display(graph)"
      ],
      "id": "rNOpBUO8r4Uo"
    },
    {
      "cell_type": "code",
      "execution_count": null,
      "metadata": {
        "id": "Cgl8byhJr4Uo"
      },
      "outputs": [],
      "source": [
        "# Ансамблирование деревьев:\n",
        "from sklearn.ensemble import RandomForestClassifier\n",
        "rf = RandomForestClassifier(n_estimators=100)"
      ],
      "id": "Cgl8byhJr4Uo"
    },
    {
      "cell_type": "markdown",
      "metadata": {
        "id": "GVPULqr1r4Uo"
      },
      "source": [
        "---\n",
        "\n",
        "## 📌 Тренировочные задания\n",
        "\n",
        "### 🟢 Базовый уровень\n",
        "1. Постройте дерево решений для датасета Wine (sklearn.datasets.load_wine) с max_depth=2.\n",
        "2. Рассчитайте вручную индекс Джини для узла с распределением классов [20, 10, 5].\n",
        "\n",
        "### 🟡 Продвинутый уровень\n",
        "1. Реализуйте функцию расчета энтропии для многоклассовой задачи.\n",
        "2. Визуализируйте границы решений для датасета Moons (make_moons).\n",
        "\n",
        "### 🔴 Экспертный уровень\n",
        "1. Создайте кастомный критерий на основе коэффициента вариации.\n",
        "2. Сравните скорость обучения на CPU и GPU для датасета 1M строк."
      ],
      "id": "GVPULqr1r4Uo"
    },
    {
      "cell_type": "markdown",
      "metadata": {
        "id": "rXAOkPVqr4Uo"
      },
      "source": [
        "---\n",
        "\n",
        "### 🟢 Задания 2"
      ],
      "id": "rXAOkPVqr4Uo"
    },
    {
      "cell_type": "code",
      "execution_count": null,
      "metadata": {
        "id": "nzdFcu11r4Uo"
      },
      "outputs": [],
      "source": [
        "def manual_gini(class_counts):\n",
        "    total = sum(class_counts)\n",
        "    proportions = np.array(class_counts) / total\n",
        "    return 1 - sum(proportions**2)\n",
        "\n",
        "print(f\"Gini: {manual_gini([20, 10, 5]):.3f}\")\n",
        "# Расчет: proportions = [20/35, 10/35, 5/35] ≈ [0.57, 0.29, 0.14]\n",
        "# Gini = 1 - (0.57² + 0.29² + 0.14²) = 1 - (0.325 + 0.084 + 0.020) = 0.571"
      ],
      "id": "nzdFcu11r4Uo"
    },
    {
      "cell_type": "markdown",
      "metadata": {
        "id": "g5fYN7MDr4Uo"
      },
      "source": [
        "---\n",
        "\n",
        "## 📌 Заключение\n",
        "Ключевые принципы:\n",
        "1. **Gini быстрее энтропии** (без логарифмов)\n",
        "2. **Деревья склонны к переобучению** → всегда используйте ограничения\n",
        "3. **Важность признаков** помогает в feature selection\n",
        "4. **Интерпретируемость** - главное преимущество перед сложными моделями\n",
        "\n",
        "Деревья решений - фундамент для:\n",
        "- Случайных лесов\n",
        "- Градиентного бустинга\n",
        "- Ансамблевых методов\n",
        "\n",
        "Помните: простота ≠ примитивность! Грамотно настроенные деревья могут бить нейросети на табличных данных."
      ],
      "id": "g5fYN7MDr4Uo"
    }
  ],
  "metadata": {
    "kernelspec": {
      "display_name": "Python 3",
      "language": "python",
      "name": "python3"
    },
    "language_info": {
      "codemirror_mode": {
        "name": "ipython",
        "version": 3
      },
      "file_extension": ".py",
      "mimetype": "text/x-python",
      "name": "python",
      "nbconvert_exporter": "python",
      "pygments_lexer": "ipython3",
      "version": "3.10.13"
    },
    "colab": {
      "provenance": [],
      "include_colab_link": true
    }
  },
  "nbformat": 4,
  "nbformat_minor": 5
}