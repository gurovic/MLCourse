{
  "cells": [
    {
      "cell_type": "markdown",
      "metadata": {
        "id": "view-in-github",
        "colab_type": "text"
      },
      "source": [
        "<a href=\"https://colab.research.google.com/github/gurovic/MLCourse/blob/main/150_learning_curves.ipynb\" target=\"_parent\"><img src=\"https://colab.research.google.com/assets/colab-badge.svg\" alt=\"Open In Colab\"/></a>"
      ]
    },
    {
      "cell_type": "markdown",
      "metadata": {
        "id": "98ekvIX1S9S7"
      },
      "source": [
        "# Кривые обучения"
      ]
    },
    {
      "cell_type": "markdown",
      "metadata": {
        "id": "1wkuPgjlS9S_"
      },
      "source": [
        "## 1. Импорт необходимых библиотек"
      ]
    },
    {
      "cell_type": "code",
      "execution_count": null,
      "metadata": {
        "id": "-DOUfv5aS9TA"
      },
      "outputs": [],
      "source": [
        "import numpy as np\n",
        "import matplotlib.pyplot as plt\n",
        "from sklearn.model_selection import learning_curve\n",
        "from sklearn.linear_model import LogisticRegression\n",
        "from sklearn.datasets import load_digits\n",
        "from sklearn.preprocessing import StandardScaler\n",
        "from sklearn.pipeline import make_pipeline"
      ]
    },
    {
      "cell_type": "markdown",
      "metadata": {
        "id": "Nq56UHWsS9TD"
      },
      "source": [
        "## 2. Загрузка и подготовка данных"
      ]
    },
    {
      "cell_type": "code",
      "execution_count": null,
      "metadata": {
        "id": "n1e6nTx9S9TE"
      },
      "outputs": [],
      "source": [
        "# Загрузка датасета цифр\n",
        "X, y = load_digits(return_X_y=True)\n",
        "\n",
        "# Масштабирование данных\n",
        "scaler = StandardScaler()\n",
        "X_scaled = scaler.fit_transform(X)\n",
        "\n",
        "print(f\"Размерность данных: {X_scaled.shape}\")\n",
        "print(f\"Количество классов: {len(np.unique(y))}\")"
      ]
    },
    {
      "cell_type": "markdown",
      "metadata": {
        "id": "2NerYe06S9TG"
      },
      "source": [
        "## 3. Построение кривых обучения"
      ]
    },
    {
      "cell_type": "code",
      "execution_count": null,
      "metadata": {
        "id": "aLe1ipOFS9TH"
      },
      "outputs": [],
      "source": [
        "# Создаем конвейер с масштабированием и логистической регрессией\n",
        "model = make_pipeline(\n",
        "    StandardScaler(),\n",
        "    LogisticRegression(max_iter=10000, multi_class='ovr', solver='liblinear')\n",
        ")\n",
        "\n",
        "# Вычисляем кривые обучения\n",
        "train_sizes, train_scores, test_scores = learning_curve(\n",
        "    estimator=model,\n",
        "    X=X,\n",
        "    y=y,\n",
        "    train_sizes=np.linspace(0.1, 1.0, 10),\n",
        "    cv=5,\n",
        "    n_jobs=-1,\n",
        "    scoring='accuracy'\n",
        ")\n",
        "\n",
        "# Вычисляем средние значения и стандартные отклонения\n",
        "train_mean = np.mean(train_scores, axis=1)\n",
        "train_std = np.std(train_scores, axis=1)\n",
        "test_mean = np.mean(test_scores, axis=1)\n",
        "test_std = np.std(test_scores, axis=1)"
      ]
    },
    {
      "cell_type": "markdown",
      "metadata": {
        "id": "rlksTjTFS9TI"
      },
      "source": [
        "## 4. Визуализация кривых обучения"
      ]
    },
    {
      "cell_type": "code",
      "execution_count": null,
      "metadata": {
        "id": "j1495X7hS9TJ"
      },
      "outputs": [],
      "source": [
        "plt.figure(figsize=(10, 6))\n",
        "plt.plot(train_sizes, train_mean, color='blue', marker='o', markersize=5, label='Training accuracy')\n",
        "plt.fill_between(train_sizes, train_mean + train_std, train_mean - train_std, alpha=0.15, color='blue')\n",
        "\n",
        "plt.plot(train_sizes, test_mean, color='green', linestyle='--', marker='s', markersize=5, label='Validation accuracy')\n",
        "plt.fill_between(train_sizes, test_mean + test_std, test_mean - test_std, alpha=0.15, color='green')\n",
        "\n",
        "plt.grid(True)\n",
        "plt.xlabel('Number of training samples')\n",
        "plt.ylabel('Accuracy')\n",
        "plt.legend(loc='lower right')\n",
        "plt.title('Learning Curves for Logistic Regression')\n",
        "plt.ylim([0.8, 1.03])\n",
        "plt.show()"
      ]
    },
    {
      "cell_type": "markdown",
      "metadata": {
        "id": "t9OPpKsGS9TJ"
      },
      "source": [
        "## 5. Анализ результатов"
      ]
    },
    {
      "cell_type": "markdown",
      "metadata": {
        "id": "EvaRh159S9TK"
      },
      "source": [
        "### 5.1 Интерпретация кривых\n",
        "\n",
        "1. **Хорошая сходимость**: если обе кривые сходятся к близким значениям точности\n",
        "2. **Переобучение**: если тренировочная точность значительно выше валидационной\n",
        "3. **Недообучение**: если обе кривые сходятся к низкой точности\n",
        "\n",
        "### 5.2 Рекомендации по улучшению\n",
        "\n",
        "- **При переобучении**:\n",
        "  - Увеличить размер обучающей выборки\n",
        "  - Добавить регуляризацию\n",
        "  - Упростить модель\n",
        "  \n",
        "- **При недообучении**:\n",
        "  - Добавить новые признаки\n",
        "  - Усложнить модель\n",
        "  - Уменьшить регуляризацию"
      ]
    },
    {
      "cell_type": "markdown",
      "metadata": {
        "id": "kl_I68NfS9TK"
      },
      "source": [
        "## 6. Дополнительные варианты кривых обучения"
      ]
    },
    {
      "cell_type": "code",
      "execution_count": null,
      "metadata": {
        "id": "vAZsXmOzS9TL"
      },
      "outputs": [],
      "source": [
        "from sklearn.model_selection import validation_curve\n",
        "\n",
        "# Исследуем влияние параметра C (обратная регуляризация)\n",
        "param_range = np.logspace(-4, 4, 9)\n",
        "train_scores, test_scores = validation_curve(\n",
        "    estimator=model,\n",
        "    X=X,\n",
        "    y=y,\n",
        "    param_name='logisticregression__C',\n",
        "    param_range=param_range,\n",
        "    cv=5,\n",
        "    scoring='accuracy',\n",
        "    n_jobs=-1\n",
        ")\n",
        "\n",
        "# Вычисляем средние и стандартные отклонения\n",
        "train_mean = np.mean(train_scores, axis=1)\n",
        "train_std = np.std(train_scores, axis=1)\n",
        "test_mean = np.mean(test_scores, axis=1)\n",
        "test_std = np.std(test_scores, axis=1)\n",
        "\n",
        "# Визуализация\n",
        "plt.figure(figsize=(10, 6))\n",
        "plt.semilogx(param_range, train_mean, label='Training accuracy', color='blue', marker='o')\n",
        "plt.fill_between(param_range, train_mean + train_std, train_mean - train_std, alpha=0.15, color='blue')\n",
        "\n",
        "plt.semilogx(param_range, test_mean, label='Validation accuracy', color='green', marker='s', linestyle='--')\n",
        "plt.fill_between(param_range, test_mean + test_std, test_mean - test_std, alpha=0.15, color='green')\n",
        "\n",
        "plt.grid(True)\n",
        "plt.xlabel('Parameter C')\n",
        "plt.ylabel('Accuracy')\n",
        "plt.legend(loc='lower right')\n",
        "plt.title('Validation Curve for Logistic Regression')\n",
        "plt.ylim([0.8, 1.0])\n",
        "plt.show()"
      ]
    },
    {
      "cell_type": "markdown",
      "metadata": {
        "id": "aTIgvMCBS9TL"
      },
      "source": [
        "## 7. Практические задания"
      ]
    },
    {
      "cell_type": "markdown",
      "metadata": {
        "id": "8QyAlZj5S9TM"
      },
      "source": [
        "1. Постройте кривые обучения для модели SVM с RBF-ядром\n",
        "2. Исследуйте влияние параметра gamma в SVM на кривые обучения\n",
        "3. Сравните кривые обучения для дерева решений с разной глубиной\n",
        "4. Реализуйте функцию для автоматического определения пере/недообучения по кривым"
      ]
    },
    {
      "cell_type": "code",
      "execution_count": null,
      "metadata": {
        "id": "9zx_1LaIS9TM"
      },
      "outputs": [],
      "source": [
        "# Пример решения задания 1\n",
        "from sklearn.svm import SVC\n",
        "\n",
        "svm_model = make_pipeline(\n",
        "    StandardScaler(),\n",
        "    SVC(kernel='rbf', C=1.0, gamma=0.01)\n",
        ")\n",
        "\n",
        "train_sizes, train_scores, test_scores = learning_curve(\n",
        "    estimator=svm_model,\n",
        "    X=X,\n",
        "    y=y,\n",
        "    train_sizes=np.linspace(0.1, 1.0, 10),\n",
        "    cv=5,\n",
        "    n_jobs=-1\n",
        ")\n",
        "\n",
        "# Визуализация (аналогично предыдущему примеру)\n",
        "# ..."
      ]
    },
    {
      "cell_type": "markdown",
      "metadata": {
        "id": "sd6A4jnXS9TM"
      },
      "source": [
        "## 8. Заключение"
      ]
    },
    {
      "cell_type": "markdown",
      "metadata": {
        "id": "J66tupyWS9TN"
      },
      "source": [
        "Кривые обучения - мощный инструмент диагностики моделей машинного обучения:\n",
        "\n",
        "- Позволяют оценить достаточность данных\n",
        "- Выявляют проблемы пере/недообучения\n",
        "- Помогают подбирать оптимальные параметры моделей\n",
        "- Дают наглядное представление о поведении модели\n",
        "\n",
        "Рекомендуется строить кривые обучения для всех серьезных проектов по машинному обучению."
      ]
    }
  ],
  "metadata": {
    "kernelspec": {
      "display_name": "Python 3",
      "language": "python",
      "name": "python3"
    },
    "language_info": {
      "codemirror_mode": {
        "name": "ipython",
        "version": 3
      },
      "file_extension": ".py",
      "mimetype": "text/x-python",
      "name": "python",
      "nbconvert_exporter": "python",
      "pygments_lexer": "ipython3",
      "version": "3.8.5"
    },
    "colab": {
      "provenance": [],
      "include_colab_link": true
    }
  },
  "nbformat": 4,
  "nbformat_minor": 0
}