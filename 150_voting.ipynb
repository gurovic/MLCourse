{
  "cells": [
    {
      "cell_type": "markdown",
      "metadata": {
        "id": "view-in-github",
        "colab_type": "text"
      },
      "source": [
        "<a href=\"https://colab.research.google.com/github/gurovic/MLCourse/blob/main/150_voting.ipynb\" target=\"_parent\"><img src=\"https://colab.research.google.com/assets/colab-badge.svg\" alt=\"Open In Colab\"/></a>"
      ]
    },
    {
      "cell_type": "markdown",
      "id": "a829635b",
      "metadata": {
        "id": "a829635b"
      },
      "source": [
        "# Voting в ансамблевых моделях"
      ]
    },
    {
      "cell_type": "markdown",
      "id": "5b1c36c5",
      "metadata": {
        "id": "5b1c36c5"
      },
      "source": [
        "\n",
        "## 🟢 Зеленый уровень — Базовое понимание\n",
        "\n",
        "**Ключевая идея:**  \n",
        "Ансамбль — это когда мы берём несколько моделей и объединяем их прогнозы, чтобы получить более устойчивый и точный результат.  \n",
        "**Voting** — самый простой способ объединить результаты, похожий на «голосование» в компании друзей:  \n",
        "- Если модели выдают классы — побеждает тот класс, за который «проголосовало» большинство (Majority Voting).  \n",
        "- Если модели предсказывают числа — берём среднее значение (Averaging).  \n",
        "\n",
        "**Пример с жизнью:**  \n",
        "Представь, что трое друзей угадывают цену ноутбука. Один сказал 1000$, другой 1200$, третий 1100$. Среднее — 1100$ — и это наш итоговый прогноз.  \n",
        "\n",
        "**Два основных вида Voting:**\n",
        "1. **Hard Voting** — берём класс, набравший больше всего голосов.\n",
        "2. **Soft Voting** — берём среднее по вероятностям (и потом выбираем класс с наибольшей усреднённой вероятностью).\n"
      ]
    },
    {
      "cell_type": "markdown",
      "id": "0496c0a4",
      "metadata": {
        "id": "0496c0a4"
      },
      "source": [
        "\n",
        "**🟢 Упражнения:**\n",
        "1. У тебя есть 3 модели классификации, которые предсказывают кошка/собака:  \n",
        "   - M1: кошка, M2: собака, M3: собака.  \n",
        "   Кто победит в hard voting?\n",
        "2. Если модели выдают вероятности принадлежности к «собаке»: 0.3, 0.7, 0.8 — кто победит в soft voting?\n",
        "3. Реализуй функцию `hard_vote(predictions)` на Python, которая принимает список предсказаний и возвращает результат голосования.\n"
      ]
    },
    {
      "cell_type": "code",
      "execution_count": 1,
      "id": "7b8963e1",
      "metadata": {
        "colab": {
          "base_uri": "https://localhost:8080/"
        },
        "id": "7b8963e1",
        "outputId": "1e26565d-4c48-4b15-d5e1-fd13cc7a9c30"
      },
      "outputs": [
        {
          "output_type": "stream",
          "name": "stdout",
          "text": [
            "dog\n"
          ]
        }
      ],
      "source": [
        "\n",
        "from collections import Counter\n",
        "\n",
        "def hard_vote(predictions):\n",
        "    counts = Counter(predictions)\n",
        "    return counts.most_common(1)[0][0]\n",
        "\n",
        "# Пример использования:\n",
        "preds = [\"cat\", \"dog\", \"dog\"]\n",
        "print(hard_vote(preds))\n"
      ]
    },
    {
      "cell_type": "markdown",
      "id": "ba704f16",
      "metadata": {
        "id": "ba704f16"
      },
      "source": [
        "\n",
        "## 🟡 Жёлтый уровень — Чуть глубже\n",
        "\n",
        "**Проблема одной модели:**  \n",
        "- Может быть переобучение.\n",
        "- Может быть нестабильна к шуму в данных.\n",
        "\n",
        "**Почему Voting помогает:**  \n",
        "- Ошибки отдельных моделей могут «гасить» друг друга.\n",
        "- Если модели разнообразны (разные алгоритмы, разные признаки, разные обучающие выборки), то объединение почти всегда работает лучше, чем любая модель по отдельности.\n",
        "\n",
        "**Soft vs Hard Voting — нюанс:**  \n",
        "Soft Voting обычно работает лучше, **если** модели умеют выдавать вероятности, потому что учитывает уверенность.  \n",
        "Hard Voting игнорирует уверенность, но работает, даже если модели выдают только «метки».\n",
        "\n",
        "**Когда Voting не помогает:**\n",
        "- Если все модели одинаковые и делают одинаковые ошибки.\n",
        "- Если модели слабо лучше случайного угадывания (тогда ошибки не гасятся).\n"
      ]
    },
    {
      "cell_type": "code",
      "execution_count": 4,
      "id": "0002861a",
      "metadata": {
        "colab": {
          "base_uri": "https://localhost:8080/",
          "height": 193
        },
        "id": "0002861a",
        "outputId": "0d599973-4612-48a8-bf6a-15f4abf4ef16"
      },
      "outputs": [
        {
          "output_type": "error",
          "ename": "NameError",
          "evalue": "name 'X_train' is not defined",
          "traceback": [
            "\u001b[0;31m---------------------------------------------------------------------------\u001b[0m",
            "\u001b[0;31mNameError\u001b[0m                                 Traceback (most recent call last)",
            "\u001b[0;32m/tmp/ipython-input-2180338949.py\u001b[0m in \u001b[0;36m<cell line: 0>\u001b[0;34m()\u001b[0m\n\u001b[1;32m     14\u001b[0m )\n\u001b[1;32m     15\u001b[0m \u001b[0;34m\u001b[0m\u001b[0m\n\u001b[0;32m---> 16\u001b[0;31m \u001b[0meclf\u001b[0m\u001b[0;34m.\u001b[0m\u001b[0mfit\u001b[0m\u001b[0;34m(\u001b[0m\u001b[0mX_train\u001b[0m\u001b[0;34m,\u001b[0m \u001b[0my_train\u001b[0m\u001b[0;34m)\u001b[0m\u001b[0;34m\u001b[0m\u001b[0;34m\u001b[0m\u001b[0m\n\u001b[0m\u001b[1;32m     17\u001b[0m \u001b[0mprint\u001b[0m\u001b[0;34m(\u001b[0m\u001b[0meclf\u001b[0m\u001b[0;34m.\u001b[0m\u001b[0mscore\u001b[0m\u001b[0;34m(\u001b[0m\u001b[0mX_test\u001b[0m\u001b[0;34m,\u001b[0m \u001b[0my_test\u001b[0m\u001b[0;34m)\u001b[0m\u001b[0;34m)\u001b[0m\u001b[0;34m\u001b[0m\u001b[0;34m\u001b[0m\u001b[0m\n",
            "\u001b[0;31mNameError\u001b[0m: name 'X_train' is not defined"
          ]
        }
      ],
      "source": [
        "\n",
        "from sklearn.ensemble import VotingClassifier\n",
        "from sklearn.linear_model import LogisticRegression\n",
        "from sklearn.tree import DecisionTreeClassifier\n",
        "from sklearn.svm import SVC\n",
        "\n",
        "# Пример: Soft Voting в sklearn\n",
        "clf1 = LogisticRegression()\n",
        "clf2 = DecisionTreeClassifier()\n",
        "clf3 = SVC(probability=True)\n",
        "\n",
        "eclf = VotingClassifier(\n",
        "    estimators=[('lr', clf1), ('dt', clf2), ('svc', clf3)],\n",
        "    voting='soft'\n",
        ")\n",
        "\n",
        "# eclf.fit(X_train, y_train)\n",
        "# print(eclf.score(X_test, y_test))\n"
      ]
    },
    {
      "cell_type": "markdown",
      "id": "ca2a138a",
      "metadata": {
        "id": "ca2a138a"
      },
      "source": [
        "\n",
        "**🟡 Упражнения:**\n",
        "1. Объясни, почему Voting особенно полезен, если у моделей высокая дисперсия ошибок.\n",
        "2. Придумай способ сделать модели более разнообразными перед голосованием.\n",
        "3. Измени код выше так, чтобы использовать hard voting, и проверь, как изменится точность.\n"
      ]
    },
    {
      "cell_type": "markdown",
      "id": "d3de1e8f",
      "metadata": {
        "id": "d3de1e8f"
      },
      "source": [
        "\n",
        "## 🔴 Красный уровень — Для любопытных и амбициозных\n",
        "\n",
        "**Математическая идея (без страшных формул):**  \n",
        "Пусть вероятность, что одна модель ошибается, — `p`.  \n",
        "Если ошибки независимы, то вероятность, что ансамбль из `n` моделей (при нечётном `n`) ошибётся, равна:\n",
        "\n",
        "$$\n",
        "P_{ensemble} = \\sum_{k = \\frac{n+1}{2}}^n \\binom{n}{k} p^k (1-p)^{n-k}\n",
        "$$\n",
        "\n",
        "Это биномиальное распределение — оно показывает, что даже если `p < 0.5`, ансамбль может сильно снизить ошибку.\n",
        "\n",
        "**Интересный момент:**  \n",
        "- Voting — это частный случай **Bagging**, если обучаем одинаковые алгоритмы на разных подвыборках и просто голосуем.\n",
        "- Можно сделать **взвешенное голосование** (Weighted Voting), когда у каждой модели свой вес, пропорциональный её точности.\n",
        "- В реальности ошибки моделей часто коррелированы, поэтому реальное улучшение меньше, чем в идеальной теории.\n",
        "\n",
        "**Продвинутая идея:**  \n",
        "Voting — это **не обязательно про классификацию**.  \n",
        "В регрессии мы можем брать среднее, медиану или даже более сложные агрегаторы (например, усечённое среднее, которое игнорирует крайние значения).\n"
      ]
    },
    {
      "cell_type": "code",
      "execution_count": 5,
      "id": "d93303f2",
      "metadata": {
        "colab": {
          "base_uri": "https://localhost:8080/"
        },
        "id": "d93303f2",
        "outputId": "946f2a56-295a-490b-f6f7-d41cb476ae14"
      },
      "outputs": [
        {
          "output_type": "stream",
          "name": "stdout",
          "text": [
            "0.216\n"
          ]
        }
      ],
      "source": [
        "\n",
        "import math\n",
        "\n",
        "def ensemble_error_prob(p, n):\n",
        "    total = 0\n",
        "    for k in range((n+1)//2, n+1):\n",
        "        total += math.comb(n, k) * (p**k) * ((1-p)**(n-k))\n",
        "    return total\n",
        "\n",
        "# Пример: p=0.3, n=3\n",
        "print(ensemble_error_prob(0.3, 3))\n"
      ]
    },
    {
      "cell_type": "markdown",
      "id": "cc57fbe7",
      "metadata": {
        "id": "cc57fbe7"
      },
      "source": [
        "\n",
        "**🔴 Упражнения:**\n",
        "1. Если `p = 0.3`, `n = 3`, посчитай вероятность ошибки ансамбля при независимых ошибках.\n",
        "2. Реализуй взвешенное голосование для трёх моделей с весами 0.5, 0.3, 0.2.\n",
        "3. Придумай пример, когда soft voting даст неправильный результат, хотя hard voting даст правильный.\n",
        "4. Поиграйтесь с синтетическими данными и оцените, как корреляция ошибок между моделями влияет на выигрыш от Voting.\n"
      ]
    }
  ],
  "metadata": {
    "colab": {
      "provenance": [],
      "include_colab_link": true
    },
    "language_info": {
      "name": "python"
    },
    "kernelspec": {
      "name": "python3",
      "display_name": "Python 3"
    }
  },
  "nbformat": 4,
  "nbformat_minor": 5
}