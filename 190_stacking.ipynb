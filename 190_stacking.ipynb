{
  "cells": [
    {
      "cell_type": "markdown",
      "metadata": {
        "id": "view-in-github",
        "colab_type": "text"
      },
      "source": [
        "<a href=\"https://colab.research.google.com/github/gurovic/MLCourse/blob/main/190_stacking.ipynb\" target=\"_parent\"><img src=\"https://colab.research.google.com/assets/colab-badge.svg\" alt=\"Open In Colab\"/></a>"
      ]
    },
    {
      "cell_type": "markdown",
      "id": "4f262a78",
      "metadata": {
        "id": "4f262a78"
      },
      "source": [
        "# Стекинг (Stacking): с CatBoost и другими моделями"
      ]
    },
    {
      "cell_type": "markdown",
      "id": "15e5c289",
      "metadata": {
        "id": "15e5c289"
      },
      "source": [
        "\n",
        "## 🟢 Зеленый уровень — Базовое понимание\n",
        "\n",
        "**Что такое стекинг?**  \n",
        "Стекинг (*stacking*) — это метод ансамблирования, когда мы комбинируем несколько разных моделей (*базовых моделей*) с помощью ещё одной модели (*мета-модели*), которая учится на их предсказаниях.\n",
        "\n",
        "**Пример с жизнью:**  \n",
        "Представь, что у тебя есть три друга: программист, математик и аналитик. Каждый даёт свой прогноз, а ты нанимаешь «супер-друга», который учится правильно взвешивать их ответы, чтобы получить самый точный итог.\n",
        "\n",
        "**Схема:**\n",
        "1. Обучаем несколько **разных** моделей на исходных данных.\n",
        "2. Получаем их предсказания.\n",
        "3. Используем эти предсказания как новые признаки для **мета-модели**.\n",
        "4. Мета-модель делает финальный прогноз.\n",
        "\n",
        "**Почему это круто:**\n",
        "- Стекинг объединяет сильные стороны разных алгоритмов.\n",
        "- Может дать прирост качества, даже если Voting не помог.\n"
      ]
    },
    {
      "cell_type": "code",
      "execution_count": null,
      "id": "82145fe4",
      "metadata": {
        "colab": {
          "base_uri": "https://localhost:8080/"
        },
        "id": "82145fe4",
        "outputId": "7aea0951-7fb6-4aa0-f7d5-4959e213bd63"
      },
      "outputs": [
        {
          "output_type": "stream",
          "name": "stdout",
          "text": [
            "Collecting catboost\n",
            "  Downloading catboost-1.2.8-cp311-cp311-manylinux2014_x86_64.whl.metadata (1.2 kB)\n",
            "Requirement already satisfied: graphviz in /usr/local/lib/python3.11/dist-packages (from catboost) (0.21)\n",
            "Requirement already satisfied: matplotlib in /usr/local/lib/python3.11/dist-packages (from catboost) (3.10.0)\n",
            "Requirement already satisfied: numpy<3.0,>=1.16.0 in /usr/local/lib/python3.11/dist-packages (from catboost) (2.0.2)\n",
            "Requirement already satisfied: pandas>=0.24 in /usr/local/lib/python3.11/dist-packages (from catboost) (2.2.2)\n",
            "Requirement already satisfied: scipy in /usr/local/lib/python3.11/dist-packages (from catboost) (1.16.1)\n",
            "Requirement already satisfied: plotly in /usr/local/lib/python3.11/dist-packages (from catboost) (5.24.1)\n",
            "Requirement already satisfied: six in /usr/local/lib/python3.11/dist-packages (from catboost) (1.17.0)\n",
            "Requirement already satisfied: python-dateutil>=2.8.2 in /usr/local/lib/python3.11/dist-packages (from pandas>=0.24->catboost) (2.9.0.post0)\n",
            "Requirement already satisfied: pytz>=2020.1 in /usr/local/lib/python3.11/dist-packages (from pandas>=0.24->catboost) (2025.2)\n",
            "Requirement already satisfied: tzdata>=2022.7 in /usr/local/lib/python3.11/dist-packages (from pandas>=0.24->catboost) (2025.2)\n",
            "Requirement already satisfied: contourpy>=1.0.1 in /usr/local/lib/python3.11/dist-packages (from matplotlib->catboost) (1.3.3)\n",
            "Requirement already satisfied: cycler>=0.10 in /usr/local/lib/python3.11/dist-packages (from matplotlib->catboost) (0.12.1)\n",
            "Requirement already satisfied: fonttools>=4.22.0 in /usr/local/lib/python3.11/dist-packages (from matplotlib->catboost) (4.59.0)\n",
            "Requirement already satisfied: kiwisolver>=1.3.1 in /usr/local/lib/python3.11/dist-packages (from matplotlib->catboost) (1.4.8)\n",
            "Requirement already satisfied: packaging>=20.0 in /usr/local/lib/python3.11/dist-packages (from matplotlib->catboost) (25.0)\n",
            "Requirement already satisfied: pillow>=8 in /usr/local/lib/python3.11/dist-packages (from matplotlib->catboost) (11.3.0)\n",
            "Requirement already satisfied: pyparsing>=2.3.1 in /usr/local/lib/python3.11/dist-packages (from matplotlib->catboost) (3.2.3)\n",
            "Requirement already satisfied: tenacity>=6.2.0 in /usr/local/lib/python3.11/dist-packages (from plotly->catboost) (8.5.0)\n",
            "Downloading catboost-1.2.8-cp311-cp311-manylinux2014_x86_64.whl (99.2 MB)\n",
            "\u001b[2K   \u001b[90m━━━━━━━━━━━━━━━━━━━━━━━━━━━━━━━━━━━━━━━━\u001b[0m \u001b[32m99.2/99.2 MB\u001b[0m \u001b[31m6.7 MB/s\u001b[0m eta \u001b[36m0:00:00\u001b[0m\n",
            "\u001b[?25hInstalling collected packages: catboost\n",
            "Successfully installed catboost-1.2.8\n"
          ]
        }
      ],
      "source": [
        "!pip install catboost\n",
        "from sklearn.datasets import load_breast_cancer\n",
        "from sklearn.model_selection import train_test_split\n",
        "from sklearn.ensemble import StackingClassifier\n",
        "from sklearn.linear_model import LogisticRegression\n",
        "from sklearn.ensemble import RandomForestClassifier\n",
        "from catboost import CatBoostClassifier\n",
        "\n",
        "X, y = load_breast_cancer(return_X_y=True)\n",
        "X_train, X_test, y_train, y_test = train_test_split(X, y, random_state=42)\n",
        "\n",
        "cat = CatBoostClassifier(verbose=0, random_state=42)\n",
        "rf = RandomForestClassifier(random_state=42)\n",
        "lr = LogisticRegression()\n",
        "\n",
        "stack = StackingClassifier(\n",
        "    estimators=[('cat', cat), ('rf', rf)],\n",
        "    final_estimator=lr\n",
        ")\n",
        "\n",
        "stack.fit(X_train, y_train)\n",
        "stack.score(X_test, y_test)\n"
      ]
    },
    {
      "cell_type": "markdown",
      "id": "7878d628",
      "metadata": {
        "id": "7878d628"
      },
      "source": [
        "\n",
        "**🟢 Упражнения:**\n",
        "1. Добавь в стек модель `KNeighborsClassifier`.\n",
        "2. Замени мета-модель на `CatBoostClassifier`.\n",
        "3. Посмотри, как изменится точность, если убрать CatBoost из базовых моделей.\n"
      ]
    },
    {
      "cell_type": "markdown",
      "id": "8542b6aa",
      "metadata": {
        "id": "8542b6aa"
      },
      "source": [
        "\n",
        "## 🟡 Жёлтый уровень — Чуть глубже\n",
        "\n",
        "**Почему просто Voting иногда хуже Стекинга:**  \n",
        "- Voting — это фиксированное правило (среднее или большинство голосов).\n",
        "- Стекинг обучает мета-модель, которая может «понять», что одной модели стоит доверять больше в одних случаях, а другой — в других.\n",
        "\n",
        "**Как устроен StackingClassifier в sklearn:**\n",
        "- **Параметр `passthrough=True`** — добавляет исходные признаки к входу мета-модели.\n",
        "- **cv** — число фолдов для кросс-валидации при обучении базовых моделей (чтобы избежать утечек данных).\n"
      ]
    },
    {
      "cell_type": "code",
      "execution_count": null,
      "id": "694aeaf5",
      "metadata": {
        "id": "694aeaf5"
      },
      "outputs": [],
      "source": [
        "from xgboost import XGBClassifier\n",
        "\n",
        "xgb = XGBClassifier(use_label_encoder=False, eval_metric='logloss', random_state=42)\n",
        "\n",
        "stack2 = StackingClassifier(\n",
        "    estimators=[('cat', cat), ('xgb', xgb), ('rf', rf)],\n",
        "    final_estimator=LogisticRegression(),\n",
        "    passthrough=True,\n",
        "    cv=5\n",
        ")\n",
        "\n",
        "stack2.fit(X_train, y_train)\n",
        "stack2.score(X_test, y_test)\n"
      ]
    },
    {
      "cell_type": "markdown",
      "id": "a8631bef",
      "metadata": {
        "id": "a8631bef"
      },
      "source": [
        "\n",
        "**🟡 Упражнения:**\n",
        "1. Сравни точность стека с `passthrough=True` и `passthrough=False`.\n",
        "2. Замени мета-модель на `XGBClassifier`.\n",
        "3. Подбери `cv` и `n_estimators` для улучшения качества.\n"
      ]
    },
    {
      "cell_type": "markdown",
      "id": "d405012e",
      "metadata": {
        "id": "d405012e"
      },
      "source": [
        "\n",
        "## 🔴 Красный уровень — Для любопытных и амбициозных\n",
        "\n",
        "**Тонкости стекинга:**\n",
        "- **Data leakage** — нельзя обучать мета-модель на тех же данных, на которых базовые модели предсказывают.\n",
        "- Чтобы избежать утечки, используют *out-of-fold* предсказания.\n",
        "- CatBoost умеет работать со стекингом и категориальными признаками без one-hot кодирования.\n",
        "\n",
        "**Стекинг в реальном ML-пайплайне:**\n",
        "- Можно использовать стекинг как финальный шаг после отбора признаков.\n",
        "- Для бустингов (CatBoost, XGBoost, LightGBM) иногда выгодно ставить их в качестве **мета-модели**, а не только базовых.\n"
      ]
    },
    {
      "cell_type": "code",
      "execution_count": null,
      "id": "adc17110",
      "metadata": {
        "id": "adc17110"
      },
      "outputs": [],
      "source": [
        "import numpy as np\n",
        "from sklearn.model_selection import StratifiedKFold\n",
        "\n",
        "base_models = [CatBoostClassifier(verbose=0, random_state=42),\n",
        "               XGBClassifier(use_label_encoder=False, eval_metric='logloss', random_state=42),\n",
        "               RandomForestClassifier(random_state=42)]\n",
        "\n",
        "meta_model = LogisticRegression()\n",
        "\n",
        "kf = StratifiedKFold(n_splits=5, shuffle=True, random_state=42)\n",
        "\n",
        "meta_features = np.zeros((X_train.shape[0], len(base_models)))\n",
        "test_meta_features = np.zeros((X_test.shape[0], len(base_models)))\n",
        "\n",
        "for i, model in enumerate(base_models):\n",
        "    test_preds_fold = []\n",
        "    for train_idx, val_idx in kf.split(X_train, y_train):\n",
        "        model.fit(X_train[train_idx], y_train[train_idx])\n",
        "        meta_features[val_idx, i] = model.predict_proba(X_train[val_idx])[:, 1]\n",
        "        test_preds_fold.append(model.predict_proba(X_test)[:, 1])\n",
        "    test_meta_features[:, i] = np.mean(test_preds_fold, axis=0)\n",
        "\n",
        "meta_model.fit(meta_features, y_train)\n",
        "meta_model.score(test_meta_features, y_test)\n"
      ]
    },
    {
      "cell_type": "markdown",
      "id": "4bd77718",
      "metadata": {
        "id": "4bd77718"
      },
      "source": [
        "\n",
        "**🔴 Упражнения:**\n",
        "1. Реализуй стекинг с CatBoost в качестве мета-модели.\n",
        "2. Добавь `LightGBM` в базовые модели.\n",
        "3. Попробуй сделать стекинг для задачи регрессии.\n"
      ]
    }
  ],
  "metadata": {
    "colab": {
      "provenance": [],
      "include_colab_link": true
    },
    "language_info": {
      "name": "python"
    },
    "kernelspec": {
      "name": "python3",
      "display_name": "Python 3"
    }
  },
  "nbformat": 4,
  "nbformat_minor": 5
}