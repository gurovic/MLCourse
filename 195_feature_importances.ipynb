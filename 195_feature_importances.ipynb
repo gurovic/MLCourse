{
  "cells": [
    {
      "cell_type": "markdown",
      "metadata": {
        "id": "view-in-github",
        "colab_type": "text"
      },
      "source": [
        "<a href=\"https://colab.research.google.com/github/gurovic/MLCourse/blob/main/195_feature_importances.ipynb\" target=\"_parent\"><img src=\"https://colab.research.google.com/assets/colab-badge.svg\" alt=\"Open In Colab\"/></a>"
      ]
    },
    {
      "cell_type": "markdown",
      "id": "6e43625d",
      "metadata": {
        "id": "6e43625d"
      },
      "source": [
        "# Интерпретация: важность признаков (Feature Importances) для бэггинга и бустинга"
      ]
    },
    {
      "cell_type": "markdown",
      "id": "a074e890",
      "metadata": {
        "id": "a074e890"
      },
      "source": [
        "\n",
        "## 🟢 Зеленый уровень — Базовое понимание\n",
        "\n",
        "**Что такое «важность признаков»?**  \n",
        "Когда мы обучили модель, хочется понять, какие признаки (features) были самыми значимыми для предсказаний.  \n",
        "*Feature importance* — это численная оценка вклада каждого признака в решение модели.\n",
        "\n",
        "**В бэггинге и бустинге (например, Random Forest, XGBoost, LightGBM)** такие оценки обычно основаны на том,  \n",
        "насколько часто и сильно признак используется в деревьях для разделения данных.\n",
        "\n",
        "**Пример с жизнью:**  \n",
        "Ты выбираешь ноутбук. Для тебя важнее всего цена, чуть меньше — вес, а цвет почти не важен.  \n",
        "Если модель «думает» так же, то *price* получит высокую важность, *weight* — среднюю, *color* — маленькую.\n",
        "\n",
        "**Почему это полезно:**\n",
        "- Можно отсеять ненужные признаки.\n",
        "- Можно объяснить заказчику, что модель «решает» разумно.\n",
        "- Можно понять, куда собирать больше данных.\n"
      ]
    },
    {
      "cell_type": "code",
      "execution_count": 1,
      "id": "6b385da1",
      "metadata": {
        "colab": {
          "base_uri": "https://localhost:8080/",
          "height": 241
        },
        "id": "6b385da1",
        "outputId": "5f382432-f156-49d7-be67-2614744fe0ed"
      },
      "outputs": [
        {
          "output_type": "execute_result",
          "data": {
            "text/plain": [
              "worst area              0.139357\n",
              "worst concave points    0.132225\n",
              "mean concave points     0.107046\n",
              "worst radius            0.082848\n",
              "worst perimeter         0.080850\n",
              "dtype: float64"
            ],
            "text/html": [
              "<div>\n",
              "<style scoped>\n",
              "    .dataframe tbody tr th:only-of-type {\n",
              "        vertical-align: middle;\n",
              "    }\n",
              "\n",
              "    .dataframe tbody tr th {\n",
              "        vertical-align: top;\n",
              "    }\n",
              "\n",
              "    .dataframe thead th {\n",
              "        text-align: right;\n",
              "    }\n",
              "</style>\n",
              "<table border=\"1\" class=\"dataframe\">\n",
              "  <thead>\n",
              "    <tr style=\"text-align: right;\">\n",
              "      <th></th>\n",
              "      <th>0</th>\n",
              "    </tr>\n",
              "  </thead>\n",
              "  <tbody>\n",
              "    <tr>\n",
              "      <th>worst area</th>\n",
              "      <td>0.139357</td>\n",
              "    </tr>\n",
              "    <tr>\n",
              "      <th>worst concave points</th>\n",
              "      <td>0.132225</td>\n",
              "    </tr>\n",
              "    <tr>\n",
              "      <th>mean concave points</th>\n",
              "      <td>0.107046</td>\n",
              "    </tr>\n",
              "    <tr>\n",
              "      <th>worst radius</th>\n",
              "      <td>0.082848</td>\n",
              "    </tr>\n",
              "    <tr>\n",
              "      <th>worst perimeter</th>\n",
              "      <td>0.080850</td>\n",
              "    </tr>\n",
              "  </tbody>\n",
              "</table>\n",
              "</div><br><label><b>dtype:</b> float64</label>"
            ]
          },
          "metadata": {},
          "execution_count": 1
        }
      ],
      "source": [
        "# Пример: Важность признаков в RandomForest (базовый)\n",
        "from sklearn.datasets import load_breast_cancer\n",
        "from sklearn.ensemble import RandomForestClassifier\n",
        "import pandas as pd\n",
        "\n",
        "# Загружаем данные\n",
        "data = load_breast_cancer()\n",
        "X, y = data.data, data.target\n",
        "\n",
        "# Обучаем модель\n",
        "rf = RandomForestClassifier(n_estimators=100, random_state=42)\n",
        "rf.fit(X, y)\n",
        "\n",
        "# Получаем важности\n",
        "importances = pd.Series(rf.feature_importances_, index=data.feature_names)\n",
        "\n",
        "# Выводим топ-5\n",
        "importances.sort_values(ascending=False).head()\n"
      ]
    },
    {
      "cell_type": "markdown",
      "id": "76eef313",
      "metadata": {
        "id": "76eef313"
      },
      "source": [
        "\n",
        "**🟢 Упражнения:**\n",
        "1. Назови 3 ситуации, когда полезно знать важность признаков.\n",
        "2. Придумай пример признака, который может быть важным в задаче прогноза успеваемости школьников.\n",
        "3. Выведи топ-10 признаков и построй горизонтальный график важностей.\n"
      ]
    },
    {
      "cell_type": "code",
      "execution_count": 2,
      "id": "8e656d7e",
      "metadata": {
        "colab": {
          "base_uri": "https://localhost:8080/",
          "height": 487
        },
        "id": "8e656d7e",
        "outputId": "a499ee12-9020-4932-f6c5-2de82420fd7d"
      },
      "outputs": [
        {
          "output_type": "display_data",
          "data": {
            "text/plain": [
              "<Figure size 800x500 with 1 Axes>"
            ],
            "image/png": "[encoded data removed]"
          },
          "metadata": {}
        }
      ],
      "source": [
        "# Построение горизонтального графика важностей\n",
        "import matplotlib.pyplot as plt\n",
        "\n",
        "top10 = importances.sort_values(ascending=False).head(10)\n",
        "plt.figure(figsize=(8,5))\n",
        "top10.plot(kind='barh')\n",
        "plt.gca().invert_yaxis()\n",
        "plt.xlabel(\"Feature Importance\")\n",
        "plt.ylabel(\"Feature\")\n",
        "plt.title(\"Top 10 Feature Importances (RandomForest)\")\n",
        "plt.show()\n"
      ]
    },
    {
      "cell_type": "markdown",
      "id": "91fbfad2",
      "metadata": {
        "id": "91fbfad2"
      },
      "source": [
        "\n",
        "## 🟡 Жёлтый уровень — Чуть глубже\n",
        "\n",
        "**Как вычисляется важность признаков в деревьях:**\n",
        "1. **Gini Importance** (или *Mean Decrease in Impurity*):  \n",
        "   Считаем, насколько уменьшилась «грязь» (impurity) в узле при разбиении по признаку.\n",
        "2. **Mean Decrease Accuracy**:  \n",
        "   Перемешиваем значения одного признака в тестовых данных и смотрим, насколько упала точность.\n",
        "\n",
        "**В бэггинге** (например, Random Forest) важность усредняется по всем деревьям.  \n",
        "**В бустинге** (например, XGBoost, LightGBM) признаки, которые чаще и раньше встречаются в деревьях, обычно получают большую важность.\n",
        "\n",
        "**Важное предупреждение:**  \n",
        "- Если признаки сильно коррелированы, их важности могут «размазаться».\n",
        "- Метрики важности зависят от типа модели — нельзя напрямую сравнивать значения между алгоритмами.\n"
      ]
    },
    {
      "cell_type": "code",
      "execution_count": 4,
      "id": "eacfe2ec",
      "metadata": {
        "colab": {
          "base_uri": "https://localhost:8080/"
        },
        "id": "eacfe2ec",
        "outputId": "6a29cef8-9fcb-40c7-c4b5-a632a71697a2"
      },
      "outputs": [
        {
          "output_type": "stream",
          "name": "stdout",
          "text": [
            "RandomForest top-5:\n",
            "worst area              0.139357\n",
            "worst concave points    0.132225\n",
            "mean concave points     0.107046\n",
            "worst radius            0.082848\n",
            "worst perimeter         0.080850\n",
            "dtype: float64\n",
            "XGBoost top-5:\n",
            "worst radius            0.459267\n",
            "worst perimeter         0.211993\n",
            "mean concave points     0.097121\n",
            "worst concave points    0.068946\n",
            "worst area              0.025039\n",
            "dtype: float32\n"
          ]
        },
        {
          "output_type": "stream",
          "name": "stderr",
          "text": [
            "/usr/local/lib/python3.11/dist-packages/xgboost/training.py:183: UserWarning: [09:51:31] WARNING: /workspace/src/learner.cc:738: \n",
            "Parameters: { \"use_label_encoder\" } are not used.\n",
            "\n",
            "  bst.update(dtrain, iteration=i, fobj=obj)\n"
          ]
        }
      ],
      "source": [
        "\n",
        "# Сравнение важностей между RandomForest и XGBoost\n",
        "from xgboost import XGBClassifier\n",
        "\n",
        "xgb = XGBClassifier(n_estimators=100, random_state=42, use_label_encoder=False, eval_metric='logloss')\n",
        "xgb.fit(X, y)\n",
        "\n",
        "importances_xgb = pd.Series(xgb.feature_importances_, index=data.feature_names)\n",
        "\n",
        "# Сравниваем топ-5\n",
        "print(\"RandomForest top-5:\")\n",
        "print(importances.sort_values(ascending=False).head())\n",
        "\n",
        "print(\"XGBoost top-5:\")\n",
        "print(importances_xgb.sort_values(ascending=False).head())\n"
      ]
    },
    {
      "cell_type": "markdown",
      "id": "4e6390e9",
      "metadata": {
        "id": "4e6390e9"
      },
      "source": [
        "\n",
        "**🟡 Упражнения:**\n",
        "1. Построй два горизонтальных барчарта для RF и XGBoost на одном графике.\n",
        "2. Найди признаки, которые у RF в топ-5, но у XGBoost нет.\n",
        "3. Объясни, почему эти различия могут появляться.\n"
      ]
    },
    {
      "cell_type": "markdown",
      "id": "8a2de7e8",
      "metadata": {
        "id": "8a2de7e8"
      },
      "source": [
        "\n",
        "## 🔴 Красный уровень — Для любопытных и амбициозных\n",
        "\n",
        "**Permutation Importance:**  \n",
        "Перемешиваем значения признака и измеряем, насколько ухудшается метрика — чем сильнее падение, тем важнее признак.\n",
        "\n",
        "**Формулы для Gini Importance:**\n",
        "Если признак `j` участвует в узле `t` с количеством объектов `N_t`, а impurity в нём уменьшается на ΔI,  \n",
        "то вклад признака в важность:\n",
        "\\[\n",
        "FI_j = \\sum_{\\text{nodes t split on j}} \\frac{N_t}{N_{\\text{total}}} \\cdot \\Delta I_t\n",
        "\\]\n"
      ]
    },
    {
      "cell_type": "code",
      "execution_count": 5,
      "id": "f7b25d5a",
      "metadata": {
        "colab": {
          "base_uri": "https://localhost:8080/",
          "height": 206
        },
        "id": "f7b25d5a",
        "outputId": "1d43dd0b-19b1-458d-f9b1-53da60fcb95d"
      },
      "outputs": [
        {
          "output_type": "execute_result",
          "data": {
            "text/plain": [
              "                      Gini Importance  Permutation Importance\n",
              "mean texture                 0.015225                0.002460\n",
              "mean concave points          0.107046                0.002460\n",
              "worst concave points         0.132225                0.001757\n",
              "worst texture                0.017485                0.001757\n",
              "radius error                 0.014264                0.001582"
            ],
            "text/html": [
              "\n",
              "  <div id=\"df-81061a7b-3517-432f-be4c-b56fe55ecdff\" class=\"colab-df-container\">\n",
              "    <div>\n",
              "<style scoped>\n",
              "    .dataframe tbody tr th:only-of-type {\n",
              "        vertical-align: middle;\n",
              "    }\n",
              "\n",
              "    .dataframe tbody tr th {\n",
              "        vertical-align: top;\n",
              "    }\n",
              "\n",
              "    .dataframe thead th {\n",
              "        text-align: right;\n",
              "    }\n",
              "</style>\n",
              "<table border=\"1\" class=\"dataframe\">\n",
              "  <thead>\n",
              "    <tr style=\"text-align: right;\">\n",
              "      <th></th>\n",
              "      <th>Gini Importance</th>\n",
              "      <th>Permutation Importance</th>\n",
              "    </tr>\n",
              "  </thead>\n",
              "  <tbody>\n",
              "    <tr>\n",
              "      <th>mean texture</th>\n",
              "      <td>0.015225</td>\n",
              "      <td>0.002460</td>\n",
              "    </tr>\n",
              "    <tr>\n",
              "      <th>mean concave points</th>\n",
              "      <td>0.107046</td>\n",
              "      <td>0.002460</td>\n",
              "    </tr>\n",
              "    <tr>\n",
              "      <th>worst concave points</th>\n",
              "      <td>0.132225</td>\n",
              "      <td>0.001757</td>\n",
              "    </tr>\n",
              "    <tr>\n",
              "      <th>worst texture</th>\n",
              "      <td>0.017485</td>\n",
              "      <td>0.001757</td>\n",
              "    </tr>\n",
              "    <tr>\n",
              "      <th>radius error</th>\n",
              "      <td>0.014264</td>\n",
              "      <td>0.001582</td>\n",
              "    </tr>\n",
              "  </tbody>\n",
              "</table>\n",
              "</div>\n",
              "    <div class=\"colab-df-buttons\">\n",
              "\n",
              "  <div class=\"colab-df-container\">\n",
              "    <button class=\"colab-df-convert\" onclick=\"convertToInteractive('df-81061a7b-3517-432f-be4c-b56fe55ecdff')\"\n",
              "            title=\"Convert this dataframe to an interactive table.\"\n",
              "            style=\"display:none;\">\n",
              "\n",
              "  <svg xmlns=\"http://www.w3.org/2000/svg\" height=\"24px\" viewBox=\"0 -960 960 960\">\n",
              "    <path d=\"M120-120v-720h720v720H120Zm60-500h600v-160H180v160Zm220 220h160v-160H400v160Zm0 220h160v-160H400v160ZM180-400h160v-160H180v160Zm440 0h160v-160H620v160ZM180-180h160v-160H180v160Zm440 0h160v-160H620v160Z\"/>\n",
              "  </svg>\n",
              "    </button>\n",
              "\n",
              "  <style>\n",
              "    .colab-df-container {\n",
              "      display:flex;\n",
              "      gap: 12px;\n",
              "    }\n",
              "\n",
              "    .colab-df-convert {\n",
              "      background-color: #E8F0FE;\n",
              "      border: none;\n",
              "      border-radius: 50%;\n",
              "      cursor: pointer;\n",
              "      display: none;\n",
              "      fill: #1967D2;\n",
              "      height: 32px;\n",
              "      padding: 0 0 0 0;\n",
              "      width: 32px;\n",
              "    }\n",
              "\n",
              "    .colab-df-convert:hover {\n",
              "      background-color: #E2EBFA;\n",
              "      box-shadow: 0px 1px 2px rgba(60, 64, 67, 0.3), 0px 1px 3px 1px rgba(60, 64, 67, 0.15);\n",
              "      fill: #174EA6;\n",
              "    }\n",
              "\n",
              "    .colab-df-buttons div {\n",
              "      margin-bottom: 4px;\n",
              "    }\n",
              "\n",
              "    [theme=dark] .colab-df-convert {\n",
              "      background-color: #3B4455;\n",
              "      fill: #D2E3FC;\n",
              "    }\n",
              "\n",
              "    [theme=dark] .colab-df-convert:hover {\n",
              "      background-color: #434B5C;\n",
              "      box-shadow: 0px 1px 3px 1px rgba(0, 0, 0, 0.15);\n",
              "      filter: drop-shadow(0px 1px 2px rgba(0, 0, 0, 0.3));\n",
              "      fill: #FFFFFF;\n",
              "    }\n",
              "  </style>\n",
              "\n",
              "    <script>\n",
              "      const buttonEl =\n",
              "        document.querySelector('#df-81061a7b-3517-432f-be4c-b56fe55ecdff button.colab-df-convert');\n",
              "      buttonEl.style.display =\n",
              "        google.colab.kernel.accessAllowed ? 'block' : 'none';\n",
              "\n",
              "      async function convertToInteractive(key) {\n",
              "        const element = document.querySelector('#df-81061a7b-3517-432f-be4c-b56fe55ecdff');\n",
              "        const dataTable =\n",
              "          await google.colab.kernel.invokeFunction('convertToInteractive',\n",
              "                                                    [key], {});\n",
              "        if (!dataTable) return;\n",
              "\n",
              "        const docLinkHtml = 'Like what you see? Visit the ' +\n",
              "          '<a target=\"_blank\" href=https://colab.research.google.com/notebooks/data_table.ipynb>data table notebook</a>'\n",
              "          + ' to learn more about interactive tables.';\n",
              "        element.innerHTML = '';\n",
              "        dataTable['output_type'] = 'display_data';\n",
              "        await google.colab.output.renderOutput(dataTable, element);\n",
              "        const docLink = document.createElement('div');\n",
              "        docLink.innerHTML = docLinkHtml;\n",
              "        element.appendChild(docLink);\n",
              "      }\n",
              "    </script>\n",
              "  </div>\n",
              "\n",
              "\n",
              "    <div id=\"df-b33f2326-9db0-49dd-b3cb-e97a65864cde\">\n",
              "      <button class=\"colab-df-quickchart\" onclick=\"quickchart('df-b33f2326-9db0-49dd-b3cb-e97a65864cde')\"\n",
              "                title=\"Suggest charts\"\n",
              "                style=\"display:none;\">\n",
              "\n",
              "<svg xmlns=\"http://www.w3.org/2000/svg\" height=\"24px\"viewBox=\"0 0 24 24\"\n",
              "     width=\"24px\">\n",
              "    <g>\n",
              "        <path d=\"M19 3H5c-1.1 0-2 .9-2 2v14c0 1.1.9 2 2 2h14c1.1 0 2-.9 2-2V5c0-1.1-.9-2-2-2zM9 17H7v-7h2v7zm4 0h-2V7h2v10zm4 0h-2v-4h2v4z\"/>\n",
              "    </g>\n",
              "</svg>\n",
              "      </button>\n",
              "\n",
              "<style>\n",
              "  .colab-df-quickchart {\n",
              "      --bg-color: #E8F0FE;\n",
              "      --fill-color: #1967D2;\n",
              "      --hover-bg-color: #E2EBFA;\n",
              "      --hover-fill-color: #174EA6;\n",
              "      --disabled-fill-color: #AAA;\n",
              "      --disabled-bg-color: #DDD;\n",
              "  }\n",
              "\n",
              "  [theme=dark] .colab-df-quickchart {\n",
              "      --bg-color: #3B4455;\n",
              "      --fill-color: #D2E3FC;\n",
              "      --hover-bg-color: #434B5C;\n",
              "      --hover-fill-color: #FFFFFF;\n",
              "      --disabled-bg-color: #3B4455;\n",
              "      --disabled-fill-color: #666;\n",
              "  }\n",
              "\n",
              "  .colab-df-quickchart {\n",
              "    background-color: var(--bg-color);\n",
              "    border: none;\n",
              "    border-radius: 50%;\n",
              "    cursor: pointer;\n",
              "    display: none;\n",
              "    fill: var(--fill-color);\n",
              "    height: 32px;\n",
              "    padding: 0;\n",
              "    width: 32px;\n",
              "  }\n",
              "\n",
              "  .colab-df-quickchart:hover {\n",
              "    background-color: var(--hover-bg-color);\n",
              "    box-shadow: 0 1px 2px rgba(60, 64, 67, 0.3), 0 1px 3px 1px rgba(60, 64, 67, 0.15);\n",
              "    fill: var(--button-hover-fill-color);\n",
              "  }\n",
              "\n",
              "  .colab-df-quickchart-complete:disabled,\n",
              "  .colab-df-quickchart-complete:disabled:hover {\n",
              "    background-color: var(--disabled-bg-color);\n",
              "    fill: var(--disabled-fill-color);\n",
              "    box-shadow: none;\n",
              "  }\n",
              "\n",
              "  .colab-df-spinner {\n",
              "    border: 2px solid var(--fill-color);\n",
              "    border-color: transparent;\n",
              "    border-bottom-color: var(--fill-color);\n",
              "    animation:\n",
              "      spin 1s steps(1) infinite;\n",
              "  }\n",
              "\n",
              "  @keyframes spin {\n",
              "    0% {\n",
              "      border-color: transparent;\n",
              "      border-bottom-color: var(--fill-color);\n",
              "      border-left-color: var(--fill-color);\n",
              "    }\n",
              "    20% {\n",
              "      border-color: transparent;\n",
              "      border-left-color: var(--fill-color);\n",
              "      border-top-color: var(--fill-color);\n",
              "    }\n",
              "    30% {\n",
              "      border-color: transparent;\n",
              "      border-left-color: var(--fill-color);\n",
              "      border-top-color: var(--fill-color);\n",
              "      border-right-color: var(--fill-color);\n",
              "    }\n",
              "    40% {\n",
              "      border-color: transparent;\n",
              "      border-right-color: var(--fill-color);\n",
              "      border-top-color: var(--fill-color);\n",
              "    }\n",
              "    60% {\n",
              "      border-color: transparent;\n",
              "      border-right-color: var(--fill-color);\n",
              "    }\n",
              "    80% {\n",
              "      border-color: transparent;\n",
              "      border-right-color: var(--fill-color);\n",
              "      border-bottom-color: var(--fill-color);\n",
              "    }\n",
              "    90% {\n",
              "      border-color: transparent;\n",
              "      border-bottom-color: var(--fill-color);\n",
              "    }\n",
              "  }\n",
              "</style>\n",
              "\n",
              "      <script>\n",
              "        async function quickchart(key) {\n",
              "          const quickchartButtonEl =\n",
              "            document.querySelector('#' + key + ' button');\n",
              "          quickchartButtonEl.disabled = true;  // To prevent multiple clicks.\n",
              "          quickchartButtonEl.classList.add('colab-df-spinner');\n",
              "          try {\n",
              "            const charts = await google.colab.kernel.invokeFunction(\n",
              "                'suggestCharts', [key], {});\n",
              "          } catch (error) {\n",
              "            console.error('Error during call to suggestCharts:', error);\n",
              "          }\n",
              "          quickchartButtonEl.classList.remove('colab-df-spinner');\n",
              "          quickchartButtonEl.classList.add('colab-df-quickchart-complete');\n",
              "        }\n",
              "        (() => {\n",
              "          let quickchartButtonEl =\n",
              "            document.querySelector('#df-b33f2326-9db0-49dd-b3cb-e97a65864cde button');\n",
              "          quickchartButtonEl.style.display =\n",
              "            google.colab.kernel.accessAllowed ? 'block' : 'none';\n",
              "        })();\n",
              "      </script>\n",
              "    </div>\n",
              "\n",
              "    </div>\n",
              "  </div>\n"
            ],
            "application/vnd.google.colaboratory.intrinsic+json": {
              "type": "dataframe",
              "summary": "{\n  \"name\": \"comparison\",\n  \"rows\": 5,\n  \"fields\": [\n    {\n      \"column\": \"Gini Importance\",\n      \"properties\": {\n        \"dtype\": \"number\",\n        \"std\": 0.05765417468231823,\n        \"min\": 0.014263704023561991,\n        \"max\": 0.13222508566399135,\n        \"num_unique_values\": 5,\n        \"samples\": [\n          0.10704565721708294,\n          0.014263704023561991,\n          0.13222508566399135\n        ],\n        \"semantic_type\": \"\",\n        \"description\": \"\"\n      }\n    },\n    {\n      \"column\": \"Permutation Importance\",\n      \"properties\": {\n        \"dtype\": \"number\",\n        \"std\": 0.0004232546424883026,\n        \"min\": 0.001581722319859391,\n        \"max\": 0.002460456942003497,\n        \"num_unique_values\": 3,\n        \"samples\": [\n          0.002460456942003497,\n          0.0017574692442882123,\n          0.001581722319859391\n        ],\n        \"semantic_type\": \"\",\n        \"description\": \"\"\n      }\n    }\n  ]\n}"
            }
          },
          "metadata": {},
          "execution_count": 5
        }
      ],
      "source": [
        "# Пример: Permutation Importance\n",
        "from sklearn.inspection import permutation_importance\n",
        "\n",
        "result = permutation_importance(rf, X, y, n_repeats=10, random_state=42)\n",
        "perm_importances = pd.Series(result.importances_mean, index=data.feature_names)\n",
        "\n",
        "# Сравнение с Gini Importance\n",
        "comparison = pd.DataFrame({\n",
        "    \"Gini Importance\": importances,\n",
        "    \"Permutation Importance\": perm_importances\n",
        "})\n",
        "\n",
        "comparison.sort_values(\"Permutation Importance\", ascending=False).head()\n"
      ]
    },
    {
      "cell_type": "markdown",
      "id": "0a2d9512",
      "metadata": {
        "id": "0a2d9512"
      },
      "source": [
        "\n",
        "**🔴 Упражнения:**\n",
        "1. Построй график сравнения Gini Importance и Permutation Importance для топ-15 признаков.\n",
        "2. Найди признак, для которого разница между двумя методами максимальна, и объясни почему.\n",
        "3. Реализуй собственную функцию permutation importance для классификатора sklearn.\n"
      ]
    }
  ],
  "metadata": {
    "colab": {
      "provenance": [],
      "include_colab_link": true
    },
    "language_info": {
      "name": "python"
    },
    "kernelspec": {
      "name": "python3",
      "display_name": "Python 3"
    }
  },
  "nbformat": 4,
  "nbformat_minor": 5
}