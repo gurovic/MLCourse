{
  "cells": [
    {
      "cell_type": "markdown",
      "metadata": {
        "id": "view-in-github",
        "colab_type": "text"
      },
      "source": [
        "<a href=\"https://colab.research.google.com/github/gurovic/MLCourse/blob/main/325_creating_features.ipynb\" target=\"_parent\"><img src=\"https://colab.research.google.com/assets/colab-badge.svg\" alt=\"Open In Colab\"/></a>"
      ]
    },
    {
      "cell_type": "markdown",
      "metadata": {
        "id": "feature-engineering-header"
      },
      "source": [
        "# Создание признаков (Feature Engineering)\n",
        "\n",
        "**Цель:**  \n",
        "Научиться преобразовывать исходные данные в информативные признаки, улучшающие качество ML-моделей."
      ]
    },
    {
      "cell_type": "markdown",
      "metadata": {
        "id": "basic-methods-header"
      },
      "source": [
        "## 🟢 Базовые методы генерации признаков"
      ]
    },
    {
      "cell_type": "markdown",
      "metadata": {
        "id": "polynomial-features"
      },
      "source": [
        "### Полиномиальные признаки (для линейных моделей)  \n",
        "**Зачем:** Линейные модели (линейная регрессия, логистическая регрессия) плохо улавливают нелинейные зависимости. Полиномиальные признаки помогают решить эту проблему.  \n",
        "\n",
        "**Пример:**  \n",
        "Дан признак \\( x \\). Добавляем \\( x^2, x^3 \\) и т. д.  \n",
        "\n",
        "**Код:**"
      ]
    },
    {
      "cell_type": "code",
      "execution_count": 5,
      "metadata": {
        "id": "polynomial-features-code"
      },
      "outputs": [],
      "source": [
        "from sklearn.preprocessing import PolynomialFeatures\n",
        "\n",
        "X = [[2], [3], [4]]  # Исходный признак\n",
        "poly = PolynomialFeatures(degree=2, include_bias=False)\n",
        "X_poly = poly.fit_transform(X)  # → [[2, 4], [3, 9], [4, 16]]"
      ]
    },
    {
      "cell_type": "markdown",
      "metadata": {
        "id": "polynomial-features-notes"
      },
      "source": [
        "**Когда использовать:**  \n",
        "- Линейные модели  \n",
        "- Данные с неочевидными нелинейными зависимостями  \n",
        "\n",
        "**⚠️ Осторожно:**  \n",
        "- Может привести к переобучению при высокой степени (`degree`)  \n",
        "- Увеличивает размерность данных"
      ]
    },
    {
      "cell_type": "markdown",
      "metadata": {
        "id": "feature-interaction"
      },
      "source": [
        "### Взаимодействие признаков (Feature Interaction)  \n",
        "**Зачем:** Учесть комбинированное влияние нескольких признаков.  \n",
        "\n",
        "**Пример:**  \n",
        "Даны признаки \\( x_1 \\) (возраст) и \\( x_2 \\) (доход). Добавляем \\( x_1 \\times x_2 \\).  \n",
        "\n",
        "**Код:**"
      ]
    },
    {
      "cell_type": "code",
      "execution_count": 6,
      "metadata": {
        "id": "feature-interaction-code"
      },
      "outputs": [],
      "source": [
        "import pandas as pd\n",
        "\n",
        "df = pd.DataFrame({\"age\": [25, 30, 35], \"income\": [50000, 60000, 70000]})\n",
        "df[\"age_income_interaction\"] = df[\"age\"] * df[\"income\"]  # Новый признак"
      ]
    },
    {
      "cell_type": "markdown",
      "metadata": {
        "id": "feature-interaction-notes"
      },
      "source": [
        "**Когда использовать:**  \n",
        "- Есть предположение, что признаки влияют на целевую переменную совместно  \n",
        "- В линейных моделях и деревьях"
      ]
    },
    {
      "cell_type": "markdown",
      "metadata": {
        "id": "aggregates-header"
      },
      "source": [
        "## 🟡 Агрегаты для реляционных данных  \n",
        "**Зачем:** Если данные связаны (например, транзакции пользователей), можно создать признаки на основе статистик.  \n",
        "\n",
        "**Пример:**  \n",
        "Дан датасет транзакций. Для каждого пользователя считаем:  \n",
        "- Средний чек  \n",
        "- Количество транзакций  \n",
        "- Максимальный/минимальный платеж  \n",
        "\n",
        "**Код:**"
      ]
    },
    {
      "cell_type": "code",
      "execution_count": 7,
      "metadata": {
        "id": "aggregates-code"
      },
      "outputs": [],
      "source": [
        "transactions = pd.DataFrame({\n",
        "    \"user_id\": [1, 1, 2, 2, 2],\n",
        "    \"amount\": [100, 150, 200, 50, 300]\n",
        "})\n",
        "\n",
        "# Агрегация по пользователю\n",
        "user_stats = transactions.groupby(\"user_id\")[\"amount\"].agg([\"mean\", \"count\", \"max\"])"
      ]
    },
    {
      "cell_type": "markdown",
      "metadata": {
        "id": "aggregates-notes"
      },
      "source": [
        "**Когда использовать:**  \n",
        "- Данные с иерархией (пользователи → транзакции)  \n",
        "- Для задач классификации/регрессии, где важны групповые статистики"
      ]
    },
    {
      "cell_type": "markdown",
      "metadata": {
        "id": "datetime-header"
      },
      "source": [
        "## 🔴 Признаки из дат и времени  \n",
        "**Зачем:** Даты содержат скрытые паттерны (сезонность, тренды).  \n",
        "\n",
        "### Извлечение признаков из даты:  \n",
        "| Признак          | Пример значения |  \n",
        "|------------------|----------------|  \n",
        "| Год (`year`)     | 2023           |  \n",
        "| Месяц (`month`)  | 12 (декабрь)   |  \n",
        "| День недели (`dayofweek`) | 2 (вторник) |  \n",
        "| Часы (`hour`)    | 15 (3 PM)      |  \n",
        "\n",
        "**Код:**"
      ]
    },
    {
      "cell_type": "code",
      "execution_count": 8,
      "metadata": {
        "id": "datetime-code",
        "colab": {
          "base_uri": "https://localhost:8080/"
        },
        "outputId": "03e5bc39-1c17-4468-a213-d241892302ba"
      },
      "outputs": [
        {
          "output_type": "stream",
          "name": "stdout",
          "text": [
            "             datetime  year  month  day_of_week  is_weekend time_of_day\n",
            "0 2023-01-15 08:30:00  2023      1            6           1        Утро\n",
            "1 2023-02-20 14:45:00  2023      2            0           0        День\n",
            "2 2023-03-10 09:15:00  2023      3            4           0        Утро\n",
            "3 2023-04-05 18:20:00  2023      4            2           0       Вечер\n",
            "4 2023-05-12 11:10:00  2023      5            4           0        Утро\n"
          ]
        }
      ],
      "source": [
        "# Создаем тестовый DataFrame с датами\n",
        "data = {\n",
        "    \"transaction_id\": [1, 2, 3, 4, 5],\n",
        "    \"date_column\": [\n",
        "        \"2023-01-15 08:30:00\",\n",
        "        \"2023-02-20 14:45:00\",\n",
        "        \"2023-03-10 09:15:00\",\n",
        "        \"2023-04-05 18:20:00\",\n",
        "        \"2023-05-12 11:10:00\"\n",
        "    ],\n",
        "    \"value\": [100, 200, 150, 300, 250]\n",
        "}\n",
        "\n",
        "df = pd.DataFrame(data)\n",
        "\n",
        "# Преобразование в datetime с явным указанием формата\n",
        "df[\"datetime\"] = pd.to_datetime(\n",
        "    df[\"date_column\"],\n",
        "    format=\"%Y-%m-%d %H:%M:%S\"  # Явный формат для надежности\n",
        ")\n",
        "\n",
        "# Извлечение компонентов даты\n",
        "df[\"year\"] = df[\"datetime\"].dt.year\n",
        "df[\"month\"] = df[\"datetime\"].dt.month\n",
        "df[\"day\"] = df[\"datetime\"].dt.day\n",
        "df[\"hour\"] = df[\"datetime\"].dt.hour\n",
        "df[\"minute\"] = df[\"datetime\"].dt.minute\n",
        "df[\"day_of_week\"] = df[\"datetime\"].dt.dayofweek  # 0-6 (пн-вс)\n",
        "df[\"is_weekend\"] = df[\"day_of_week\"].isin([5, 6]).astype(int)\n",
        "\n",
        "# Дополнительные признаки\n",
        "df[\"time_of_day\"] = pd.cut(\n",
        "    df[\"hour\"],\n",
        "    bins=[0, 6, 12, 18, 24],\n",
        "    labels=[\"Ночь\", \"Утро\", \"День\", \"Вечер\"],\n",
        "    right=False\n",
        ")\n",
        "\n",
        "# Проверка результата\n",
        "print(df[[\"datetime\", \"year\", \"month\", \"day_of_week\", \"is_weekend\", \"time_of_day\"]].head())"
      ]
    },
    {
      "cell_type": "markdown",
      "metadata": {
        "id": "datetime-extra"
      },
      "source": [
        "### Дополнительные идеи:  \n",
        "- **Флаг выходного дня:**  \n",
        "  ```python\n",
        "  df[\"is_weekend\"] = df[\"day_of_week\"].isin([5, 6]).astype(int)\n",
        "  ```\n",
        "- **Время суток (утро/день/вечер):**  \n",
        "  ```python\n",
        "  df[\"time_of_day\"] = pd.cut(df[\"hour\"], bins=[0, 6, 12, 18, 24], labels=[\"ночь\", \"утро\", \"день\", \"вечер\"])\n",
        "  ```\n",
        "\n",
        "**Когда использовать:**  \n",
        "- Прогнозирование временных рядов  \n",
        "- Анализ сезонности (например, продажи, спрос)"
      ]
    },
    {
      "cell_type": "markdown",
      "metadata": {
        "id": "checklist-header"
      },
      "source": [
        "## 📊 Чеклист по уровням  \n",
        "| Уровень | Навыки | Инструменты |  \n",
        "|---------|--------|-------------|  \n",
        "| **🟢** | Полиномы, взаимодействие признаков | `PolynomialFeatures`, умножение признаков |  \n",
        "| **🟡** | Агрегация по группам | `groupby()`, `agg()` |  \n",
        "| **🔴** | Извлечение признаков из дат | `pandas.to_datetime()`, `.dt` |"
      ]
    },
    {
      "cell_type": "markdown",
      "metadata": {
        "id": "best-practices"
      },
      "source": [
        "## 💡 Полезные практики  \n",
        "1. **Автоматизация:** Используйте `FeatureUnion` и `Pipeline` в `sklearn` для удобного добавления признаков.  \n",
        "2. **Визуализация:** Стройте графики (`pairplot`, `heatmap`), чтобы проверять новые признаки.  \n",
        "3. **Отбор признаков:** Удаляйте бесполезные признаки с помощью `SelectKBest` или `VIF`."
      ]
    },
    {
      "cell_type": "markdown",
      "metadata": {
        "id": "summary"
      },
      "source": [
        "## 📌 Итог  \n",
        "1. **Полиномы** улучшают линейные модели.  \n",
        "2. **Агрегаты** помогают в задачах с реляционными данными.  \n",
        "3. **Даты** можно разложить на информативные компоненты.  \n",
        "\n",
        "> **Философия главы:**  \n",
        "> *«Хорошие признаки важнее сложных моделей. Генерация признаков — это творческий процесс, требующий понимания данных.»*  \n",
        "\n",
        "**🔜 Следующая глава:** Отбор признаков и уменьшение размерности."
      ]
    }
  ],
  "metadata": {
    "kernelspec": {
      "display_name": "Python 3",
      "language": "python",
      "name": "python3"
    },
    "language_info": {
      "codemirror_mode": {
        "name": "ipython",
        "version": 3
      },
      "file_extension": ".py",
      "mimetype": "text/x-python",
      "name": "python",
      "nbconvert_exporter": "python",
      "pygments_lexer": "ipython3",
      "version": "3.10.6"
    },
    "colab": {
      "provenance": [],
      "include_colab_link": true
    }
  },
  "nbformat": 4,
  "nbformat_minor": 0
}